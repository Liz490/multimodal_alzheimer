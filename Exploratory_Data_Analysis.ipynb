{
 "cells": [
  {
   "cell_type": "code",
   "execution_count": 112,
   "id": "be375b85",
   "metadata": {},
   "outputs": [],
   "source": [
    "import pandas as pd\n",
    "import seaborn as sns\n",
    "from datetime import datetime\n",
    "import numpy as np\n",
    "\n",
    "f_tab_adni_tau = './data/ADNI_Tau_Amyloid_SUVR_amyloid_tau_status_dems.csv'\n",
    "f_tab_pet_data = './data/Tabular_Info_PET.csv'\n",
    "\n",
    "df_adni_tau = pd.read_csv(f_tab_adni_tau, low_memory=False)\n",
    "df_pet_data = pd.read_csv(f_tab_pet_data, low_memory=False)"
   ]
  },
  {
   "cell_type": "markdown",
   "id": "4c17e61c",
   "metadata": {},
   "source": [
    "### ADNI_Tau_Amyloid_SUVR_amyloid_tau_status_dems"
   ]
  },
  {
   "cell_type": "markdown",
   "id": "2c1c764c",
   "metadata": {},
   "source": [
    "##### change the strings in the session column 'ses' to datetime objects to facilitate computing the time differences"
   ]
  },
  {
   "cell_type": "code",
   "execution_count": 119,
   "id": "6974b6e5",
   "metadata": {},
   "outputs": [],
   "source": [
    "df_adni_tau['ses'] = df_adni_tau['ses'].apply(lambda x: datetime.strptime(x, 'ses-%Y-%m-%d'))"
   ]
  },
  {
   "cell_type": "markdown",
   "id": "94c154b4",
   "metadata": {},
   "source": [
    "#### Number of subjects"
   ]
  },
  {
   "cell_type": "code",
   "execution_count": 69,
   "id": "5d17e539",
   "metadata": {},
   "outputs": [
    {
     "name": "stdout",
     "output_type": "stream",
     "text": [
      "Lenth of the DataFrame:    2963\n",
      "Number of unique subjects:    793\n"
     ]
    }
   ],
   "source": [
    "unique_id_list = df_adni_tau['ID'].unique()\n",
    "print(f'Lenth of the DataFrame:    {len(df_adni_tau)}')\n",
    "print(f'Number of unique subjects:    {len(unique_id_list)}')\n"
   ]
  },
  {
   "cell_type": "markdown",
   "id": "de46d073",
   "metadata": {},
   "source": [
    "In the following we can observe that there are subjects that have a different diagnosis 'DX' "
   ]
  },
  {
   "cell_type": "markdown",
   "id": "159e03ff",
   "metadata": {},
   "source": [
    "The subsequent dataframe lists 'DX' for a single patient in chronological order. It stands out that there was a diagnosis \"CN\" after the patient has been diagnosed as \"MCI\""
   ]
  },
  {
   "cell_type": "code",
   "execution_count": 152,
   "id": "a51e6e0c",
   "metadata": {},
   "outputs": [
    {
     "data": {
      "text/html": [
       "<div>\n",
       "<style scoped>\n",
       "    .dataframe tbody tr th:only-of-type {\n",
       "        vertical-align: middle;\n",
       "    }\n",
       "\n",
       "    .dataframe tbody tr th {\n",
       "        vertical-align: top;\n",
       "    }\n",
       "\n",
       "    .dataframe thead th {\n",
       "        text-align: right;\n",
       "    }\n",
       "</style>\n",
       "<table border=\"1\" class=\"dataframe\">\n",
       "  <thead>\n",
       "    <tr style=\"text-align: right;\">\n",
       "      <th></th>\n",
       "      <th>ID</th>\n",
       "      <th>age</th>\n",
       "      <th>group</th>\n",
       "      <th>pet.modality</th>\n",
       "      <th>DX</th>\n",
       "      <th>ses</th>\n",
       "    </tr>\n",
       "  </thead>\n",
       "  <tbody>\n",
       "    <tr>\n",
       "      <th>20</th>\n",
       "      <td>sub-0059</td>\n",
       "      <td>76</td>\n",
       "      <td>CN</td>\n",
       "      <td>pet-AV45</td>\n",
       "      <td>CN</td>\n",
       "      <td>2011-01-03</td>\n",
       "    </tr>\n",
       "    <tr>\n",
       "      <th>24</th>\n",
       "      <td>sub-0059</td>\n",
       "      <td>78</td>\n",
       "      <td>CN</td>\n",
       "      <td>pet-AV45</td>\n",
       "      <td>MCI</td>\n",
       "      <td>2012-12-14</td>\n",
       "    </tr>\n",
       "    <tr>\n",
       "      <th>22</th>\n",
       "      <td>sub-0059</td>\n",
       "      <td>80</td>\n",
       "      <td>CN</td>\n",
       "      <td>pet-AV45</td>\n",
       "      <td>CN</td>\n",
       "      <td>2015-01-07</td>\n",
       "    </tr>\n",
       "    <tr>\n",
       "      <th>23</th>\n",
       "      <td>sub-0059</td>\n",
       "      <td>83</td>\n",
       "      <td>CN</td>\n",
       "      <td>pet-AV1451</td>\n",
       "      <td>MCI</td>\n",
       "      <td>2017-12-12</td>\n",
       "    </tr>\n",
       "    <tr>\n",
       "      <th>21</th>\n",
       "      <td>sub-0059</td>\n",
       "      <td>83</td>\n",
       "      <td>CN</td>\n",
       "      <td>pet-AV45</td>\n",
       "      <td>MCI</td>\n",
       "      <td>2017-12-20</td>\n",
       "    </tr>\n",
       "    <tr>\n",
       "      <th>19</th>\n",
       "      <td>sub-0059</td>\n",
       "      <td>85</td>\n",
       "      <td>CN</td>\n",
       "      <td>pet-AV45</td>\n",
       "      <td>MCI</td>\n",
       "      <td>2019-12-20</td>\n",
       "    </tr>\n",
       "  </tbody>\n",
       "</table>\n",
       "</div>"
      ],
      "text/plain": [
       "          ID  age group pet.modality   DX        ses\n",
       "20  sub-0059   76    CN     pet-AV45   CN 2011-01-03\n",
       "24  sub-0059   78    CN     pet-AV45  MCI 2012-12-14\n",
       "22  sub-0059   80    CN     pet-AV45   CN 2015-01-07\n",
       "23  sub-0059   83    CN   pet-AV1451  MCI 2017-12-12\n",
       "21  sub-0059   83    CN     pet-AV45  MCI 2017-12-20\n",
       "19  sub-0059   85    CN     pet-AV45  MCI 2019-12-20"
      ]
     },
     "execution_count": 152,
     "metadata": {},
     "output_type": "execute_result"
    }
   ],
   "source": [
    "grp_id = df_adni_tau.groupby('ID')\n",
    "s59 = grp_id.get_group('sub-0059').sort_values(by='ses')[['ID', 'age', 'group', 'pet.modality', 'DX', 'ses']]\n",
    "s59"
   ]
  },
  {
   "cell_type": "markdown",
   "id": "6dc68f92",
   "metadata": {},
   "source": [
    "### Plot the frequency of time differences between 2 pet scans from the same person and the same pet modality"
   ]
  },
  {
   "cell_type": "code",
   "execution_count": 135,
   "id": "bd219477",
   "metadata": {},
   "outputs": [],
   "source": [
    "time_diff_days = []\n",
    "\n",
    "grp_id_mod = df_adni_tau.groupby(['ID', 'pet.modality'])\n",
    "for name, group in grp_id_mod:\n",
    "    group = group.sort_values(by='ses')[['ID', 'age', 'group', 'pet.modality', 'DX', 'ses']]\n",
    "    group['delta'] = (group['ses']-group['ses'].shift())\n",
    "    group['delta'] = group['delta'].apply(lambda x: x.days)\n",
    "    \n",
    "    list_td = list(group['delta'])\n",
    "    list_td = list(filter(lambda x: str(x) != 'nan', list_td))\n",
    "    time_diff_days += list_td\n"
   ]
  },
  {
   "cell_type": "code",
   "execution_count": 150,
   "id": "cf57e473",
   "metadata": {},
   "outputs": [
    {
     "name": "stdout",
     "output_type": "stream",
     "text": [
      "1394\n"
     ]
    },
    {
     "data": {
      "text/plain": [
       "<AxesSubplot:ylabel='Percent'>"
      ]
     },
     "execution_count": 150,
     "metadata": {},
     "output_type": "execute_result"
    },
    {
     "data": {
      "image/png": "[encoded data removed]",
      "text/plain": [
       "<Figure size 640x480 with 1 Axes>"
      ]
     },
     "metadata": {},
     "output_type": "display_data"
    }
   ],
   "source": [
    "print(len(time_diff_days))\n",
    "sns.histplot(time_diff_days, stat='percent', cumulative=True,binwidth=10)"
   ]
  },
  {
   "cell_type": "markdown",
   "id": "0a6496ba",
   "metadata": {},
   "source": [
    "## Plot the class distributions over the different modalities \n",
    "\n",
    "We can observe that we have a class-imbalance problem since the 'Dementia' class is clearly underrepresented"
   ]
  },
  {
   "cell_type": "code",
   "execution_count": 164,
   "id": "e8dca2a3",
   "metadata": {},
   "outputs": [
    {
     "data": {
      "text/plain": [
       "array(['pet-AV45', 'pet-AV1451', 'pet-FBB'], dtype=object)"
      ]
     },
     "execution_count": 164,
     "metadata": {},
     "output_type": "execute_result"
    }
   ],
   "source": [
    "df_adni_tau['pet.modality'].unique()"
   ]
  },
  {
   "cell_type": "code",
   "execution_count": 165,
   "id": "375e7099",
   "metadata": {},
   "outputs": [],
   "source": [
    "filt_av45 = df_adni_tau['pet.modality'] == 'pet-AV45'\n",
    "filt_av1451 = df_adni_tau['pet.modality'] == 'pet-AV1451'\n",
    "filt_fbb = df_adni_tau['pet.modality'] == 'pet-FBB'\n",
    "df_pet_av45 = df_adni_tau.loc[filt_av45]\n",
    "df_pet_av1451 = df_adni_tau.loc[filt_av1451]\n",
    "df_pet_fbb = df_adni_tau.loc[filt_fbb]\n"
   ]
  },
  {
   "cell_type": "code",
   "execution_count": 162,
   "id": "9f860416",
   "metadata": {},
   "outputs": [
    {
     "data": {
      "text/plain": [
       "<AxesSubplot:xlabel='DX', ylabel='count'>"
      ]
     },
     "execution_count": 162,
     "metadata": {},
     "output_type": "execute_result"
    },
    {
     "data": {
      "image/png": "[encoded data removed]",
      "text/plain": [
       "<Figure size 640x480 with 1 Axes>"
      ]
     },
     "metadata": {},
     "output_type": "display_data"
    }
   ],
   "source": [
    "sns.countplot(data=df_pet_av45, x='DX')"
   ]
  },
  {
   "cell_type": "code",
   "execution_count": 166,
   "id": "ac323ab6",
   "metadata": {},
   "outputs": [
    {
     "data": {
      "text/plain": [
       "<AxesSubplot:xlabel='DX', ylabel='count'>"
      ]
     },
     "execution_count": 166,
     "metadata": {},
     "output_type": "execute_result"
    },
    {
     "data": {
      "image/png": "[encoded data removed]",
      "text/plain": [
       "<Figure size 640x480 with 1 Axes>"
      ]
     },
     "metadata": {},
     "output_type": "display_data"
    }
   ],
   "source": [
    "sns.countplot(data=df_pet_av1451, x='DX')"
   ]
  },
  {
   "cell_type": "code",
   "execution_count": 167,
   "id": "5feffd34",
   "metadata": {},
   "outputs": [
    {
     "data": {
      "text/plain": [
       "<AxesSubplot:xlabel='DX', ylabel='count'>"
      ]
     },
     "execution_count": 167,
     "metadata": {},
     "output_type": "execute_result"
    },
    {
     "data": {
      "image/png": "[encoded data removed]",
      "text/plain": [
       "<Figure size 640x480 with 1 Axes>"
      ]
     },
     "metadata": {},
     "output_type": "display_data"
    }
   ],
   "source": [
    "sns.countplot(data=df_pet_fbb, x='DX')"
   ]
  },
  {
   "cell_type": "code",
   "execution_count": 3,
   "id": "f7b5b667",
   "metadata": {},
   "outputs": [
    {
     "name": "stdout",
     "output_type": "stream",
     "text": [
      "ID\n",
      "age\n",
      "sex\n",
      "group\n",
      "pet.modality\n",
      "modality.description\n",
      "image.id\n",
      "ses\n",
      "acq.date\n",
      "SUVR.Schaefer200.ROI.idx.1\n",
      "SUVR.Schaefer200.ROI.idx.2\n",
      "SUVR.Schaefer200.ROI.idx.3\n",
      "SUVR.Schaefer200.ROI.idx.4\n",
      "SUVR.Schaefer200.ROI.idx.5\n",
      "SUVR.Schaefer200.ROI.idx.6\n",
      "SUVR.Schaefer200.ROI.idx.7\n",
      "SUVR.Schaefer200.ROI.idx.8\n",
      "SUVR.Schaefer200.ROI.idx.9\n",
      "SUVR.Schaefer200.ROI.idx.10\n",
      "SUVR.Schaefer200.ROI.idx.11\n",
      "SUVR.Schaefer200.ROI.idx.12\n",
      "SUVR.Schaefer200.ROI.idx.13\n",
      "SUVR.Schaefer200.ROI.idx.14\n",
      "SUVR.Schaefer200.ROI.idx.15\n",
      "SUVR.Schaefer200.ROI.idx.16\n",
      "SUVR.Schaefer200.ROI.idx.17\n",
      "SUVR.Schaefer200.ROI.idx.18\n",
      "SUVR.Schaefer200.ROI.idx.19\n",
      "SUVR.Schaefer200.ROI.idx.20\n",
      "SUVR.Schaefer200.ROI.idx.21\n",
      "SUVR.Schaefer200.ROI.idx.22\n",
      "SUVR.Schaefer200.ROI.idx.23\n",
      "SUVR.Schaefer200.ROI.idx.24\n",
      "SUVR.Schaefer200.ROI.idx.25\n",
      "SUVR.Schaefer200.ROI.idx.26\n",
      "SUVR.Schaefer200.ROI.idx.27\n",
      "SUVR.Schaefer200.ROI.idx.28\n",
      "SUVR.Schaefer200.ROI.idx.29\n",
      "SUVR.Schaefer200.ROI.idx.30\n",
      "SUVR.Schaefer200.ROI.idx.31\n",
      "SUVR.Schaefer200.ROI.idx.32\n",
      "SUVR.Schaefer200.ROI.idx.33\n",
      "SUVR.Schaefer200.ROI.idx.34\n",
      "SUVR.Schaefer200.ROI.idx.35\n",
      "SUVR.Schaefer200.ROI.idx.36\n",
      "SUVR.Schaefer200.ROI.idx.37\n",
      "SUVR.Schaefer200.ROI.idx.38\n",
      "SUVR.Schaefer200.ROI.idx.39\n",
      "SUVR.Schaefer200.ROI.idx.40\n",
      "SUVR.Schaefer200.ROI.idx.41\n",
      "SUVR.Schaefer200.ROI.idx.42\n",
      "SUVR.Schaefer200.ROI.idx.43\n",
      "SUVR.Schaefer200.ROI.idx.44\n",
      "SUVR.Schaefer200.ROI.idx.45\n",
      "SUVR.Schaefer200.ROI.idx.46\n",
      "SUVR.Schaefer200.ROI.idx.47\n",
      "SUVR.Schaefer200.ROI.idx.48\n",
      "SUVR.Schaefer200.ROI.idx.49\n",
      "SUVR.Schaefer200.ROI.idx.50\n",
      "SUVR.Schaefer200.ROI.idx.51\n",
      "SUVR.Schaefer200.ROI.idx.52\n",
      "SUVR.Schaefer200.ROI.idx.53\n",
      "SUVR.Schaefer200.ROI.idx.54\n",
      "SUVR.Schaefer200.ROI.idx.55\n",
      "SUVR.Schaefer200.ROI.idx.56\n",
      "SUVR.Schaefer200.ROI.idx.57\n",
      "SUVR.Schaefer200.ROI.idx.58\n",
      "SUVR.Schaefer200.ROI.idx.59\n",
      "SUVR.Schaefer200.ROI.idx.60\n",
      "SUVR.Schaefer200.ROI.idx.61\n",
      "SUVR.Schaefer200.ROI.idx.62\n",
      "SUVR.Schaefer200.ROI.idx.63\n",
      "SUVR.Schaefer200.ROI.idx.64\n",
      "SUVR.Schaefer200.ROI.idx.65\n",
      "SUVR.Schaefer200.ROI.idx.66\n",
      "SUVR.Schaefer200.ROI.idx.67\n",
      "SUVR.Schaefer200.ROI.idx.68\n",
      "SUVR.Schaefer200.ROI.idx.69\n",
      "SUVR.Schaefer200.ROI.idx.70\n",
      "SUVR.Schaefer200.ROI.idx.71\n",
      "SUVR.Schaefer200.ROI.idx.72\n",
      "SUVR.Schaefer200.ROI.idx.73\n",
      "SUVR.Schaefer200.ROI.idx.74\n",
      "SUVR.Schaefer200.ROI.idx.75\n",
      "SUVR.Schaefer200.ROI.idx.76\n",
      "SUVR.Schaefer200.ROI.idx.77\n",
      "SUVR.Schaefer200.ROI.idx.78\n",
      "SUVR.Schaefer200.ROI.idx.79\n",
      "SUVR.Schaefer200.ROI.idx.80\n",
      "SUVR.Schaefer200.ROI.idx.81\n",
      "SUVR.Schaefer200.ROI.idx.82\n",
      "SUVR.Schaefer200.ROI.idx.83\n",
      "SUVR.Schaefer200.ROI.idx.84\n",
      "SUVR.Schaefer200.ROI.idx.85\n",
      "SUVR.Schaefer200.ROI.idx.86\n",
      "SUVR.Schaefer200.ROI.idx.87\n",
      "SUVR.Schaefer200.ROI.idx.88\n",
      "SUVR.Schaefer200.ROI.idx.89\n",
      "SUVR.Schaefer200.ROI.idx.90\n",
      "SUVR.Schaefer200.ROI.idx.91\n",
      "SUVR.Schaefer200.ROI.idx.92\n",
      "SUVR.Schaefer200.ROI.idx.93\n",
      "SUVR.Schaefer200.ROI.idx.94\n",
      "SUVR.Schaefer200.ROI.idx.95\n",
      "SUVR.Schaefer200.ROI.idx.96\n",
      "SUVR.Schaefer200.ROI.idx.97\n",
      "SUVR.Schaefer200.ROI.idx.98\n",
      "SUVR.Schaefer200.ROI.idx.99\n",
      "SUVR.Schaefer200.ROI.idx.100\n",
      "SUVR.Schaefer200.ROI.idx.101\n",
      "SUVR.Schaefer200.ROI.idx.102\n",
      "SUVR.Schaefer200.ROI.idx.103\n",
      "SUVR.Schaefer200.ROI.idx.104\n",
      "SUVR.Schaefer200.ROI.idx.105\n",
      "SUVR.Schaefer200.ROI.idx.106\n",
      "SUVR.Schaefer200.ROI.idx.107\n",
      "SUVR.Schaefer200.ROI.idx.108\n",
      "SUVR.Schaefer200.ROI.idx.109\n",
      "SUVR.Schaefer200.ROI.idx.110\n",
      "SUVR.Schaefer200.ROI.idx.111\n",
      "SUVR.Schaefer200.ROI.idx.112\n",
      "SUVR.Schaefer200.ROI.idx.113\n",
      "SUVR.Schaefer200.ROI.idx.114\n",
      "SUVR.Schaefer200.ROI.idx.115\n",
      "SUVR.Schaefer200.ROI.idx.116\n",
      "SUVR.Schaefer200.ROI.idx.117\n",
      "SUVR.Schaefer200.ROI.idx.118\n",
      "SUVR.Schaefer200.ROI.idx.119\n",
      "SUVR.Schaefer200.ROI.idx.120\n",
      "SUVR.Schaefer200.ROI.idx.121\n",
      "SUVR.Schaefer200.ROI.idx.122\n",
      "SUVR.Schaefer200.ROI.idx.123\n",
      "SUVR.Schaefer200.ROI.idx.124\n",
      "SUVR.Schaefer200.ROI.idx.125\n",
      "SUVR.Schaefer200.ROI.idx.126\n",
      "SUVR.Schaefer200.ROI.idx.127\n",
      "SUVR.Schaefer200.ROI.idx.128\n",
      "SUVR.Schaefer200.ROI.idx.129\n",
      "SUVR.Schaefer200.ROI.idx.130\n",
      "SUVR.Schaefer200.ROI.idx.131\n",
      "SUVR.Schaefer200.ROI.idx.132\n",
      "SUVR.Schaefer200.ROI.idx.133\n",
      "SUVR.Schaefer200.ROI.idx.134\n",
      "SUVR.Schaefer200.ROI.idx.135\n",
      "SUVR.Schaefer200.ROI.idx.136\n",
      "SUVR.Schaefer200.ROI.idx.137\n",
      "SUVR.Schaefer200.ROI.idx.138\n",
      "SUVR.Schaefer200.ROI.idx.139\n",
      "SUVR.Schaefer200.ROI.idx.140\n",
      "SUVR.Schaefer200.ROI.idx.141\n",
      "SUVR.Schaefer200.ROI.idx.142\n",
      "SUVR.Schaefer200.ROI.idx.143\n",
      "SUVR.Schaefer200.ROI.idx.144\n",
      "SUVR.Schaefer200.ROI.idx.145\n",
      "SUVR.Schaefer200.ROI.idx.146\n",
      "SUVR.Schaefer200.ROI.idx.147\n",
      "SUVR.Schaefer200.ROI.idx.148\n",
      "SUVR.Schaefer200.ROI.idx.149\n",
      "SUVR.Schaefer200.ROI.idx.150\n",
      "SUVR.Schaefer200.ROI.idx.151\n",
      "SUVR.Schaefer200.ROI.idx.152\n",
      "SUVR.Schaefer200.ROI.idx.153\n",
      "SUVR.Schaefer200.ROI.idx.154\n",
      "SUVR.Schaefer200.ROI.idx.155\n",
      "SUVR.Schaefer200.ROI.idx.156\n",
      "SUVR.Schaefer200.ROI.idx.157\n",
      "SUVR.Schaefer200.ROI.idx.158\n",
      "SUVR.Schaefer200.ROI.idx.159\n",
      "SUVR.Schaefer200.ROI.idx.160\n",
      "SUVR.Schaefer200.ROI.idx.161\n",
      "SUVR.Schaefer200.ROI.idx.162\n",
      "SUVR.Schaefer200.ROI.idx.163\n",
      "SUVR.Schaefer200.ROI.idx.164\n",
      "SUVR.Schaefer200.ROI.idx.165\n",
      "SUVR.Schaefer200.ROI.idx.166\n",
      "SUVR.Schaefer200.ROI.idx.167\n",
      "SUVR.Schaefer200.ROI.idx.168\n",
      "SUVR.Schaefer200.ROI.idx.169\n",
      "SUVR.Schaefer200.ROI.idx.170\n",
      "SUVR.Schaefer200.ROI.idx.171\n",
      "SUVR.Schaefer200.ROI.idx.172\n",
      "SUVR.Schaefer200.ROI.idx.173\n",
      "SUVR.Schaefer200.ROI.idx.174\n",
      "SUVR.Schaefer200.ROI.idx.175\n",
      "SUVR.Schaefer200.ROI.idx.176\n",
      "SUVR.Schaefer200.ROI.idx.177\n",
      "SUVR.Schaefer200.ROI.idx.178\n",
      "SUVR.Schaefer200.ROI.idx.179\n",
      "SUVR.Schaefer200.ROI.idx.180\n",
      "SUVR.Schaefer200.ROI.idx.181\n",
      "SUVR.Schaefer200.ROI.idx.182\n",
      "SUVR.Schaefer200.ROI.idx.183\n",
      "SUVR.Schaefer200.ROI.idx.184\n",
      "SUVR.Schaefer200.ROI.idx.185\n",
      "SUVR.Schaefer200.ROI.idx.186\n",
      "SUVR.Schaefer200.ROI.idx.187\n",
      "SUVR.Schaefer200.ROI.idx.188\n",
      "SUVR.Schaefer200.ROI.idx.189\n",
      "SUVR.Schaefer200.ROI.idx.190\n",
      "SUVR.Schaefer200.ROI.idx.191\n",
      "SUVR.Schaefer200.ROI.idx.192\n",
      "SUVR.Schaefer200.ROI.idx.193\n",
      "SUVR.Schaefer200.ROI.idx.194\n",
      "SUVR.Schaefer200.ROI.idx.195\n",
      "SUVR.Schaefer200.ROI.idx.196\n",
      "SUVR.Schaefer200.ROI.idx.197\n",
      "SUVR.Schaefer200.ROI.idx.198\n",
      "SUVR.Schaefer200.ROI.idx.199\n",
      "SUVR.Schaefer200.ROI.idx.200\n",
      "SUVR.DKT.ROI.idx.2\n",
      "SUVR.DKT.ROI.idx.4\n",
      "SUVR.DKT.ROI.idx.5\n",
      "SUVR.DKT.ROI.idx.7\n",
      "SUVR.DKT.ROI.idx.8\n",
      "SUVR.DKT.ROI.idx.10\n",
      "SUVR.DKT.ROI.idx.11\n",
      "SUVR.DKT.ROI.idx.12\n",
      "SUVR.DKT.ROI.idx.13\n",
      "SUVR.DKT.ROI.idx.14\n",
      "SUVR.DKT.ROI.idx.15\n",
      "SUVR.DKT.ROI.idx.16\n",
      "SUVR.DKT.ROI.idx.17\n",
      "SUVR.DKT.ROI.idx.18\n",
      "SUVR.DKT.ROI.idx.24\n",
      "SUVR.DKT.ROI.idx.26\n",
      "SUVR.DKT.ROI.idx.28\n",
      "SUVR.DKT.ROI.idx.30\n",
      "SUVR.DKT.ROI.idx.31\n",
      "SUVR.DKT.ROI.idx.41\n",
      "SUVR.DKT.ROI.idx.43\n",
      "SUVR.DKT.ROI.idx.44\n",
      "SUVR.DKT.ROI.idx.46\n",
      "SUVR.DKT.ROI.idx.47\n",
      "SUVR.DKT.ROI.idx.49\n",
      "SUVR.DKT.ROI.idx.50\n",
      "SUVR.DKT.ROI.idx.51\n",
      "SUVR.DKT.ROI.idx.52\n",
      "SUVR.DKT.ROI.idx.53\n",
      "SUVR.DKT.ROI.idx.54\n",
      "SUVR.DKT.ROI.idx.58\n",
      "SUVR.DKT.ROI.idx.60\n",
      "SUVR.DKT.ROI.idx.62\n",
      "SUVR.DKT.ROI.idx.63\n",
      "SUVR.DKT.ROI.idx.77\n",
      "SUVR.DKT.ROI.idx.85\n",
      "SUVR.DKT.ROI.idx.251\n",
      "SUVR.DKT.ROI.idx.252\n",
      "SUVR.DKT.ROI.idx.253\n",
      "SUVR.DKT.ROI.idx.254\n",
      "SUVR.DKT.ROI.idx.255\n",
      "SUVR.DKT.ROI.idx.1000\n",
      "SUVR.DKT.ROI.idx.1002\n",
      "SUVR.DKT.ROI.idx.1003\n",
      "SUVR.DKT.ROI.idx.1005\n",
      "SUVR.DKT.ROI.idx.1006\n",
      "SUVR.DKT.ROI.idx.1007\n",
      "SUVR.DKT.ROI.idx.1008\n",
      "SUVR.DKT.ROI.idx.1009\n",
      "SUVR.DKT.ROI.idx.1010\n",
      "SUVR.DKT.ROI.idx.1011\n",
      "SUVR.DKT.ROI.idx.1012\n",
      "SUVR.DKT.ROI.idx.1013\n",
      "SUVR.DKT.ROI.idx.1014\n",
      "SUVR.DKT.ROI.idx.1015\n",
      "SUVR.DKT.ROI.idx.1016\n",
      "SUVR.DKT.ROI.idx.1017\n",
      "SUVR.DKT.ROI.idx.1018\n",
      "SUVR.DKT.ROI.idx.1019\n",
      "SUVR.DKT.ROI.idx.1020\n",
      "SUVR.DKT.ROI.idx.1021\n",
      "SUVR.DKT.ROI.idx.1022\n",
      "SUVR.DKT.ROI.idx.1023\n",
      "SUVR.DKT.ROI.idx.1024\n",
      "SUVR.DKT.ROI.idx.1025\n",
      "SUVR.DKT.ROI.idx.1026\n",
      "SUVR.DKT.ROI.idx.1027\n",
      "SUVR.DKT.ROI.idx.1028\n",
      "SUVR.DKT.ROI.idx.1029\n",
      "SUVR.DKT.ROI.idx.1030\n",
      "SUVR.DKT.ROI.idx.1031\n",
      "SUVR.DKT.ROI.idx.1034\n",
      "SUVR.DKT.ROI.idx.1035\n",
      "SUVR.DKT.ROI.idx.2000\n",
      "SUVR.DKT.ROI.idx.2002\n",
      "SUVR.DKT.ROI.idx.2003\n",
      "SUVR.DKT.ROI.idx.2005\n",
      "SUVR.DKT.ROI.idx.2006\n",
      "SUVR.DKT.ROI.idx.2007\n",
      "SUVR.DKT.ROI.idx.2008\n",
      "SUVR.DKT.ROI.idx.2009\n",
      "SUVR.DKT.ROI.idx.2010\n",
      "SUVR.DKT.ROI.idx.2011\n",
      "SUVR.DKT.ROI.idx.2012\n",
      "SUVR.DKT.ROI.idx.2013\n",
      "SUVR.DKT.ROI.idx.2014\n",
      "SUVR.DKT.ROI.idx.2015\n",
      "SUVR.DKT.ROI.idx.2016\n",
      "SUVR.DKT.ROI.idx.2017\n",
      "SUVR.DKT.ROI.idx.2018\n",
      "SUVR.DKT.ROI.idx.2019\n",
      "SUVR.DKT.ROI.idx.2020\n",
      "SUVR.DKT.ROI.idx.2021\n",
      "SUVR.DKT.ROI.idx.2022\n",
      "SUVR.DKT.ROI.idx.2023\n",
      "SUVR.DKT.ROI.idx.2024\n",
      "SUVR.DKT.ROI.idx.2025\n",
      "SUVR.DKT.ROI.idx.2026\n",
      "SUVR.DKT.ROI.idx.2027\n",
      "SUVR.DKT.ROI.idx.2028\n",
      "SUVR.DKT.ROI.idx.2029\n",
      "SUVR.DKT.ROI.idx.2030\n",
      "SUVR.DKT.ROI.idx.2031\n",
      "SUVR.DKT.ROI.idx.2034\n",
      "SUVR.DKT.ROI.idx.2035\n",
      "SUVR.DKT.ROI.idx.72\n",
      "apoe\n",
      "amyloid.global.SUVR\n",
      "amyloid.global.SUVR.status\n",
      "centiloid\n",
      "tau.braak1.SUVR\n",
      "tau.braak3.SUVR\n",
      "tau.braak4.SUVR\n",
      "tau.braak5.SUVR\n",
      "tau.braak6.SUVR\n",
      "tau.braak34.SUVR\n",
      "tau.braak56.SUVR\n",
      "tau.temporal.meta.SUVR\n",
      "tau.global.SUVR\n",
      "RID\n",
      "PTEDUCAT\n",
      "ADNI_MEM\n",
      "ADNI_EF\n",
      "ADNI_LAN\n",
      "ADNI_VS\n",
      "t.diff.uwn.psych.pet.yrs\n",
      "ADAS13\n",
      "MMSE\n",
      "mPACCtrailsB\n",
      "t.diff.adas.pet.yrs\n",
      "PHASE\n",
      "DX\n",
      "SITEID\n",
      "t.diff.diagnosis.pet.yrs\n",
      "Phase\n",
      "None\n"
     ]
    }
   ],
   "source": [
    "print(print('\\n'.join(list(df_adni_tau.keys()))))"
   ]
  },
  {
   "cell_type": "code",
   "execution_count": 4,
   "id": "6a7f6d12",
   "metadata": {},
   "outputs": [
    {
     "name": "stdout",
     "output_type": "stream",
     "text": [
      "         ID  age sex group pet.modality  \\\n",
      "0  sub-0021   80   F    CN     pet-AV45   \n",
      "1  sub-0021   85   F    CN   pet-AV1451   \n",
      "2  sub-0021   83   F    CN     pet-AV45   \n",
      "3  sub-0021   78   F    CN     pet-AV45   \n",
      "4  sub-0021   85   F    CN     pet-AV45   \n",
      "5  sub-0031   88   F    CN     pet-AV45   \n",
      "6  sub-0031   90   F    CN     pet-AV45   \n",
      "7  sub-0031   85   F    CN     pet-AV45   \n",
      "8  sub-0031   91   F    CN   pet-AV1451   \n",
      "9  sub-0031   90   F    CN   pet-AV1451   \n",
      "\n",
      "                                modality.description  image.id  \\\n",
      "0  AV45 Coreg, Avg, Standardized Image and Voxel ...   I338512   \n",
      "1  AV1451 Coreg, Avg, Standardized Image and Voxe...   I964024   \n",
      "2  AV45 Coreg, Avg, Standardized Image and Voxel ...   I557331   \n",
      "3  AV45 Coreg, Avg, Standardized Image and Voxel ...   I196544   \n",
      "4  AV45 Coreg, Avg, Standardized Image and Voxel ...   I943941   \n",
      "5  AV45 Coreg, Avg, Standardized Image and Voxel ...   I655253   \n",
      "6  AV45 Coreg, Avg, Standardized Image and Voxel ...   I989584   \n",
      "7  AV45 Coreg, Avg, Standardized Image and Voxel ...   I337076   \n",
      "8  AV1451 Coreg, Avg, Standardized Image and Voxe...  I1158505   \n",
      "9  AV1451 Coreg, Avg, Standardized Image and Voxe...   I989588   \n",
      "\n",
      "              ses    acq.date  SUVR.Schaefer200.ROI.idx.1  ...  \\\n",
      "0  ses-2012-10-03  2012-10-03                    0.912861  ...   \n",
      "1  ses-2018-02-02  2018-02-02                    1.126000  ...   \n",
      "2  ses-2015-11-05  2015-11-05                    0.899505  ...   \n",
      "3  ses-2010-10-08  2010-10-08                    1.007220  ...   \n",
      "4  ses-2017-11-28  2017-11-28                    0.877004  ...   \n",
      "5  ses-2016-01-26  2016-01-26                    1.117940  ...   \n",
      "6  ses-2018-04-18  2018-04-18                    1.215600  ...   \n",
      "7  ses-2012-09-20  2012-09-20                    0.985096  ...   \n",
      "8  ses-2019-04-23  2019-04-23                    1.166170  ...   \n",
      "9  ses-2018-04-24  2018-04-24                    1.220270  ...   \n",
      "\n",
      "   t.diff.uwn.psych.pet.yrs  ADAS13  MMSE  mPACCtrailsB  t.diff.adas.pet.yrs  \\\n",
      "0                  0.000000    1.00  28.0      1.299940             0.000000   \n",
      "1                 -0.183562   12.33  27.0     -2.151210            -0.183562   \n",
      "2                 -0.024658    5.00  27.0     -0.816517            -0.024658   \n",
      "3                 -0.002740    4.00  29.0      0.355272            -0.002740   \n",
      "4                 -0.002740   12.33  27.0     -2.151210            -0.002740   \n",
      "5                  0.000000   13.00  30.0      0.184927             0.000000   \n",
      "6                 -0.002740   14.00  30.0      1.744900            -0.002740   \n",
      "7                 -0.008219   11.00  30.0      1.521870            -0.008219   \n",
      "8                  0.000000   13.00  25.0     -3.331230             0.000000   \n",
      "9                 -0.019178   14.00  30.0      1.744900            -0.019178   \n",
      "\n",
      "   PHASE  DX  SITEID  t.diff.diagnosis.pet.yrs   Phase  \n",
      "0    NaN  CN       8                  0.021918   ADNI2  \n",
      "1    NaN  CN       8                  0.065753   ADNI3  \n",
      "2    NaN  CN       8                  0.013699   ADNI2  \n",
      "3    NaN  CN       8                  0.027397  ADNIGO  \n",
      "4    NaN  CN       8                  0.246575   ADNI3  \n",
      "5    NaN  CN      17                  0.208219   ADNI2  \n",
      "6    NaN  CN      18                  0.019178   ADNI3  \n",
      "7    NaN  CN      17                  0.013699   ADNI2  \n",
      "8    NaN  CN      18                  0.021918   ADNI3  \n",
      "9    NaN  CN      18                  0.002740   ADNI3  \n",
      "\n",
      "[10 rows x 344 columns]\n"
     ]
    }
   ],
   "source": [
    "print(df_adni_tau.head(10))"
   ]
  },
  {
   "cell_type": "code",
   "execution_count": 148,
   "id": "06bfd22d",
   "metadata": {},
   "outputs": [
    {
     "data": {
      "text/plain": [
       "<AxesSubplot:xlabel='age', ylabel='Count'>"
      ]
     },
     "execution_count": 148,
     "metadata": {},
     "output_type": "execute_result"
    },
    {
     "data": {
      "image/png": "[encoded data removed]",
      "text/plain": [
       "<Figure size 640x480 with 1 Axes>"
      ]
     },
     "metadata": {},
     "output_type": "display_data"
    }
   ],
   "source": [
    "sns.histplot(df_adni_tau, x='age')"
   ]
  },
  {
   "cell_type": "code",
   "execution_count": 6,
   "id": "341f9caf",
   "metadata": {},
   "outputs": [
    {
     "data": {
      "text/plain": [
       "<AxesSubplot:xlabel='sex', ylabel='count'>"
      ]
     },
     "execution_count": 6,
     "metadata": {},
     "output_type": "execute_result"
    },
    {
     "data": {
      "image/png": "[encoded data removed]",
      "text/plain": [
       "<Figure size 432x288 with 1 Axes>"
      ]
     },
     "metadata": {
      "needs_background": "light"
     },
     "output_type": "display_data"
    }
   ],
   "source": [
    "sns.countplot(data=df_adni_tau, x='sex')"
   ]
  },
  {
   "cell_type": "code",
   "execution_count": 7,
   "id": "48e63593",
   "metadata": {},
   "outputs": [
    {
     "data": {
      "text/plain": [
       "<AxesSubplot:xlabel='group', ylabel='count'>"
      ]
     },
     "execution_count": 7,
     "metadata": {},
     "output_type": "execute_result"
    },
    {
     "data": {
      "image/png": "[encoded data removed]",
      "text/plain": [
       "<Figure size 432x288 with 1 Axes>"
      ]
     },
     "metadata": {
      "needs_background": "light"
     },
     "output_type": "display_data"
    }
   ],
   "source": [
    "sns.countplot(data=df_adni_tau, x='group')"
   ]
  },
  {
   "cell_type": "code",
   "execution_count": 8,
   "id": "d4d341a4",
   "metadata": {},
   "outputs": [
    {
     "data": {
      "text/plain": [
       "<AxesSubplot:xlabel='pet.modality', ylabel='count'>"
      ]
     },
     "execution_count": 8,
     "metadata": {},
     "output_type": "execute_result"
    },
    {
     "data": {
      "image/png": "[encoded data removed]",
      "text/plain": [
       "<Figure size 432x288 with 1 Axes>"
      ]
     },
     "metadata": {
      "needs_background": "light"
     },
     "output_type": "display_data"
    }
   ],
   "source": [
    "sns.countplot(data=df_adni_tau, x='pet.modality')"
   ]
  },
  {
   "cell_type": "code",
   "execution_count": 9,
   "id": "a4657d2a",
   "metadata": {},
   "outputs": [
    {
     "data": {
      "text/plain": [
       "<AxesSubplot:xlabel='acq.year', ylabel='Count'>"
      ]
     },
     "execution_count": 9,
     "metadata": {},
     "output_type": "execute_result"
    },
    {
     "data": {
      "image/png": "[encoded data removed]",
      "text/plain": [
       "<Figure size 432x288 with 1 Axes>"
      ]
     },
     "metadata": {
      "needs_background": "light"
     },
     "output_type": "display_data"
    }
   ],
   "source": [
    "acq_years = pd.to_datetime(df_adni_tau['acq.date']).dt.year\n",
    "df_adni_tau['acq.year'] = acq_years\n",
    "sns.histplot(data=df_adni_tau, x='acq.year')"
   ]
  },
  {
   "cell_type": "code",
   "execution_count": 10,
   "id": "22974eae",
   "metadata": {},
   "outputs": [
    {
     "data": {
      "text/plain": [
       "<AxesSubplot:xlabel='MMSE', ylabel='Count'>"
      ]
     },
     "execution_count": 10,
     "metadata": {},
     "output_type": "execute_result"
    },
    {
     "data": {
      "image/png": "[encoded data removed]",
      "text/plain": [
       "<Figure size 432x288 with 1 Axes>"
      ]
     },
     "metadata": {
      "needs_background": "light"
     },
     "output_type": "display_data"
    }
   ],
   "source": [
    "sns.histplot(data=df_adni_tau, x='MMSE')"
   ]
  },
  {
   "cell_type": "code",
   "execution_count": 11,
   "id": "fdae8a9f",
   "metadata": {},
   "outputs": [
    {
     "data": {
      "text/plain": [
       "<AxesSubplot:xlabel='ADAS13', ylabel='Count'>"
      ]
     },
     "execution_count": 11,
     "metadata": {},
     "output_type": "execute_result"
    },
    {
     "data": {
      "image/png": "[encoded data removed]",
      "text/plain": [
       "<Figure size 432x288 with 1 Axes>"
      ]
     },
     "metadata": {
      "needs_background": "light"
     },
     "output_type": "display_data"
    }
   ],
   "source": [
    "sns.histplot(data=df_adni_tau, x='ADAS13')"
   ]
  },
  {
   "cell_type": "code",
   "execution_count": 13,
   "id": "faa3307f",
   "metadata": {},
   "outputs": [
    {
     "data": {
      "text/plain": [
       "<AxesSubplot:xlabel='Phase', ylabel='count'>"
      ]
     },
     "execution_count": 13,
     "metadata": {},
     "output_type": "execute_result"
    },
    {
     "data": {
      "image/png": "[encoded data removed]",
      "text/plain": [
       "<Figure size 432x288 with 1 Axes>"
      ]
     },
     "metadata": {
      "needs_background": "light"
     },
     "output_type": "display_data"
    }
   ],
   "source": [
    "sns.countplot(data=df_adni_tau, x='Phase')"
   ]
  },
  {
   "cell_type": "code",
   "execution_count": 17,
   "id": "55feea3d",
   "metadata": {},
   "outputs": [
    {
     "data": {
      "text/plain": [
       "<AxesSubplot:xlabel='apoe', ylabel='count'>"
      ]
     },
     "execution_count": 17,
     "metadata": {},
     "output_type": "execute_result"
    },
    {
     "data": {
      "image/png": "[encoded data removed]",
      "text/plain": [
       "<Figure size 432x288 with 1 Axes>"
      ]
     },
     "metadata": {
      "needs_background": "light"
     },
     "output_type": "display_data"
    }
   ],
   "source": [
    "sns.countplot(data=df_adni_tau, x='apoe')"
   ]
  },
  {
   "cell_type": "code",
   "execution_count": 18,
   "id": "1d6e6f13",
   "metadata": {},
   "outputs": [
    {
     "data": {
      "text/plain": [
       "<AxesSubplot:xlabel='centiloid', ylabel='Count'>"
      ]
     },
     "execution_count": 18,
     "metadata": {},
     "output_type": "execute_result"
    },
    {
     "data": {
      "image/png": "[encoded data removed]",
      "text/plain": [
       "<Figure size 432x288 with 1 Axes>"
      ]
     },
     "metadata": {
      "needs_background": "light"
     },
     "output_type": "display_data"
    }
   ],
   "source": [
    "sns.histplot(data=df_adni_tau, x='centiloid')"
   ]
  },
  {
   "cell_type": "code",
   "execution_count": 19,
   "id": "c35ca0d4",
   "metadata": {},
   "outputs": [
    {
     "data": {
      "text/plain": [
       "<AxesSubplot:xlabel='tau.global.SUVR', ylabel='Count'>"
      ]
     },
     "execution_count": 19,
     "metadata": {},
     "output_type": "execute_result"
    },
    {
     "data": {
      "image/png": "[encoded data removed]",
      "text/plain": [
       "<Figure size 432x288 with 1 Axes>"
      ]
     },
     "metadata": {
      "needs_background": "light"
     },
     "output_type": "display_data"
    }
   ],
   "source": [
    "sns.histplot(data=df_adni_tau, x='tau.global.SUVR')"
   ]
  },
  {
   "cell_type": "code",
   "execution_count": 21,
   "id": "dba43ba2",
   "metadata": {},
   "outputs": [
    {
     "data": {
      "text/plain": [
       "<AxesSubplot:xlabel='mPACCtrailsB', ylabel='Count'>"
      ]
     },
     "execution_count": 21,
     "metadata": {},
     "output_type": "execute_result"
    },
    {
     "data": {
      "image/png": "[encoded data removed]",
      "text/plain": [
       "<Figure size 432x288 with 1 Axes>"
      ]
     },
     "metadata": {
      "needs_background": "light"
     },
     "output_type": "display_data"
    }
   ],
   "source": [
    "sns.histplot(data=df_adni_tau, x='mPACCtrailsB')"
   ]
  },
  {
   "cell_type": "code",
   "execution_count": 24,
   "id": "addaffbc",
   "metadata": {},
   "outputs": [
    {
     "data": {
      "text/plain": [
       "<AxesSubplot:xlabel='SITEID', ylabel='count'>"
      ]
     },
     "execution_count": 24,
     "metadata": {},
     "output_type": "execute_result"
    },
    {
     "data": {
      "image/png": "[encoded data removed]",
      "text/plain": [
       "<Figure size 432x288 with 1 Axes>"
      ]
     },
     "metadata": {
      "needs_background": "light"
     },
     "output_type": "display_data"
    }
   ],
   "source": [
    "sns.countplot(data=df_adni_tau, x='SITEID')"
   ]
  },
  {
   "cell_type": "code",
   "execution_count": 25,
   "id": "d28175de",
   "metadata": {},
   "outputs": [
    {
     "data": {
      "text/plain": [
       "<AxesSubplot:xlabel='DX', ylabel='count'>"
      ]
     },
     "execution_count": 25,
     "metadata": {},
     "output_type": "execute_result"
    },
    {
     "data": {
      "image/png": "[encoded data removed]",
      "text/plain": [
       "<Figure size 432x288 with 1 Axes>"
      ]
     },
     "metadata": {
      "needs_background": "light"
     },
     "output_type": "display_data"
    }
   ],
   "source": [
    "sns.countplot(data=df_adni_tau, x='DX')"
   ]
  },
  {
   "cell_type": "code",
   "execution_count": 28,
   "id": "0fd302e9",
   "metadata": {},
   "outputs": [
    {
     "data": {
      "text/plain": [
       "<AxesSubplot:xlabel='RID', ylabel='Count'>"
      ]
     },
     "execution_count": 28,
     "metadata": {},
     "output_type": "execute_result"
    },
    {
     "data": {
      "image/png": "[encoded data removed]",
      "text/plain": [
       "<Figure size 432x288 with 1 Axes>"
      ]
     },
     "metadata": {
      "needs_background": "light"
     },
     "output_type": "display_data"
    }
   ],
   "source": [
    "sns.RID(data=df_adni_tau, x='RID')"
   ]
  },
  {
   "cell_type": "code",
   "execution_count": 41,
   "id": "4a800b5f",
   "metadata": {},
   "outputs": [
    {
     "data": {
      "text/plain": [
       "<AxesSubplot:xlabel='PTEDUCAT', ylabel='Count'>"
      ]
     },
     "execution_count": 41,
     "metadata": {},
     "output_type": "execute_result"
    },
    {
     "data": {
      "image/png": "[encoded data removed]",
      "text/plain": [
       "<Figure size 432x288 with 1 Axes>"
      ]
     },
     "metadata": {
      "needs_background": "light"
     },
     "output_type": "display_data"
    }
   ],
   "source": [
    "sns.histplot(data=df_adni_tau, x='PTEDUCAT')"
   ]
  },
  {
   "cell_type": "code",
   "execution_count": 42,
   "id": "f54fdbc0",
   "metadata": {},
   "outputs": [
    {
     "data": {
      "text/plain": [
       "<AxesSubplot:xlabel='ADNI_MEM', ylabel='Count'>"
      ]
     },
     "execution_count": 42,
     "metadata": {},
     "output_type": "execute_result"
    },
    {
     "data": {
      "image/png": "[encoded data removed]",
      "text/plain": [
       "<Figure size 432x288 with 1 Axes>"
      ]
     },
     "metadata": {
      "needs_background": "light"
     },
     "output_type": "display_data"
    }
   ],
   "source": [
    "sns.histplot(data=df_adni_tau, x='ADNI_MEM')"
   ]
  },
  {
   "cell_type": "code",
   "execution_count": 43,
   "id": "32acc440",
   "metadata": {},
   "outputs": [
    {
     "data": {
      "text/plain": [
       "<AxesSubplot:xlabel='ADNI_EF', ylabel='Count'>"
      ]
     },
     "execution_count": 43,
     "metadata": {},
     "output_type": "execute_result"
    },
    {
     "data": {
      "image/png": "[encoded data removed]",
      "text/plain": [
       "<Figure size 432x288 with 1 Axes>"
      ]
     },
     "metadata": {
      "needs_background": "light"
     },
     "output_type": "display_data"
    }
   ],
   "source": [
    "sns.histplot(data=df_adni_tau, x='ADNI_EF')"
   ]
  },
  {
   "cell_type": "code",
   "execution_count": 44,
   "id": "5093e9e1",
   "metadata": {},
   "outputs": [
    {
     "data": {
      "text/plain": [
       "<AxesSubplot:xlabel='ADNI_LAN', ylabel='Count'>"
      ]
     },
     "execution_count": 44,
     "metadata": {},
     "output_type": "execute_result"
    },
    {
     "data": {
      "image/png": "[encoded data removed]",
      "text/plain": [
       "<Figure size 432x288 with 1 Axes>"
      ]
     },
     "metadata": {
      "needs_background": "light"
     },
     "output_type": "display_data"
    }
   ],
   "source": [
    "sns.histplot(data=df_adni_tau, x='ADNI_LAN')"
   ]
  },
  {
   "cell_type": "code",
   "execution_count": 45,
   "id": "3a3d7d48",
   "metadata": {},
   "outputs": [
    {
     "data": {
      "text/plain": [
       "<AxesSubplot:xlabel='ADNI_VS', ylabel='Count'>"
      ]
     },
     "execution_count": 45,
     "metadata": {},
     "output_type": "execute_result"
    },
    {
     "data": {
      "image/png": "[encoded data removed]",
      "text/plain": [
       "<Figure size 432x288 with 1 Axes>"
      ]
     },
     "metadata": {
      "needs_background": "light"
     },
     "output_type": "display_data"
    }
   ],
   "source": [
    "sns.histplot(data=df_adni_tau, x='ADNI_VS')"
   ]
  },
  {
   "cell_type": "code",
   "execution_count": 46,
   "id": "23988abc",
   "metadata": {},
   "outputs": [
    {
     "data": {
      "text/plain": [
       "<AxesSubplot:xlabel='t.diff.uwn.psych.pet.yrs', ylabel='Count'>"
      ]
     },
     "execution_count": 46,
     "metadata": {},
     "output_type": "execute_result"
    },
    {
     "data": {
      "image/png": "[encoded data removed]",
      "text/plain": [
       "<Figure size 432x288 with 1 Axes>"
      ]
     },
     "metadata": {
      "needs_background": "light"
     },
     "output_type": "display_data"
    }
   ],
   "source": [
    "sns.histplot(data=df_adni_tau, x='t.diff.uwn.psych.pet.yrs')"
   ]
  },
  {
   "cell_type": "code",
   "execution_count": 47,
   "id": "1e7ac3c0",
   "metadata": {},
   "outputs": [
    {
     "data": {
      "text/plain": [
       "<AxesSubplot:xlabel='t.diff.adas.pet.yrs', ylabel='Count'>"
      ]
     },
     "execution_count": 47,
     "metadata": {},
     "output_type": "execute_result"
    },
    {
     "data": {
      "image/png": "[encoded data removed]",
      "text/plain": [
       "<Figure size 432x288 with 1 Axes>"
      ]
     },
     "metadata": {
      "needs_background": "light"
     },
     "output_type": "display_data"
    }
   ],
   "source": [
    "sns.histplot(data=df_adni_tau, x='t.diff.adas.pet.yrs')"
   ]
  },
  {
   "cell_type": "code",
   "execution_count": 48,
   "id": "a965bb14",
   "metadata": {},
   "outputs": [
    {
     "data": {
      "text/plain": [
       "<AxesSubplot:xlabel='t.diff.diagnosis.pet.yrs', ylabel='Count'>"
      ]
     },
     "execution_count": 48,
     "metadata": {},
     "output_type": "execute_result"
    },
    {
     "data": {
      "image/png": "[encoded data removed]",
      "text/plain": [
       "<Figure size 432x288 with 1 Axes>"
      ]
     },
     "metadata": {
      "needs_background": "light"
     },
     "output_type": "display_data"
    }
   ],
   "source": [
    "sns.histplot(data=df_adni_tau, x='t.diff.diagnosis.pet.yrs')"
   ]
  },
  {
   "cell_type": "markdown",
   "id": "c4be91fa",
   "metadata": {},
   "source": [
    "### Tabular_Info_PET"
   ]
  },
  {
   "cell_type": "code",
   "execution_count": 51,
   "id": "a3daa6de",
   "metadata": {},
   "outputs": [
    {
     "name": "stdout",
     "output_type": "stream",
     "text": [
      "ID\n",
      "age\n",
      "sex\n",
      "pet.modality\n",
      "ses\n",
      "apoe\n",
      "PTEDUCAT\n",
      "ADNI_MEM\n",
      "ADNI_EF\n",
      "ADNI_LAN\n",
      "ADNI_VS\n",
      "ADAS13\n",
      "MMSE\n",
      "mPACCtrailsB\n",
      "None\n"
     ]
    }
   ],
   "source": [
    "print(print('\\n'.join(list(df_pet_data.keys()))))"
   ]
  },
  {
   "cell_type": "code",
   "execution_count": 52,
   "id": "6ea33607",
   "metadata": {},
   "outputs": [
    {
     "name": "stdout",
     "output_type": "stream",
     "text": [
      "         ID  age sex pet.modality             ses  apoe  PTEDUCAT  ADNI_MEM  \\\n",
      "0  sub-0021   85   F     pet-AV45  ses-2017-11-28  23.0        18     1.406   \n",
      "1  sub-0021   80   F     pet-AV45  ses-2012-10-03  23.0        18     2.217   \n",
      "2  sub-0021   85   F   pet-AV1451  ses-2018-02-02  23.0        18     1.406   \n",
      "3  sub-0021   78   F     pet-AV45  ses-2010-10-08  23.0        18     1.692   \n",
      "4  sub-0021   83   F     pet-AV45  ses-2015-11-05  23.0        18     1.526   \n",
      "5  sub-0031   90   F   pet-AV1451  ses-2018-04-24  33.0        18     1.294   \n",
      "6  sub-0031   90   F     pet-AV45  ses-2018-04-18  33.0        18     1.294   \n",
      "7  sub-0031   83   F     pet-AV45  ses-2010-12-01  33.0        18     1.462   \n",
      "8  sub-0031   85   F     pet-AV45  ses-2012-09-20  33.0        18     1.649   \n",
      "9  sub-0031   88   F     pet-AV45  ses-2016-01-26  33.0        18     1.557   \n",
      "\n",
      "   ADNI_EF  ADNI_LAN  ADNI_VS  ADAS13  MMSE  mPACCtrailsB  \n",
      "0   -0.493     0.554    0.706     NaN   NaN           NaN  \n",
      "1    0.565     1.438    0.706     1.0  28.0      1.343490  \n",
      "2   -0.493     0.554    0.706     NaN   NaN           NaN  \n",
      "3    1.236     0.975   -0.104     4.0  29.0      0.396975  \n",
      "4    0.766     1.413    0.706     5.0  27.0     -0.758378  \n",
      "5   -0.105     0.239    0.706    13.0  30.0      0.272124  \n",
      "6   -0.105     0.239    0.706    13.0  30.0      0.272124  \n",
      "7    0.266     0.322    0.706    10.0  30.0      3.678320  \n",
      "8    0.872     0.870    0.706    11.0  30.0      1.596350  \n",
      "9    0.600     0.504    0.706    13.0  30.0      0.272124  \n"
     ]
    }
   ],
   "source": [
    "print(df_pet_data.head(10))"
   ]
  },
  {
   "cell_type": "code",
   "execution_count": 53,
   "id": "9aca3cde",
   "metadata": {},
   "outputs": [
    {
     "data": {
      "text/plain": [
       "<AxesSubplot:xlabel='age', ylabel='Count'>"
      ]
     },
     "execution_count": 53,
     "metadata": {},
     "output_type": "execute_result"
    },
    {
     "data": {
      "image/png": "[encoded data removed]",
      "text/plain": [
       "<Figure size 432x288 with 1 Axes>"
      ]
     },
     "metadata": {
      "needs_background": "light"
     },
     "output_type": "display_data"
    }
   ],
   "source": [
    "sns.histplot(df_pet_data, x='age')"
   ]
  },
  {
   "cell_type": "code",
   "execution_count": 57,
   "id": "b7f22750",
   "metadata": {},
   "outputs": [
    {
     "data": {
      "text/plain": [
       "<AxesSubplot:xlabel='sex', ylabel='count'>"
      ]
     },
     "execution_count": 57,
     "metadata": {},
     "output_type": "execute_result"
    },
    {
     "data": {
      "image/png": "[encoded data removed]",
      "text/plain": [
       "<Figure size 432x288 with 1 Axes>"
      ]
     },
     "metadata": {
      "needs_background": "light"
     },
     "output_type": "display_data"
    }
   ],
   "source": [
    "sns.countplot(data=df_pet_data, x='sex')"
   ]
  },
  {
   "cell_type": "code",
   "execution_count": 58,
   "id": "31cbcec4",
   "metadata": {},
   "outputs": [
    {
     "data": {
      "text/plain": [
       "<AxesSubplot:xlabel='pet.modality', ylabel='count'>"
      ]
     },
     "execution_count": 58,
     "metadata": {},
     "output_type": "execute_result"
    },
    {
     "data": {
      "image/png": "[encoded data removed]",
      "text/plain": [
       "<Figure size 432x288 with 1 Axes>"
      ]
     },
     "metadata": {
      "needs_background": "light"
     },
     "output_type": "display_data"
    }
   ],
   "source": [
    "sns.countplot(data=df_pet_data, x='pet.modality')"
   ]
  },
  {
   "cell_type": "code",
   "execution_count": 59,
   "id": "a23481de",
   "metadata": {},
   "outputs": [
    {
     "data": {
      "text/plain": [
       "<AxesSubplot:xlabel='MMSE', ylabel='Count'>"
      ]
     },
     "execution_count": 59,
     "metadata": {},
     "output_type": "execute_result"
    },
    {
     "data": {
      "image/png": "[encoded data removed]",
      "text/plain": [
       "<Figure size 432x288 with 1 Axes>"
      ]
     },
     "metadata": {
      "needs_background": "light"
     },
     "output_type": "display_data"
    }
   ],
   "source": [
    "sns.histplot(data=df_pet_data, x='MMSE')"
   ]
  },
  {
   "cell_type": "code",
   "execution_count": null,
   "id": "6d41e28c",
   "metadata": {},
   "outputs": [],
   "source": []
  }
 ],
 "metadata": {
  "kernelspec": {
   "display_name": "Python 3 (ipykernel)",
   "language": "python",
   "name": "python3"
  },
  "language_info": {
   "codemirror_mode": {
    "name": "ipython",
    "version": 3
   },
   "file_extension": ".py",
   "mimetype": "text/x-python",
   "name": "python",
   "nbconvert_exporter": "python",
   "pygments_lexer": "ipython3",
   "version": "3.10.4"
  }
 },
 "nbformat": 4,
 "nbformat_minor": 5
}
