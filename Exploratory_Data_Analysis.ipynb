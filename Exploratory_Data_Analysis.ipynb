{
 "cells": [
  {
   "cell_type": "code",
   "execution_count": 1,
   "id": "be375b85",
   "metadata": {},
   "outputs": [
    {
     "ename": "FileNotFoundError",
     "evalue": "[Errno 2] No such file or directory: './data/Tabular_Info_PET.csv'",
     "output_type": "error",
     "traceback": [
      "\u001b[0;31m---------------------------------------------------------------------------\u001b[0m",
      "\u001b[0;31mFileNotFoundError\u001b[0m                         Traceback (most recent call last)",
      "Cell \u001b[0;32mIn [1], line 11\u001b[0m\n\u001b[1;32m      8\u001b[0m f_tab_pet_data \u001b[38;5;241m=\u001b[39m \u001b[38;5;124m'\u001b[39m\u001b[38;5;124m./data/Tabular_Info_PET.csv\u001b[39m\u001b[38;5;124m'\u001b[39m\n\u001b[1;32m     10\u001b[0m df_adni_tau \u001b[38;5;241m=\u001b[39m pd\u001b[38;5;241m.\u001b[39mread_csv(f_tab_adni_tau, low_memory\u001b[38;5;241m=\u001b[39m\u001b[38;5;28;01mFalse\u001b[39;00m)\n\u001b[0;32m---> 11\u001b[0m df_pet_data \u001b[38;5;241m=\u001b[39m \u001b[43mpd\u001b[49m\u001b[38;5;241;43m.\u001b[39;49m\u001b[43mread_csv\u001b[49m\u001b[43m(\u001b[49m\u001b[43mf_tab_pet_data\u001b[49m\u001b[43m,\u001b[49m\u001b[43m \u001b[49m\u001b[43mlow_memory\u001b[49m\u001b[38;5;241;43m=\u001b[39;49m\u001b[38;5;28;43;01mFalse\u001b[39;49;00m\u001b[43m)\u001b[49m\n",
      "File \u001b[0;32m~/.conda/envs/adlm/lib/python3.10/site-packages/pandas/util/_decorators.py:311\u001b[0m, in \u001b[0;36mdeprecate_nonkeyword_arguments.<locals>.decorate.<locals>.wrapper\u001b[0;34m(*args, **kwargs)\u001b[0m\n\u001b[1;32m    305\u001b[0m \u001b[38;5;28;01mif\u001b[39;00m \u001b[38;5;28mlen\u001b[39m(args) \u001b[38;5;241m>\u001b[39m num_allow_args:\n\u001b[1;32m    306\u001b[0m     warnings\u001b[38;5;241m.\u001b[39mwarn(\n\u001b[1;32m    307\u001b[0m         msg\u001b[38;5;241m.\u001b[39mformat(arguments\u001b[38;5;241m=\u001b[39marguments),\n\u001b[1;32m    308\u001b[0m         \u001b[38;5;167;01mFutureWarning\u001b[39;00m,\n\u001b[1;32m    309\u001b[0m         stacklevel\u001b[38;5;241m=\u001b[39mstacklevel,\n\u001b[1;32m    310\u001b[0m     )\n\u001b[0;32m--> 311\u001b[0m \u001b[38;5;28;01mreturn\u001b[39;00m \u001b[43mfunc\u001b[49m\u001b[43m(\u001b[49m\u001b[38;5;241;43m*\u001b[39;49m\u001b[43margs\u001b[49m\u001b[43m,\u001b[49m\u001b[43m \u001b[49m\u001b[38;5;241;43m*\u001b[39;49m\u001b[38;5;241;43m*\u001b[39;49m\u001b[43mkwargs\u001b[49m\u001b[43m)\u001b[49m\n",
      "File \u001b[0;32m~/.conda/envs/adlm/lib/python3.10/site-packages/pandas/io/parsers/readers.py:680\u001b[0m, in \u001b[0;36mread_csv\u001b[0;34m(filepath_or_buffer, sep, delimiter, header, names, index_col, usecols, squeeze, prefix, mangle_dupe_cols, dtype, engine, converters, true_values, false_values, skipinitialspace, skiprows, skipfooter, nrows, na_values, keep_default_na, na_filter, verbose, skip_blank_lines, parse_dates, infer_datetime_format, keep_date_col, date_parser, dayfirst, cache_dates, iterator, chunksize, compression, thousands, decimal, lineterminator, quotechar, quoting, doublequote, escapechar, comment, encoding, encoding_errors, dialect, error_bad_lines, warn_bad_lines, on_bad_lines, delim_whitespace, low_memory, memory_map, float_precision, storage_options)\u001b[0m\n\u001b[1;32m    665\u001b[0m kwds_defaults \u001b[38;5;241m=\u001b[39m _refine_defaults_read(\n\u001b[1;32m    666\u001b[0m     dialect,\n\u001b[1;32m    667\u001b[0m     delimiter,\n\u001b[0;32m   (...)\u001b[0m\n\u001b[1;32m    676\u001b[0m     defaults\u001b[38;5;241m=\u001b[39m{\u001b[38;5;124m\"\u001b[39m\u001b[38;5;124mdelimiter\u001b[39m\u001b[38;5;124m\"\u001b[39m: \u001b[38;5;124m\"\u001b[39m\u001b[38;5;124m,\u001b[39m\u001b[38;5;124m\"\u001b[39m},\n\u001b[1;32m    677\u001b[0m )\n\u001b[1;32m    678\u001b[0m kwds\u001b[38;5;241m.\u001b[39mupdate(kwds_defaults)\n\u001b[0;32m--> 680\u001b[0m \u001b[38;5;28;01mreturn\u001b[39;00m \u001b[43m_read\u001b[49m\u001b[43m(\u001b[49m\u001b[43mfilepath_or_buffer\u001b[49m\u001b[43m,\u001b[49m\u001b[43m \u001b[49m\u001b[43mkwds\u001b[49m\u001b[43m)\u001b[49m\n",
      "File \u001b[0;32m~/.conda/envs/adlm/lib/python3.10/site-packages/pandas/io/parsers/readers.py:575\u001b[0m, in \u001b[0;36m_read\u001b[0;34m(filepath_or_buffer, kwds)\u001b[0m\n\u001b[1;32m    572\u001b[0m _validate_names(kwds\u001b[38;5;241m.\u001b[39mget(\u001b[38;5;124m\"\u001b[39m\u001b[38;5;124mnames\u001b[39m\u001b[38;5;124m\"\u001b[39m, \u001b[38;5;28;01mNone\u001b[39;00m))\n\u001b[1;32m    574\u001b[0m \u001b[38;5;66;03m# Create the parser.\u001b[39;00m\n\u001b[0;32m--> 575\u001b[0m parser \u001b[38;5;241m=\u001b[39m \u001b[43mTextFileReader\u001b[49m\u001b[43m(\u001b[49m\u001b[43mfilepath_or_buffer\u001b[49m\u001b[43m,\u001b[49m\u001b[43m \u001b[49m\u001b[38;5;241;43m*\u001b[39;49m\u001b[38;5;241;43m*\u001b[39;49m\u001b[43mkwds\u001b[49m\u001b[43m)\u001b[49m\n\u001b[1;32m    577\u001b[0m \u001b[38;5;28;01mif\u001b[39;00m chunksize \u001b[38;5;129;01mor\u001b[39;00m iterator:\n\u001b[1;32m    578\u001b[0m     \u001b[38;5;28;01mreturn\u001b[39;00m parser\n",
      "File \u001b[0;32m~/.conda/envs/adlm/lib/python3.10/site-packages/pandas/io/parsers/readers.py:934\u001b[0m, in \u001b[0;36mTextFileReader.__init__\u001b[0;34m(self, f, engine, **kwds)\u001b[0m\n\u001b[1;32m    931\u001b[0m     \u001b[38;5;28mself\u001b[39m\u001b[38;5;241m.\u001b[39moptions[\u001b[38;5;124m\"\u001b[39m\u001b[38;5;124mhas_index_names\u001b[39m\u001b[38;5;124m\"\u001b[39m] \u001b[38;5;241m=\u001b[39m kwds[\u001b[38;5;124m\"\u001b[39m\u001b[38;5;124mhas_index_names\u001b[39m\u001b[38;5;124m\"\u001b[39m]\n\u001b[1;32m    933\u001b[0m \u001b[38;5;28mself\u001b[39m\u001b[38;5;241m.\u001b[39mhandles: IOHandles \u001b[38;5;241m|\u001b[39m \u001b[38;5;28;01mNone\u001b[39;00m \u001b[38;5;241m=\u001b[39m \u001b[38;5;28;01mNone\u001b[39;00m\n\u001b[0;32m--> 934\u001b[0m \u001b[38;5;28mself\u001b[39m\u001b[38;5;241m.\u001b[39m_engine \u001b[38;5;241m=\u001b[39m \u001b[38;5;28;43mself\u001b[39;49m\u001b[38;5;241;43m.\u001b[39;49m\u001b[43m_make_engine\u001b[49m\u001b[43m(\u001b[49m\u001b[43mf\u001b[49m\u001b[43m,\u001b[49m\u001b[43m \u001b[49m\u001b[38;5;28;43mself\u001b[39;49m\u001b[38;5;241;43m.\u001b[39;49m\u001b[43mengine\u001b[49m\u001b[43m)\u001b[49m\n",
      "File \u001b[0;32m~/.conda/envs/adlm/lib/python3.10/site-packages/pandas/io/parsers/readers.py:1218\u001b[0m, in \u001b[0;36mTextFileReader._make_engine\u001b[0;34m(self, f, engine)\u001b[0m\n\u001b[1;32m   1214\u001b[0m     mode \u001b[38;5;241m=\u001b[39m \u001b[38;5;124m\"\u001b[39m\u001b[38;5;124mrb\u001b[39m\u001b[38;5;124m\"\u001b[39m\n\u001b[1;32m   1215\u001b[0m \u001b[38;5;66;03m# error: No overload variant of \"get_handle\" matches argument types\u001b[39;00m\n\u001b[1;32m   1216\u001b[0m \u001b[38;5;66;03m# \"Union[str, PathLike[str], ReadCsvBuffer[bytes], ReadCsvBuffer[str]]\"\u001b[39;00m\n\u001b[1;32m   1217\u001b[0m \u001b[38;5;66;03m# , \"str\", \"bool\", \"Any\", \"Any\", \"Any\", \"Any\", \"Any\"\u001b[39;00m\n\u001b[0;32m-> 1218\u001b[0m \u001b[38;5;28mself\u001b[39m\u001b[38;5;241m.\u001b[39mhandles \u001b[38;5;241m=\u001b[39m \u001b[43mget_handle\u001b[49m\u001b[43m(\u001b[49m\u001b[43m  \u001b[49m\u001b[38;5;66;43;03m# type: ignore[call-overload]\u001b[39;49;00m\n\u001b[1;32m   1219\u001b[0m \u001b[43m    \u001b[49m\u001b[43mf\u001b[49m\u001b[43m,\u001b[49m\n\u001b[1;32m   1220\u001b[0m \u001b[43m    \u001b[49m\u001b[43mmode\u001b[49m\u001b[43m,\u001b[49m\n\u001b[1;32m   1221\u001b[0m \u001b[43m    \u001b[49m\u001b[43mencoding\u001b[49m\u001b[38;5;241;43m=\u001b[39;49m\u001b[38;5;28;43mself\u001b[39;49m\u001b[38;5;241;43m.\u001b[39;49m\u001b[43moptions\u001b[49m\u001b[38;5;241;43m.\u001b[39;49m\u001b[43mget\u001b[49m\u001b[43m(\u001b[49m\u001b[38;5;124;43m\"\u001b[39;49m\u001b[38;5;124;43mencoding\u001b[39;49m\u001b[38;5;124;43m\"\u001b[39;49m\u001b[43m,\u001b[49m\u001b[43m \u001b[49m\u001b[38;5;28;43;01mNone\u001b[39;49;00m\u001b[43m)\u001b[49m\u001b[43m,\u001b[49m\n\u001b[1;32m   1222\u001b[0m \u001b[43m    \u001b[49m\u001b[43mcompression\u001b[49m\u001b[38;5;241;43m=\u001b[39;49m\u001b[38;5;28;43mself\u001b[39;49m\u001b[38;5;241;43m.\u001b[39;49m\u001b[43moptions\u001b[49m\u001b[38;5;241;43m.\u001b[39;49m\u001b[43mget\u001b[49m\u001b[43m(\u001b[49m\u001b[38;5;124;43m\"\u001b[39;49m\u001b[38;5;124;43mcompression\u001b[39;49m\u001b[38;5;124;43m\"\u001b[39;49m\u001b[43m,\u001b[49m\u001b[43m \u001b[49m\u001b[38;5;28;43;01mNone\u001b[39;49;00m\u001b[43m)\u001b[49m\u001b[43m,\u001b[49m\n\u001b[1;32m   1223\u001b[0m \u001b[43m    \u001b[49m\u001b[43mmemory_map\u001b[49m\u001b[38;5;241;43m=\u001b[39;49m\u001b[38;5;28;43mself\u001b[39;49m\u001b[38;5;241;43m.\u001b[39;49m\u001b[43moptions\u001b[49m\u001b[38;5;241;43m.\u001b[39;49m\u001b[43mget\u001b[49m\u001b[43m(\u001b[49m\u001b[38;5;124;43m\"\u001b[39;49m\u001b[38;5;124;43mmemory_map\u001b[39;49m\u001b[38;5;124;43m\"\u001b[39;49m\u001b[43m,\u001b[49m\u001b[43m \u001b[49m\u001b[38;5;28;43;01mFalse\u001b[39;49;00m\u001b[43m)\u001b[49m\u001b[43m,\u001b[49m\n\u001b[1;32m   1224\u001b[0m \u001b[43m    \u001b[49m\u001b[43mis_text\u001b[49m\u001b[38;5;241;43m=\u001b[39;49m\u001b[43mis_text\u001b[49m\u001b[43m,\u001b[49m\n\u001b[1;32m   1225\u001b[0m \u001b[43m    \u001b[49m\u001b[43merrors\u001b[49m\u001b[38;5;241;43m=\u001b[39;49m\u001b[38;5;28;43mself\u001b[39;49m\u001b[38;5;241;43m.\u001b[39;49m\u001b[43moptions\u001b[49m\u001b[38;5;241;43m.\u001b[39;49m\u001b[43mget\u001b[49m\u001b[43m(\u001b[49m\u001b[38;5;124;43m\"\u001b[39;49m\u001b[38;5;124;43mencoding_errors\u001b[39;49m\u001b[38;5;124;43m\"\u001b[39;49m\u001b[43m,\u001b[49m\u001b[43m \u001b[49m\u001b[38;5;124;43m\"\u001b[39;49m\u001b[38;5;124;43mstrict\u001b[39;49m\u001b[38;5;124;43m\"\u001b[39;49m\u001b[43m)\u001b[49m\u001b[43m,\u001b[49m\n\u001b[1;32m   1226\u001b[0m \u001b[43m    \u001b[49m\u001b[43mstorage_options\u001b[49m\u001b[38;5;241;43m=\u001b[39;49m\u001b[38;5;28;43mself\u001b[39;49m\u001b[38;5;241;43m.\u001b[39;49m\u001b[43moptions\u001b[49m\u001b[38;5;241;43m.\u001b[39;49m\u001b[43mget\u001b[49m\u001b[43m(\u001b[49m\u001b[38;5;124;43m\"\u001b[39;49m\u001b[38;5;124;43mstorage_options\u001b[39;49m\u001b[38;5;124;43m\"\u001b[39;49m\u001b[43m,\u001b[49m\u001b[43m \u001b[49m\u001b[38;5;28;43;01mNone\u001b[39;49;00m\u001b[43m)\u001b[49m\u001b[43m,\u001b[49m\n\u001b[1;32m   1227\u001b[0m \u001b[43m\u001b[49m\u001b[43m)\u001b[49m\n\u001b[1;32m   1228\u001b[0m \u001b[38;5;28;01massert\u001b[39;00m \u001b[38;5;28mself\u001b[39m\u001b[38;5;241m.\u001b[39mhandles \u001b[38;5;129;01mis\u001b[39;00m \u001b[38;5;129;01mnot\u001b[39;00m \u001b[38;5;28;01mNone\u001b[39;00m\n\u001b[1;32m   1229\u001b[0m f \u001b[38;5;241m=\u001b[39m \u001b[38;5;28mself\u001b[39m\u001b[38;5;241m.\u001b[39mhandles\u001b[38;5;241m.\u001b[39mhandle\n",
      "File \u001b[0;32m~/.conda/envs/adlm/lib/python3.10/site-packages/pandas/io/common.py:786\u001b[0m, in \u001b[0;36mget_handle\u001b[0;34m(path_or_buf, mode, encoding, compression, memory_map, is_text, errors, storage_options)\u001b[0m\n\u001b[1;32m    781\u001b[0m \u001b[38;5;28;01melif\u001b[39;00m \u001b[38;5;28misinstance\u001b[39m(handle, \u001b[38;5;28mstr\u001b[39m):\n\u001b[1;32m    782\u001b[0m     \u001b[38;5;66;03m# Check whether the filename is to be opened in binary mode.\u001b[39;00m\n\u001b[1;32m    783\u001b[0m     \u001b[38;5;66;03m# Binary mode does not support 'encoding' and 'newline'.\u001b[39;00m\n\u001b[1;32m    784\u001b[0m     \u001b[38;5;28;01mif\u001b[39;00m ioargs\u001b[38;5;241m.\u001b[39mencoding \u001b[38;5;129;01mand\u001b[39;00m \u001b[38;5;124m\"\u001b[39m\u001b[38;5;124mb\u001b[39m\u001b[38;5;124m\"\u001b[39m \u001b[38;5;129;01mnot\u001b[39;00m \u001b[38;5;129;01min\u001b[39;00m ioargs\u001b[38;5;241m.\u001b[39mmode:\n\u001b[1;32m    785\u001b[0m         \u001b[38;5;66;03m# Encoding\u001b[39;00m\n\u001b[0;32m--> 786\u001b[0m         handle \u001b[38;5;241m=\u001b[39m \u001b[38;5;28;43mopen\u001b[39;49m\u001b[43m(\u001b[49m\n\u001b[1;32m    787\u001b[0m \u001b[43m            \u001b[49m\u001b[43mhandle\u001b[49m\u001b[43m,\u001b[49m\n\u001b[1;32m    788\u001b[0m \u001b[43m            \u001b[49m\u001b[43mioargs\u001b[49m\u001b[38;5;241;43m.\u001b[39;49m\u001b[43mmode\u001b[49m\u001b[43m,\u001b[49m\n\u001b[1;32m    789\u001b[0m \u001b[43m            \u001b[49m\u001b[43mencoding\u001b[49m\u001b[38;5;241;43m=\u001b[39;49m\u001b[43mioargs\u001b[49m\u001b[38;5;241;43m.\u001b[39;49m\u001b[43mencoding\u001b[49m\u001b[43m,\u001b[49m\n\u001b[1;32m    790\u001b[0m \u001b[43m            \u001b[49m\u001b[43merrors\u001b[49m\u001b[38;5;241;43m=\u001b[39;49m\u001b[43merrors\u001b[49m\u001b[43m,\u001b[49m\n\u001b[1;32m    791\u001b[0m \u001b[43m            \u001b[49m\u001b[43mnewline\u001b[49m\u001b[38;5;241;43m=\u001b[39;49m\u001b[38;5;124;43m\"\u001b[39;49m\u001b[38;5;124;43m\"\u001b[39;49m\u001b[43m,\u001b[49m\n\u001b[1;32m    792\u001b[0m \u001b[43m        \u001b[49m\u001b[43m)\u001b[49m\n\u001b[1;32m    793\u001b[0m     \u001b[38;5;28;01melse\u001b[39;00m:\n\u001b[1;32m    794\u001b[0m         \u001b[38;5;66;03m# Binary mode\u001b[39;00m\n\u001b[1;32m    795\u001b[0m         handle \u001b[38;5;241m=\u001b[39m \u001b[38;5;28mopen\u001b[39m(handle, ioargs\u001b[38;5;241m.\u001b[39mmode)\n",
      "\u001b[0;31mFileNotFoundError\u001b[0m: [Errno 2] No such file or directory: './data/Tabular_Info_PET.csv'"
     ]
    }
   ],
   "source": [
    "import pandas as pd\n",
    "import seaborn as sns\n",
    "from datetime import datetime\n",
    "import numpy as np\n",
    "from statistics import median\n",
    "\n",
    "f_tab_adni_tau = './data/ADNI_Tau_Amyloid_SUVR_amyloid_tau_status_dems.csv'\n",
    "f_tab_pet_data = './data/Tabular_Info_PET.csv'\n",
    "\n",
    "df_adni_tau = pd.read_csv(f_tab_adni_tau, low_memory=False)\n",
    "df_pet_data = pd.read_csv(f_tab_pet_data, low_memory=False)"
   ]
  },
  {
   "cell_type": "markdown",
   "id": "4c17e61c",
   "metadata": {},
   "source": [
    "### ADNI_Tau_Amyloid_SUVR_amyloid_tau_status_dems"
   ]
  },
  {
   "cell_type": "markdown",
   "id": "2c1c764c",
   "metadata": {},
   "source": [
    "Change the strings in the session column 'ses' to datetime objects to facilitate computing the time differences"
   ]
  },
  {
   "cell_type": "code",
   "execution_count": null,
   "id": "6974b6e5",
   "metadata": {},
   "outputs": [],
   "source": [
    "df_adni_tau['ses'] = df_adni_tau['ses'].apply(lambda x: datetime.strptime(x, 'ses-%Y-%m-%d'))"
   ]
  },
  {
   "cell_type": "markdown",
   "id": "94c154b4",
   "metadata": {},
   "source": [
    "#### Number of subjects"
   ]
  },
  {
   "cell_type": "code",
   "execution_count": null,
   "id": "5d17e539",
   "metadata": {},
   "outputs": [],
   "source": [
    "unique_id_list = df_adni_tau['ID'].unique()\n",
    "print(f'Lenth of the DataFrame:    {len(df_adni_tau)}')\n",
    "print(f'Number of unique subjects:    {len(unique_id_list)}')\n"
   ]
  },
  {
   "cell_type": "markdown",
   "id": "de46d073",
   "metadata": {},
   "source": [
    "#### Diagnosis change\n",
    "\n",
    "In the following we can observe that there are subjects for which the diagnosis 'DX' changed between different assesments. \n",
    "\n",
    "The subsequent dataframe lists 'DX' for a single patient in chronological order. It stands out that there was a diagnosis \"CN\" after the patient has been diagnosed as \"MCI\". Also interesting is, that there is another \"CN\" diagnosis two years later."
   ]
  },
  {
   "cell_type": "code",
   "execution_count": null,
   "id": "a51e6e0c",
   "metadata": {},
   "outputs": [],
   "source": [
    "grp_id = df_adni_tau.groupby('ID')\n",
    "s59 = grp_id.get_group('sub-0059').sort_values(by='ses')[['ID', 'age', 'group', 'pet.modality', 'DX', 'ses']]\n",
    "s59"
   ]
  },
  {
   "cell_type": "markdown",
   "id": "6dc68f92",
   "metadata": {},
   "source": [
    "### Plot the frequency of time differences between 2 pet scans from the same person and the same pet modality"
   ]
  },
  {
   "cell_type": "code",
   "execution_count": null,
   "id": "bd219477",
   "metadata": {},
   "outputs": [],
   "source": [
    "time_diff_days = []\n",
    "\n",
    "grp_id_mod = df_adni_tau.groupby(['ID', 'pet.modality'])\n",
    "for name, group in grp_id_mod:\n",
    "    group = group.sort_values(by='ses')[['ID', 'age', 'group', 'pet.modality', 'DX', 'ses']]\n",
    "    group['delta'] = (group['ses']-group['ses'].shift())\n",
    "    group['delta'] = group['delta'].apply(lambda x: x.days)\n",
    "    \n",
    "    list_td = list(group['delta'])\n",
    "    list_td = list(filter(lambda x: str(x) != 'nan', list_td))\n",
    "    time_diff_days += list_td\n"
   ]
  },
  {
   "cell_type": "code",
   "execution_count": null,
   "id": "cf57e473",
   "metadata": {},
   "outputs": [],
   "source": [
    "print(len(time_diff_days))\n",
    "sns.histplot(time_diff_days, stat='percent', cumulative=True, binwidth=10)\n",
    "sns.histplot(time_diff_days, stat='percent', binwidth=10)"
   ]
  },
  {
   "cell_type": "markdown",
   "id": "9af4debb",
   "metadata": {},
   "source": [
    "In the plot above can be seen, that two sessions are usually one or two years apart."
   ]
  },
  {
   "cell_type": "markdown",
   "id": "0a6496ba",
   "metadata": {},
   "source": [
    "## Plot the class distributions over the different modalities \n",
    "\n",
    "We can observe that we have a class-imbalance problem since the 'Dementia' class is clearly underrepresented"
   ]
  },
  {
   "cell_type": "code",
   "execution_count": null,
   "id": "e8dca2a3",
   "metadata": {},
   "outputs": [],
   "source": [
    "df_adni_tau['pet.modality'].unique()"
   ]
  },
  {
   "cell_type": "code",
   "execution_count": null,
   "id": "375e7099",
   "metadata": {},
   "outputs": [],
   "source": [
    "filt_av45 = df_adni_tau['pet.modality'] == 'pet-AV45'\n",
    "filt_av1451 = df_adni_tau['pet.modality'] == 'pet-AV1451'\n",
    "filt_fbb = df_adni_tau['pet.modality'] == 'pet-FBB'\n",
    "df_pet_av45 = df_adni_tau.loc[filt_av45]\n",
    "df_pet_av1451 = df_adni_tau.loc[filt_av1451]\n",
    "df_pet_fbb = df_adni_tau.loc[filt_fbb]\n"
   ]
  },
  {
   "cell_type": "code",
   "execution_count": null,
   "id": "9f860416",
   "metadata": {},
   "outputs": [],
   "source": [
    "sns.countplot(data=df_pet_av45, x='DX')"
   ]
  },
  {
   "cell_type": "code",
   "execution_count": null,
   "id": "ac323ab6",
   "metadata": {},
   "outputs": [],
   "source": [
    "sns.countplot(data=df_pet_av1451, x='DX')"
   ]
  },
  {
   "cell_type": "code",
   "execution_count": null,
   "id": "5feffd34",
   "metadata": {},
   "outputs": [],
   "source": [
    "sns.countplot(data=df_pet_fbb, x='DX')"
   ]
  },
  {
   "cell_type": "markdown",
   "id": "696bc46c",
   "metadata": {},
   "source": [
    "### Overview of keys and values"
   ]
  },
  {
   "cell_type": "code",
   "execution_count": null,
   "id": "f7b5b667",
   "metadata": {},
   "outputs": [],
   "source": [
    "print(print('\\n'.join(list(df_adni_tau.keys()))))"
   ]
  },
  {
   "cell_type": "markdown",
   "id": "efe38224",
   "metadata": {},
   "source": [
    "### Usually AD patients have In-Clinic-Visits more frequently \n",
    "(3 per year which does not exactly coincide with what we see below)"
   ]
  },
  {
   "cell_type": "code",
   "execution_count": null,
   "id": "6a7f6d12",
   "metadata": {},
   "outputs": [],
   "source": [
    "#print(df_adni_tau.head(10))\n",
    "#print(df_adni_tau[['ID', 'ses', 'ADAS13', 'Phase']].head(10))\n",
    "filt_ad = df_adni_tau['DX'] == 'Dementia'\n",
    "df_ad = df_adni_tau.loc[filt_ad]\n",
    "df_ad[['ID', 'ses', 'DX']].head(30).sort_values(by=['ID', 'ses'])"
   ]
  },
  {
   "cell_type": "code",
   "execution_count": null,
   "id": "fad0e82b",
   "metadata": {},
   "outputs": [],
   "source": [
    "df_adni_tau"
   ]
  },
  {
   "cell_type": "markdown",
   "id": "6e424222",
   "metadata": {},
   "source": [
    "### Subject study entry statistics"
   ]
  },
  {
   "cell_type": "code",
   "execution_count": null,
   "id": "b7fd7040",
   "metadata": {},
   "outputs": [],
   "source": [
    "# Drop all but the first appearance of each subject\n",
    "df_subject_entry = df_adni_tau.sort_values('ses').drop_duplicates(subset=['ID'])"
   ]
  },
  {
   "cell_type": "code",
   "execution_count": null,
   "id": "06bfd22d",
   "metadata": {},
   "outputs": [],
   "source": [
    "sns.histplot(df_subject_entry, x='age', discrete=True)"
   ]
  },
  {
   "cell_type": "code",
   "execution_count": null,
   "id": "341f9caf",
   "metadata": {},
   "outputs": [],
   "source": [
    "sns.countplot(data=df_subject_entry, x='sex')"
   ]
  },
  {
   "cell_type": "code",
   "execution_count": null,
   "id": "48e63593",
   "metadata": {},
   "outputs": [],
   "source": [
    "sns.countplot(data=df_subject_entry, x='group')"
   ]
  },
  {
   "cell_type": "code",
   "execution_count": null,
   "id": "d199d5bd",
   "metadata": {},
   "outputs": [],
   "source": [
    "# Add column with year of first session\n",
    "df_subject_entry['acq.year'] = pd.to_datetime(df_subject_entry['acq.date']).dt.year\n",
    "\n",
    "sns.histplot(data=df_subject_entry, x='acq.year', discrete=True)"
   ]
  },
  {
   "cell_type": "code",
   "execution_count": null,
   "id": "22974eae",
   "metadata": {},
   "outputs": [],
   "source": [
    "sns.histplot(data=df_subject_entry, x='MMSE', discrete=True)\n",
    "filt_missing_mmse = pd.isnull(df_subject_entry['MMSE'])\n",
    "print(f'Missing Values: {filt_missing_mmse.sum()} ({filt_missing_mmse.sum()/len(df_subject_entry)*100:.2f}%)')"
   ]
  },
  {
   "cell_type": "code",
   "execution_count": null,
   "id": "99d684fe",
   "metadata": {},
   "outputs": [],
   "source": [
    "sns.histplot(data=df_subject_entry, x='MMSE', hue='DX', element=\"step\")#,stat=\"density\")"
   ]
  },
  {
   "cell_type": "markdown",
   "id": "edf7eaca",
   "metadata": {},
   "source": [
    "Uncommenting the next cell will display the data for samples where MMSE is missing.\n",
    "However this did not give meaningful insights."
   ]
  },
  {
   "cell_type": "code",
   "execution_count": null,
   "id": "3d133615",
   "metadata": {},
   "outputs": [],
   "source": [
    "#df_subject_entry.loc[filt_missing_mmse][['ID','group', 'pet.modality', 'DX']].head(47)"
   ]
  },
  {
   "cell_type": "code",
   "execution_count": null,
   "id": "fdae8a9f",
   "metadata": {},
   "outputs": [],
   "source": [
    "sns.histplot(data=df_subject_entry, x='ADAS13', discrete=True)\n",
    "filt_missing_adas = pd.isnull(df_subject_entry['ADAS13'])\n",
    "print(f'Missing Values: {filt_missing_adas.sum()} ({(filt_missing_adas.sum()/len(df_subject_entry))*100:.2f}%)')"
   ]
  },
  {
   "cell_type": "code",
   "execution_count": null,
   "id": "e23345c0",
   "metadata": {},
   "outputs": [],
   "source": [
    "sns.histplot(data=df_subject_entry, x='ADAS13', hue='DX', element=\"step\")"
   ]
  },
  {
   "cell_type": "code",
   "execution_count": null,
   "id": "faa3307f",
   "metadata": {},
   "outputs": [],
   "source": [
    "sns.countplot(data=df_subject_entry, x='Phase')"
   ]
  },
  {
   "cell_type": "code",
   "execution_count": null,
   "id": "55feea3d",
   "metadata": {},
   "outputs": [],
   "source": [
    "sns.countplot(data=df_subject_entry, x='apoe')"
   ]
  },
  {
   "cell_type": "code",
   "execution_count": null,
   "id": "1d6e6f13",
   "metadata": {},
   "outputs": [],
   "source": [
    "sns.histplot(data=df_subject_entry, x='centiloid')"
   ]
  },
  {
   "cell_type": "code",
   "execution_count": null,
   "id": "c35ca0d4",
   "metadata": {},
   "outputs": [],
   "source": [
    "sns.histplot(data=df_subject_entry, x='tau.global.SUVR')"
   ]
  },
  {
   "cell_type": "code",
   "execution_count": null,
   "id": "dba43ba2",
   "metadata": {},
   "outputs": [],
   "source": [
    "sns.histplot(data=df_subject_entry, x='mPACCtrailsB')"
   ]
  },
  {
   "cell_type": "code",
   "execution_count": null,
   "id": "addaffbc",
   "metadata": {},
   "outputs": [],
   "source": [
    "sns.countplot(data=df_subject_entry, x='SITEID')"
   ]
  },
  {
   "cell_type": "code",
   "execution_count": null,
   "id": "d28175de",
   "metadata": {},
   "outputs": [],
   "source": [
    "sns.countplot(data=df_subject_entry, x='DX')"
   ]
  },
  {
   "cell_type": "code",
   "execution_count": null,
   "id": "4a800b5f",
   "metadata": {},
   "outputs": [],
   "source": [
    "sns.histplot(data=df_subject_entry, x='PTEDUCAT')"
   ]
  },
  {
   "cell_type": "code",
   "execution_count": null,
   "id": "f54fdbc0",
   "metadata": {},
   "outputs": [],
   "source": [
    "sns.histplot(data=df_subject_entry, x='ADNI_MEM')"
   ]
  },
  {
   "cell_type": "code",
   "execution_count": null,
   "id": "32acc440",
   "metadata": {},
   "outputs": [],
   "source": [
    "sns.histplot(data=df_subject_entry, x='ADNI_EF')"
   ]
  },
  {
   "cell_type": "code",
   "execution_count": null,
   "id": "5093e9e1",
   "metadata": {},
   "outputs": [],
   "source": [
    "sns.histplot(data=df_subject_entry, x='ADNI_LAN')"
   ]
  },
  {
   "cell_type": "code",
   "execution_count": null,
   "id": "3a3d7d48",
   "metadata": {},
   "outputs": [],
   "source": [
    "sns.histplot(data=df_subject_entry, x='ADNI_VS')"
   ]
  },
  {
   "cell_type": "code",
   "execution_count": null,
   "id": "23988abc",
   "metadata": {},
   "outputs": [],
   "source": [
    "sns.histplot(data=df_subject_entry, x='t.diff.uwn.psych.pet.yrs')"
   ]
  },
  {
   "cell_type": "code",
   "execution_count": null,
   "id": "1e7ac3c0",
   "metadata": {},
   "outputs": [],
   "source": [
    "sns.histplot(data=df_subject_entry, x='t.diff.adas.pet.yrs')"
   ]
  },
  {
   "cell_type": "code",
   "execution_count": null,
   "id": "a965bb14",
   "metadata": {},
   "outputs": [],
   "source": [
    "sns.histplot(data=df_subject_entry, x='t.diff.diagnosis.pet.yrs')"
   ]
  },
  {
   "cell_type": "markdown",
   "id": "4989d0a2",
   "metadata": {},
   "source": [
    "### Intra subject change per year"
   ]
  },
  {
   "cell_type": "code",
   "execution_count": null,
   "id": "e6072641",
   "metadata": {},
   "outputs": [],
   "source": [
    "# Select only entries with pet-AV1251 and group them by ID\n",
    "grp_id = df_adni_tau[df_adni_tau['pet.modality'] == 'pet-AV1451'].groupby(['ID'])"
   ]
  },
  {
   "cell_type": "code",
   "execution_count": null,
   "id": "f3ddbb13",
   "metadata": {},
   "outputs": [],
   "source": [
    "list_delta_MMSE = []\n",
    "\n",
    "# Calculate median change of MMSE per year for each subject\n",
    "for _, group in grp_id:\n",
    "    group = group.sort_values(by='ses')[['ID', 'DX', 'ses', 'MMSE', 'ADAS13', 'ADNI_MEM', 'ADNI_EF', 'ADNI_LAN', 'ADNI_VS']]\n",
    "    group['delta'] = (group['ses']-group['ses'].shift())\n",
    "    group['delta'] = group['delta'].apply(lambda x: x.days)\n",
    "    \n",
    "    group['delta_MMSE_per_ses'] = (group['MMSE']-group['MMSE'].shift())\n",
    "    group['delta_MMSE_per_year'] = group['delta_MMSE_per_ses']/group['delta']*365\n",
    "    \n",
    "    list_delta_MMSE_sub = list(group['delta_MMSE_per_year'])\n",
    "    list_delta_MMSE_sub = list(filter(lambda x: str(x) != 'nan', list_delta_MMSE_sub))\n",
    "    if list_delta_MMSE_sub:\n",
    "        list_delta_MMSE += [round(median(list_delta_MMSE_sub))]\n",
    "    \n",
    "sns.histplot(list_delta_MMSE, stat='percent', discrete=True)"
   ]
  },
  {
   "cell_type": "code",
   "execution_count": null,
   "id": "96bef126",
   "metadata": {},
   "outputs": [],
   "source": [
    "list_delta_ADAS13 = []\n",
    "\n",
    "# Calculate median change of ADAS13 per year for each subject\n",
    "for _, group in grp_id:\n",
    "    group = group.sort_values(by='ses')[['ID', 'DX', 'ses', 'MMSE', 'ADAS13', 'ADNI_MEM', 'ADNI_EF', 'ADNI_LAN', 'ADNI_VS']]\n",
    "    group['delta'] = (group['ses']-group['ses'].shift())\n",
    "    group['delta'] = group['delta'].apply(lambda x: x.days)\n",
    "    \n",
    "    group['delta_ADAS13_per_ses'] = (group['ADAS13']-group['ADAS13'].shift())\n",
    "    group['delta_ADAS13_per_year'] = group['delta_ADAS13_per_ses']/group['delta']*365\n",
    "    \n",
    "    list_delta_sub = list(group['delta_ADAS13_per_year'])\n",
    "    list_delta_sub = list(filter(lambda x: str(x) != 'nan', list_delta_sub))\n",
    "    if list_delta_sub:\n",
    "        list_delta_ADAS13 += [median(list_delta_sub)]\n",
    "    \n",
    "sns.histplot(list_delta_ADAS13, stat='percent')"
   ]
  },
  {
   "cell_type": "markdown",
   "id": "2cd986e8",
   "metadata": {},
   "source": [
    "### Non redundancy reduced statistics"
   ]
  },
  {
   "cell_type": "code",
   "execution_count": null,
   "id": "855e54c1",
   "metadata": {},
   "outputs": [],
   "source": [
    "sns.countplot(data=df_adni_tau, x='pet.modality')"
   ]
  },
  {
   "cell_type": "markdown",
   "id": "c4be91fa",
   "metadata": {},
   "source": [
    "### Tabular_Info_PET"
   ]
  },
  {
   "cell_type": "code",
   "execution_count": null,
   "id": "a3daa6de",
   "metadata": {},
   "outputs": [],
   "source": [
    "print(print('\\n'.join(list(df_pet_data.keys()))))"
   ]
  },
  {
   "cell_type": "code",
   "execution_count": 5,
   "id": "3e2209fd",
   "metadata": {},
   "outputs": [
    {
     "data": {
      "text/html": [
       "<div>\n",
       "<style scoped>\n",
       "    .dataframe tbody tr th:only-of-type {\n",
       "        vertical-align: middle;\n",
       "    }\n",
       "\n",
       "    .dataframe tbody tr th {\n",
       "        vertical-align: top;\n",
       "    }\n",
       "\n",
       "    .dataframe thead th {\n",
       "        text-align: right;\n",
       "    }\n",
       "</style>\n",
       "<table border=\"1\" class=\"dataframe\">\n",
       "  <thead>\n",
       "    <tr style=\"text-align: right;\">\n",
       "      <th></th>\n",
       "      <th>ID</th>\n",
       "      <th>age</th>\n",
       "      <th>sex</th>\n",
       "      <th>group</th>\n",
       "      <th>pet.modality</th>\n",
       "      <th>modality.description</th>\n",
       "      <th>image.id</th>\n",
       "      <th>ses</th>\n",
       "      <th>acq.date</th>\n",
       "      <th>SUVR.Schaefer200.ROI.idx.1</th>\n",
       "      <th>...</th>\n",
       "      <th>t.diff.uwn.psych.pet.yrs</th>\n",
       "      <th>ADAS13</th>\n",
       "      <th>MMSE</th>\n",
       "      <th>mPACCtrailsB</th>\n",
       "      <th>t.diff.adas.pet.yrs</th>\n",
       "      <th>PHASE</th>\n",
       "      <th>DX</th>\n",
       "      <th>SITEID</th>\n",
       "      <th>t.diff.diagnosis.pet.yrs</th>\n",
       "      <th>Phase</th>\n",
       "    </tr>\n",
       "  </thead>\n",
       "  <tbody>\n",
       "    <tr>\n",
       "      <th>0</th>\n",
       "      <td>sub-0021</td>\n",
       "      <td>80</td>\n",
       "      <td>F</td>\n",
       "      <td>CN</td>\n",
       "      <td>pet-AV45</td>\n",
       "      <td>AV45 Coreg, Avg, Standardized Image and Voxel ...</td>\n",
       "      <td>I338512</td>\n",
       "      <td>ses-2012-10-03</td>\n",
       "      <td>2012-10-03</td>\n",
       "      <td>0.912861</td>\n",
       "      <td>...</td>\n",
       "      <td>0.000000</td>\n",
       "      <td>1.00</td>\n",
       "      <td>28.0</td>\n",
       "      <td>1.299940</td>\n",
       "      <td>0.000000</td>\n",
       "      <td>NaN</td>\n",
       "      <td>CN</td>\n",
       "      <td>8</td>\n",
       "      <td>0.021918</td>\n",
       "      <td>ADNI2</td>\n",
       "    </tr>\n",
       "    <tr>\n",
       "      <th>1</th>\n",
       "      <td>sub-0021</td>\n",
       "      <td>85</td>\n",
       "      <td>F</td>\n",
       "      <td>CN</td>\n",
       "      <td>pet-AV1451</td>\n",
       "      <td>AV1451 Coreg, Avg, Standardized Image and Voxe...</td>\n",
       "      <td>I964024</td>\n",
       "      <td>ses-2018-02-02</td>\n",
       "      <td>2018-02-02</td>\n",
       "      <td>1.126000</td>\n",
       "      <td>...</td>\n",
       "      <td>-0.183562</td>\n",
       "      <td>12.33</td>\n",
       "      <td>27.0</td>\n",
       "      <td>-2.151210</td>\n",
       "      <td>-0.183562</td>\n",
       "      <td>NaN</td>\n",
       "      <td>CN</td>\n",
       "      <td>8</td>\n",
       "      <td>0.065753</td>\n",
       "      <td>ADNI3</td>\n",
       "    </tr>\n",
       "    <tr>\n",
       "      <th>2</th>\n",
       "      <td>sub-0021</td>\n",
       "      <td>83</td>\n",
       "      <td>F</td>\n",
       "      <td>CN</td>\n",
       "      <td>pet-AV45</td>\n",
       "      <td>AV45 Coreg, Avg, Standardized Image and Voxel ...</td>\n",
       "      <td>I557331</td>\n",
       "      <td>ses-2015-11-05</td>\n",
       "      <td>2015-11-05</td>\n",
       "      <td>0.899505</td>\n",
       "      <td>...</td>\n",
       "      <td>-0.024658</td>\n",
       "      <td>5.00</td>\n",
       "      <td>27.0</td>\n",
       "      <td>-0.816517</td>\n",
       "      <td>-0.024658</td>\n",
       "      <td>NaN</td>\n",
       "      <td>CN</td>\n",
       "      <td>8</td>\n",
       "      <td>0.013699</td>\n",
       "      <td>ADNI2</td>\n",
       "    </tr>\n",
       "    <tr>\n",
       "      <th>3</th>\n",
       "      <td>sub-0021</td>\n",
       "      <td>78</td>\n",
       "      <td>F</td>\n",
       "      <td>CN</td>\n",
       "      <td>pet-AV45</td>\n",
       "      <td>AV45 Coreg, Avg, Standardized Image and Voxel ...</td>\n",
       "      <td>I196544</td>\n",
       "      <td>ses-2010-10-08</td>\n",
       "      <td>2010-10-08</td>\n",
       "      <td>1.007220</td>\n",
       "      <td>...</td>\n",
       "      <td>-0.002740</td>\n",
       "      <td>4.00</td>\n",
       "      <td>29.0</td>\n",
       "      <td>0.355272</td>\n",
       "      <td>-0.002740</td>\n",
       "      <td>NaN</td>\n",
       "      <td>CN</td>\n",
       "      <td>8</td>\n",
       "      <td>0.027397</td>\n",
       "      <td>ADNIGO</td>\n",
       "    </tr>\n",
       "    <tr>\n",
       "      <th>4</th>\n",
       "      <td>sub-0021</td>\n",
       "      <td>85</td>\n",
       "      <td>F</td>\n",
       "      <td>CN</td>\n",
       "      <td>pet-AV45</td>\n",
       "      <td>AV45 Coreg, Avg, Standardized Image and Voxel ...</td>\n",
       "      <td>I943941</td>\n",
       "      <td>ses-2017-11-28</td>\n",
       "      <td>2017-11-28</td>\n",
       "      <td>0.877004</td>\n",
       "      <td>...</td>\n",
       "      <td>-0.002740</td>\n",
       "      <td>12.33</td>\n",
       "      <td>27.0</td>\n",
       "      <td>-2.151210</td>\n",
       "      <td>-0.002740</td>\n",
       "      <td>NaN</td>\n",
       "      <td>CN</td>\n",
       "      <td>8</td>\n",
       "      <td>0.246575</td>\n",
       "      <td>ADNI3</td>\n",
       "    </tr>\n",
       "    <tr>\n",
       "      <th>...</th>\n",
       "      <td>...</td>\n",
       "      <td>...</td>\n",
       "      <td>...</td>\n",
       "      <td>...</td>\n",
       "      <td>...</td>\n",
       "      <td>...</td>\n",
       "      <td>...</td>\n",
       "      <td>...</td>\n",
       "      <td>...</td>\n",
       "      <td>...</td>\n",
       "      <td>...</td>\n",
       "      <td>...</td>\n",
       "      <td>...</td>\n",
       "      <td>...</td>\n",
       "      <td>...</td>\n",
       "      <td>...</td>\n",
       "      <td>...</td>\n",
       "      <td>...</td>\n",
       "      <td>...</td>\n",
       "      <td>...</td>\n",
       "      <td>...</td>\n",
       "    </tr>\n",
       "    <tr>\n",
       "      <th>2958</th>\n",
       "      <td>sub-6887</td>\n",
       "      <td>73</td>\n",
       "      <td>F</td>\n",
       "      <td>MCI</td>\n",
       "      <td>pet-AV1451</td>\n",
       "      <td>ADNI3-TAU 2 (AC)</td>\n",
       "      <td>I1360700</td>\n",
       "      <td>ses-2020-10-27</td>\n",
       "      <td>2020-10-27</td>\n",
       "      <td>1.218620</td>\n",
       "      <td>...</td>\n",
       "      <td>NaN</td>\n",
       "      <td>22.33</td>\n",
       "      <td>26.0</td>\n",
       "      <td>-8.167770</td>\n",
       "      <td>-0.060274</td>\n",
       "      <td>NaN</td>\n",
       "      <td>MCI</td>\n",
       "      <td>26</td>\n",
       "      <td>-0.049315</td>\n",
       "      <td>ADNI3</td>\n",
       "    </tr>\n",
       "    <tr>\n",
       "      <th>2959</th>\n",
       "      <td>sub-6888</td>\n",
       "      <td>64</td>\n",
       "      <td>F</td>\n",
       "      <td>MCI</td>\n",
       "      <td>pet-AV1451</td>\n",
       "      <td>PET1 Tau</td>\n",
       "      <td>I1346966</td>\n",
       "      <td>ses-2020-10-07</td>\n",
       "      <td>2020-10-07</td>\n",
       "      <td>1.126700</td>\n",
       "      <td>...</td>\n",
       "      <td>NaN</td>\n",
       "      <td>15.67</td>\n",
       "      <td>26.0</td>\n",
       "      <td>-3.761820</td>\n",
       "      <td>0.000000</td>\n",
       "      <td>NaN</td>\n",
       "      <td>MCI</td>\n",
       "      <td>45</td>\n",
       "      <td>-0.016438</td>\n",
       "      <td>ADNI3</td>\n",
       "    </tr>\n",
       "    <tr>\n",
       "      <th>2960</th>\n",
       "      <td>sub-6889</td>\n",
       "      <td>68</td>\n",
       "      <td>M</td>\n",
       "      <td>MCI</td>\n",
       "      <td>pet-AV1451</td>\n",
       "      <td>BRAIN ADNI Tau</td>\n",
       "      <td>I1350177</td>\n",
       "      <td>ses-2020-10-16</td>\n",
       "      <td>2020-10-16</td>\n",
       "      <td>1.183060</td>\n",
       "      <td>...</td>\n",
       "      <td>NaN</td>\n",
       "      <td>29.00</td>\n",
       "      <td>28.0</td>\n",
       "      <td>-5.300670</td>\n",
       "      <td>0.019178</td>\n",
       "      <td>NaN</td>\n",
       "      <td>MCI</td>\n",
       "      <td>24</td>\n",
       "      <td>-0.057534</td>\n",
       "      <td>ADNI3</td>\n",
       "    </tr>\n",
       "    <tr>\n",
       "      <th>2961</th>\n",
       "      <td>sub-6890</td>\n",
       "      <td>66</td>\n",
       "      <td>M</td>\n",
       "      <td>MCI</td>\n",
       "      <td>pet-AV1451</td>\n",
       "      <td>AV-1451 PET BRAIN TOF Tau</td>\n",
       "      <td>I1380834</td>\n",
       "      <td>ses-2020-12-01</td>\n",
       "      <td>2020-12-01</td>\n",
       "      <td>1.087770</td>\n",
       "      <td>...</td>\n",
       "      <td>NaN</td>\n",
       "      <td>12.00</td>\n",
       "      <td>29.0</td>\n",
       "      <td>-1.200640</td>\n",
       "      <td>0.000000</td>\n",
       "      <td>NaN</td>\n",
       "      <td>MCI</td>\n",
       "      <td>16</td>\n",
       "      <td>0.035616</td>\n",
       "      <td>ADNI3</td>\n",
       "    </tr>\n",
       "    <tr>\n",
       "      <th>2962</th>\n",
       "      <td>sub-6894</td>\n",
       "      <td>75</td>\n",
       "      <td>M</td>\n",
       "      <td>MCI</td>\n",
       "      <td>pet-AV1451</td>\n",
       "      <td>ADNI3-TAU (AC)</td>\n",
       "      <td>I1382051</td>\n",
       "      <td>ses-2020-12-02</td>\n",
       "      <td>2020-12-02</td>\n",
       "      <td>2.565370</td>\n",
       "      <td>...</td>\n",
       "      <td>NaN</td>\n",
       "      <td>22.33</td>\n",
       "      <td>25.0</td>\n",
       "      <td>-12.154300</td>\n",
       "      <td>-0.002740</td>\n",
       "      <td>NaN</td>\n",
       "      <td>MCI</td>\n",
       "      <td>26</td>\n",
       "      <td>0.002740</td>\n",
       "      <td>ADNI3</td>\n",
       "    </tr>\n",
       "  </tbody>\n",
       "</table>\n",
       "<p>2963 rows × 344 columns</p>\n",
       "</div>"
      ],
      "text/plain": [
       "            ID  age sex group pet.modality  \\\n",
       "0     sub-0021   80   F    CN     pet-AV45   \n",
       "1     sub-0021   85   F    CN   pet-AV1451   \n",
       "2     sub-0021   83   F    CN     pet-AV45   \n",
       "3     sub-0021   78   F    CN     pet-AV45   \n",
       "4     sub-0021   85   F    CN     pet-AV45   \n",
       "...        ...  ...  ..   ...          ...   \n",
       "2958  sub-6887   73   F   MCI   pet-AV1451   \n",
       "2959  sub-6888   64   F   MCI   pet-AV1451   \n",
       "2960  sub-6889   68   M   MCI   pet-AV1451   \n",
       "2961  sub-6890   66   M   MCI   pet-AV1451   \n",
       "2962  sub-6894   75   M   MCI   pet-AV1451   \n",
       "\n",
       "                                   modality.description  image.id  \\\n",
       "0     AV45 Coreg, Avg, Standardized Image and Voxel ...   I338512   \n",
       "1     AV1451 Coreg, Avg, Standardized Image and Voxe...   I964024   \n",
       "2     AV45 Coreg, Avg, Standardized Image and Voxel ...   I557331   \n",
       "3     AV45 Coreg, Avg, Standardized Image and Voxel ...   I196544   \n",
       "4     AV45 Coreg, Avg, Standardized Image and Voxel ...   I943941   \n",
       "...                                                 ...       ...   \n",
       "2958                                   ADNI3-TAU 2 (AC)  I1360700   \n",
       "2959                                           PET1 Tau  I1346966   \n",
       "2960                                     BRAIN ADNI Tau  I1350177   \n",
       "2961                          AV-1451 PET BRAIN TOF Tau  I1380834   \n",
       "2962                                     ADNI3-TAU (AC)  I1382051   \n",
       "\n",
       "                 ses    acq.date  SUVR.Schaefer200.ROI.idx.1  ...  \\\n",
       "0     ses-2012-10-03  2012-10-03                    0.912861  ...   \n",
       "1     ses-2018-02-02  2018-02-02                    1.126000  ...   \n",
       "2     ses-2015-11-05  2015-11-05                    0.899505  ...   \n",
       "3     ses-2010-10-08  2010-10-08                    1.007220  ...   \n",
       "4     ses-2017-11-28  2017-11-28                    0.877004  ...   \n",
       "...              ...         ...                         ...  ...   \n",
       "2958  ses-2020-10-27  2020-10-27                    1.218620  ...   \n",
       "2959  ses-2020-10-07  2020-10-07                    1.126700  ...   \n",
       "2960  ses-2020-10-16  2020-10-16                    1.183060  ...   \n",
       "2961  ses-2020-12-01  2020-12-01                    1.087770  ...   \n",
       "2962  ses-2020-12-02  2020-12-02                    2.565370  ...   \n",
       "\n",
       "      t.diff.uwn.psych.pet.yrs  ADAS13  MMSE  mPACCtrailsB  \\\n",
       "0                     0.000000    1.00  28.0      1.299940   \n",
       "1                    -0.183562   12.33  27.0     -2.151210   \n",
       "2                    -0.024658    5.00  27.0     -0.816517   \n",
       "3                    -0.002740    4.00  29.0      0.355272   \n",
       "4                    -0.002740   12.33  27.0     -2.151210   \n",
       "...                        ...     ...   ...           ...   \n",
       "2958                       NaN   22.33  26.0     -8.167770   \n",
       "2959                       NaN   15.67  26.0     -3.761820   \n",
       "2960                       NaN   29.00  28.0     -5.300670   \n",
       "2961                       NaN   12.00  29.0     -1.200640   \n",
       "2962                       NaN   22.33  25.0    -12.154300   \n",
       "\n",
       "      t.diff.adas.pet.yrs  PHASE   DX  SITEID  t.diff.diagnosis.pet.yrs  \\\n",
       "0                0.000000    NaN   CN       8                  0.021918   \n",
       "1               -0.183562    NaN   CN       8                  0.065753   \n",
       "2               -0.024658    NaN   CN       8                  0.013699   \n",
       "3               -0.002740    NaN   CN       8                  0.027397   \n",
       "4               -0.002740    NaN   CN       8                  0.246575   \n",
       "...                   ...    ...  ...     ...                       ...   \n",
       "2958            -0.060274    NaN  MCI      26                 -0.049315   \n",
       "2959             0.000000    NaN  MCI      45                 -0.016438   \n",
       "2960             0.019178    NaN  MCI      24                 -0.057534   \n",
       "2961             0.000000    NaN  MCI      16                  0.035616   \n",
       "2962            -0.002740    NaN  MCI      26                  0.002740   \n",
       "\n",
       "       Phase  \n",
       "0      ADNI2  \n",
       "1      ADNI3  \n",
       "2      ADNI2  \n",
       "3     ADNIGO  \n",
       "4      ADNI3  \n",
       "...      ...  \n",
       "2958   ADNI3  \n",
       "2959   ADNI3  \n",
       "2960   ADNI3  \n",
       "2961   ADNI3  \n",
       "2962   ADNI3  \n",
       "\n",
       "[2963 rows x 344 columns]"
      ]
     },
     "execution_count": 5,
     "metadata": {},
     "output_type": "execute_result"
    }
   ],
   "source": [
    "import pandas as pd\n",
    "import seaborn as sns\n",
    "from datetime import datetime\n",
    "import numpy as np\n",
    "from statistics import median\n",
    "mri_t1w_path = './data/train_path_data_labels.csv'\n",
    "\n",
    "df_mri_t1w = pd.read_csv(mri_t1w_path, low_memory=False)\n",
    "df_mri_t1w"
   ]
  },
  {
   "cell_type": "code",
   "execution_count": 4,
   "id": "f54c93c0",
   "metadata": {},
   "outputs": [
    {
     "ename": "ValueError",
     "evalue": "Could not interpret input 'label'",
     "output_type": "error",
     "traceback": [
      "\u001b[0;31m---------------------------------------------------------------------------\u001b[0m",
      "\u001b[0;31mValueError\u001b[0m                                Traceback (most recent call last)",
      "Cell \u001b[0;32mIn [4], line 1\u001b[0m\n\u001b[0;32m----> 1\u001b[0m \u001b[43msns\u001b[49m\u001b[38;5;241;43m.\u001b[39;49m\u001b[43mcountplot\u001b[49m\u001b[43m(\u001b[49m\u001b[43mdata\u001b[49m\u001b[38;5;241;43m=\u001b[39;49m\u001b[43mdf_mri_t1w\u001b[49m\u001b[43m,\u001b[49m\u001b[43m \u001b[49m\u001b[43mx\u001b[49m\u001b[38;5;241;43m=\u001b[39;49m\u001b[38;5;124;43m'\u001b[39;49m\u001b[38;5;124;43mlabel\u001b[39;49m\u001b[38;5;124;43m'\u001b[39;49m\u001b[43m)\u001b[49m\n",
      "File \u001b[0;32m~/.conda/envs/adlm/lib/python3.10/site-packages/seaborn/_decorators.py:46\u001b[0m, in \u001b[0;36m_deprecate_positional_args.<locals>.inner_f\u001b[0;34m(*args, **kwargs)\u001b[0m\n\u001b[1;32m     36\u001b[0m     warnings\u001b[38;5;241m.\u001b[39mwarn(\n\u001b[1;32m     37\u001b[0m         \u001b[38;5;124m\"\u001b[39m\u001b[38;5;124mPass the following variable\u001b[39m\u001b[38;5;132;01m{}\u001b[39;00m\u001b[38;5;124m as \u001b[39m\u001b[38;5;132;01m{}\u001b[39;00m\u001b[38;5;124mkeyword arg\u001b[39m\u001b[38;5;132;01m{}\u001b[39;00m\u001b[38;5;124m: \u001b[39m\u001b[38;5;132;01m{}\u001b[39;00m\u001b[38;5;124m. \u001b[39m\u001b[38;5;124m\"\u001b[39m\n\u001b[1;32m     38\u001b[0m         \u001b[38;5;124m\"\u001b[39m\u001b[38;5;124mFrom version 0.12, the only valid positional argument \u001b[39m\u001b[38;5;124m\"\u001b[39m\n\u001b[0;32m   (...)\u001b[0m\n\u001b[1;32m     43\u001b[0m         \u001b[38;5;167;01mFutureWarning\u001b[39;00m\n\u001b[1;32m     44\u001b[0m     )\n\u001b[1;32m     45\u001b[0m kwargs\u001b[38;5;241m.\u001b[39mupdate({k: arg \u001b[38;5;28;01mfor\u001b[39;00m k, arg \u001b[38;5;129;01min\u001b[39;00m \u001b[38;5;28mzip\u001b[39m(sig\u001b[38;5;241m.\u001b[39mparameters, args)})\n\u001b[0;32m---> 46\u001b[0m \u001b[38;5;28;01mreturn\u001b[39;00m \u001b[43mf\u001b[49m\u001b[43m(\u001b[49m\u001b[38;5;241;43m*\u001b[39;49m\u001b[38;5;241;43m*\u001b[39;49m\u001b[43mkwargs\u001b[49m\u001b[43m)\u001b[49m\n",
      "File \u001b[0;32m~/.conda/envs/adlm/lib/python3.10/site-packages/seaborn/categorical.py:3598\u001b[0m, in \u001b[0;36mcountplot\u001b[0;34m(x, y, hue, data, order, hue_order, orient, color, palette, saturation, dodge, ax, **kwargs)\u001b[0m\n\u001b[1;32m   3595\u001b[0m \u001b[38;5;28;01melif\u001b[39;00m x \u001b[38;5;129;01mis\u001b[39;00m \u001b[38;5;129;01mnot\u001b[39;00m \u001b[38;5;28;01mNone\u001b[39;00m \u001b[38;5;129;01mand\u001b[39;00m y \u001b[38;5;129;01mis\u001b[39;00m \u001b[38;5;129;01mnot\u001b[39;00m \u001b[38;5;28;01mNone\u001b[39;00m:\n\u001b[1;32m   3596\u001b[0m     \u001b[38;5;28;01mraise\u001b[39;00m \u001b[38;5;167;01mValueError\u001b[39;00m(\u001b[38;5;124m\"\u001b[39m\u001b[38;5;124mCannot pass values for both `x` and `y`\u001b[39m\u001b[38;5;124m\"\u001b[39m)\n\u001b[0;32m-> 3598\u001b[0m plotter \u001b[38;5;241m=\u001b[39m \u001b[43m_CountPlotter\u001b[49m\u001b[43m(\u001b[49m\n\u001b[1;32m   3599\u001b[0m \u001b[43m    \u001b[49m\u001b[43mx\u001b[49m\u001b[43m,\u001b[49m\u001b[43m \u001b[49m\u001b[43my\u001b[49m\u001b[43m,\u001b[49m\u001b[43m \u001b[49m\u001b[43mhue\u001b[49m\u001b[43m,\u001b[49m\u001b[43m \u001b[49m\u001b[43mdata\u001b[49m\u001b[43m,\u001b[49m\u001b[43m \u001b[49m\u001b[43morder\u001b[49m\u001b[43m,\u001b[49m\u001b[43m \u001b[49m\u001b[43mhue_order\u001b[49m\u001b[43m,\u001b[49m\n\u001b[1;32m   3600\u001b[0m \u001b[43m    \u001b[49m\u001b[43mestimator\u001b[49m\u001b[43m,\u001b[49m\u001b[43m \u001b[49m\u001b[43mci\u001b[49m\u001b[43m,\u001b[49m\u001b[43m \u001b[49m\u001b[43mn_boot\u001b[49m\u001b[43m,\u001b[49m\u001b[43m \u001b[49m\u001b[43munits\u001b[49m\u001b[43m,\u001b[49m\u001b[43m \u001b[49m\u001b[43mseed\u001b[49m\u001b[43m,\u001b[49m\n\u001b[1;32m   3601\u001b[0m \u001b[43m    \u001b[49m\u001b[43morient\u001b[49m\u001b[43m,\u001b[49m\u001b[43m \u001b[49m\u001b[43mcolor\u001b[49m\u001b[43m,\u001b[49m\u001b[43m \u001b[49m\u001b[43mpalette\u001b[49m\u001b[43m,\u001b[49m\u001b[43m \u001b[49m\u001b[43msaturation\u001b[49m\u001b[43m,\u001b[49m\n\u001b[1;32m   3602\u001b[0m \u001b[43m    \u001b[49m\u001b[43merrcolor\u001b[49m\u001b[43m,\u001b[49m\u001b[43m \u001b[49m\u001b[43merrwidth\u001b[49m\u001b[43m,\u001b[49m\u001b[43m \u001b[49m\u001b[43mcapsize\u001b[49m\u001b[43m,\u001b[49m\u001b[43m \u001b[49m\u001b[43mdodge\u001b[49m\n\u001b[1;32m   3603\u001b[0m \u001b[43m\u001b[49m\u001b[43m)\u001b[49m\n\u001b[1;32m   3605\u001b[0m plotter\u001b[38;5;241m.\u001b[39mvalue_label \u001b[38;5;241m=\u001b[39m \u001b[38;5;124m\"\u001b[39m\u001b[38;5;124mcount\u001b[39m\u001b[38;5;124m\"\u001b[39m\n\u001b[1;32m   3607\u001b[0m \u001b[38;5;28;01mif\u001b[39;00m ax \u001b[38;5;129;01mis\u001b[39;00m \u001b[38;5;28;01mNone\u001b[39;00m:\n",
      "File \u001b[0;32m~/.conda/envs/adlm/lib/python3.10/site-packages/seaborn/categorical.py:1584\u001b[0m, in \u001b[0;36m_BarPlotter.__init__\u001b[0;34m(self, x, y, hue, data, order, hue_order, estimator, ci, n_boot, units, seed, orient, color, palette, saturation, errcolor, errwidth, capsize, dodge)\u001b[0m\n\u001b[1;32m   1579\u001b[0m \u001b[38;5;28;01mdef\u001b[39;00m \u001b[38;5;21m__init__\u001b[39m(\u001b[38;5;28mself\u001b[39m, x, y, hue, data, order, hue_order,\n\u001b[1;32m   1580\u001b[0m              estimator, ci, n_boot, units, seed,\n\u001b[1;32m   1581\u001b[0m              orient, color, palette, saturation, errcolor,\n\u001b[1;32m   1582\u001b[0m              errwidth, capsize, dodge):\n\u001b[1;32m   1583\u001b[0m     \u001b[38;5;124;03m\"\"\"Initialize the plotter.\"\"\"\u001b[39;00m\n\u001b[0;32m-> 1584\u001b[0m     \u001b[38;5;28;43mself\u001b[39;49m\u001b[38;5;241;43m.\u001b[39;49m\u001b[43mestablish_variables\u001b[49m\u001b[43m(\u001b[49m\u001b[43mx\u001b[49m\u001b[43m,\u001b[49m\u001b[43m \u001b[49m\u001b[43my\u001b[49m\u001b[43m,\u001b[49m\u001b[43m \u001b[49m\u001b[43mhue\u001b[49m\u001b[43m,\u001b[49m\u001b[43m \u001b[49m\u001b[43mdata\u001b[49m\u001b[43m,\u001b[49m\u001b[43m \u001b[49m\u001b[43morient\u001b[49m\u001b[43m,\u001b[49m\n\u001b[1;32m   1585\u001b[0m \u001b[43m                             \u001b[49m\u001b[43morder\u001b[49m\u001b[43m,\u001b[49m\u001b[43m \u001b[49m\u001b[43mhue_order\u001b[49m\u001b[43m,\u001b[49m\u001b[43m \u001b[49m\u001b[43munits\u001b[49m\u001b[43m)\u001b[49m\n\u001b[1;32m   1586\u001b[0m     \u001b[38;5;28mself\u001b[39m\u001b[38;5;241m.\u001b[39mestablish_colors(color, palette, saturation)\n\u001b[1;32m   1587\u001b[0m     \u001b[38;5;28mself\u001b[39m\u001b[38;5;241m.\u001b[39mestimate_statistic(estimator, ci, n_boot, seed)\n",
      "File \u001b[0;32m~/.conda/envs/adlm/lib/python3.10/site-packages/seaborn/categorical.py:153\u001b[0m, in \u001b[0;36m_CategoricalPlotter.establish_variables\u001b[0;34m(self, x, y, hue, data, orient, order, hue_order, units)\u001b[0m\n\u001b[1;32m    151\u001b[0m     \u001b[38;5;28;01mif\u001b[39;00m \u001b[38;5;28misinstance\u001b[39m(var, \u001b[38;5;28mstr\u001b[39m):\n\u001b[1;32m    152\u001b[0m         err \u001b[38;5;241m=\u001b[39m \u001b[38;5;124m\"\u001b[39m\u001b[38;5;124mCould not interpret input \u001b[39m\u001b[38;5;124m'\u001b[39m\u001b[38;5;132;01m{}\u001b[39;00m\u001b[38;5;124m'\u001b[39m\u001b[38;5;124m\"\u001b[39m\u001b[38;5;241m.\u001b[39mformat(var)\n\u001b[0;32m--> 153\u001b[0m         \u001b[38;5;28;01mraise\u001b[39;00m \u001b[38;5;167;01mValueError\u001b[39;00m(err)\n\u001b[1;32m    155\u001b[0m \u001b[38;5;66;03m# Figure out the plotting orientation\u001b[39;00m\n\u001b[1;32m    156\u001b[0m orient \u001b[38;5;241m=\u001b[39m infer_orient(\n\u001b[1;32m    157\u001b[0m     x, y, orient, require_numeric\u001b[38;5;241m=\u001b[39m\u001b[38;5;28mself\u001b[39m\u001b[38;5;241m.\u001b[39mrequire_numeric\n\u001b[1;32m    158\u001b[0m )\n",
      "\u001b[0;31mValueError\u001b[0m: Could not interpret input 'label'"
     ]
    }
   ],
   "source": [
    "sns.countplot(data=df_mri_t1w, x='label')"
   ]
  },
  {
   "cell_type": "code",
   "execution_count": null,
   "id": "4640038e",
   "metadata": {},
   "outputs": [],
   "source": []
  }
 ],
 "metadata": {
  "kernelspec": {
   "display_name": "Python 3 (ipykernel)",
   "language": "python",
   "name": "python3"
  },
  "language_info": {
   "codemirror_mode": {
    "name": "ipython",
    "version": 3
   },
   "file_extension": ".py",
   "mimetype": "text/x-python",
   "name": "python",
   "nbconvert_exporter": "python",
   "pygments_lexer": "ipython3",
   "version": "3.10.4"
  }
 },
 "nbformat": 4,
 "nbformat_minor": 5
}
