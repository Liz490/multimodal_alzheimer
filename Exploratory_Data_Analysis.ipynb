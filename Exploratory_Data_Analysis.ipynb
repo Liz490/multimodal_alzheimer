{
 "cells": [
  {
   "cell_type": "code",
   "execution_count": null,
   "id": "be375b85",
   "metadata": {},
   "outputs": [],
   "source": [
    "import pandas as pd\n",
    "import seaborn as sns\n",
    "from datetime import datetime\n",
    "import numpy as np\n",
    "from statistics import median\n",
    "\n",
    "f_tab_adni_tau = './data/ADNI_Tau_Amyloid_SUVR_amyloid_tau_status_dems.csv'\n",
    "f_tab_pet_data = './data/Tabular_Info_PET.csv'\n",
    "\n",
    "df_adni_tau = pd.read_csv(f_tab_adni_tau, low_memory=False)\n",
    "df_pet_data = pd.read_csv(f_tab_pet_data, low_memory=False)"
   ]
  },
  {
   "cell_type": "markdown",
   "id": "4c17e61c",
   "metadata": {},
   "source": [
    "### ADNI_Tau_Amyloid_SUVR_amyloid_tau_status_dems"
   ]
  },
  {
   "cell_type": "markdown",
   "id": "2c1c764c",
   "metadata": {},
   "source": [
    "Change the strings in the session column 'ses' to datetime objects to facilitate computing the time differences"
   ]
  },
  {
   "cell_type": "code",
   "execution_count": null,
   "id": "6974b6e5",
   "metadata": {},
   "outputs": [],
   "source": [
    "df_adni_tau['ses'] = df_adni_tau['ses'].apply(lambda x: datetime.strptime(x, 'ses-%Y-%m-%d'))"
   ]
  },
  {
   "cell_type": "markdown",
   "id": "94c154b4",
   "metadata": {},
   "source": [
    "#### Number of subjects"
   ]
  },
  {
   "cell_type": "code",
   "execution_count": null,
   "id": "5d17e539",
   "metadata": {},
   "outputs": [],
   "source": [
    "unique_id_list = df_adni_tau['ID'].unique()\n",
    "print(f'Lenth of the DataFrame:    {len(df_adni_tau)}')\n",
    "print(f'Number of unique subjects:    {len(unique_id_list)}')\n"
   ]
  },
  {
   "cell_type": "markdown",
   "id": "de46d073",
   "metadata": {},
   "source": [
    "#### Diagnosis change\n",
    "\n",
    "In the following we can observe that there are subjects for which the diagnosis 'DX' changed between different assesments. \n",
    "\n",
    "The subsequent dataframe lists 'DX' for a single patient in chronological order. It stands out that there was a diagnosis \"CN\" after the patient has been diagnosed as \"MCI\". Also interesting is, that there is another \"CN\" diagnosis two years later."
   ]
  },
  {
   "cell_type": "code",
   "execution_count": null,
   "id": "a51e6e0c",
   "metadata": {},
   "outputs": [],
   "source": [
    "grp_id = df_adni_tau.groupby('ID')\n",
    "s59 = grp_id.get_group('sub-0059').sort_values(by='ses')[['ID', 'age', 'group', 'pet.modality', 'DX', 'ses']]\n",
    "s59"
   ]
  },
  {
   "cell_type": "markdown",
   "id": "6dc68f92",
   "metadata": {},
   "source": [
    "### Plot the frequency of time differences between 2 pet scans from the same person and the same pet modality"
   ]
  },
  {
   "cell_type": "code",
   "execution_count": null,
   "id": "bd219477",
   "metadata": {},
   "outputs": [],
   "source": [
    "time_diff_days = []\n",
    "\n",
    "grp_id_mod = df_adni_tau.groupby(['ID', 'pet.modality'])\n",
    "for name, group in grp_id_mod:\n",
    "    group = group.sort_values(by='ses')[['ID', 'age', 'group', 'pet.modality', 'DX', 'ses']]\n",
    "    group['delta'] = (group['ses']-group['ses'].shift())\n",
    "    group['delta'] = group['delta'].apply(lambda x: x.days)\n",
    "    \n",
    "    list_td = list(group['delta'])\n",
    "    list_td = list(filter(lambda x: str(x) != 'nan', list_td))\n",
    "    time_diff_days += list_td\n"
   ]
  },
  {
   "cell_type": "code",
   "execution_count": null,
   "id": "cf57e473",
   "metadata": {},
   "outputs": [],
   "source": [
    "print(len(time_diff_days))\n",
    "sns.histplot(time_diff_days, stat='percent', cumulative=True, binwidth=10)\n",
    "sns.histplot(time_diff_days, stat='percent', binwidth=10)"
   ]
  },
  {
   "cell_type": "markdown",
   "id": "9af4debb",
   "metadata": {},
   "source": [
    "In the plot above can be seen, that two sessions are usually one or two years apart."
   ]
  },
  {
   "cell_type": "markdown",
   "id": "0a6496ba",
   "metadata": {},
   "source": [
    "## Plot the class distributions over the different modalities \n",
    "\n",
    "We can observe that we have a class-imbalance problem since the 'Dementia' class is clearly underrepresented"
   ]
  },
  {
   "cell_type": "code",
   "execution_count": null,
   "id": "e8dca2a3",
   "metadata": {},
   "outputs": [],
   "source": [
    "df_adni_tau['pet.modality'].unique()"
   ]
  },
  {
   "cell_type": "code",
   "execution_count": null,
   "id": "375e7099",
   "metadata": {},
   "outputs": [],
   "source": [
    "filt_av45 = df_adni_tau['pet.modality'] == 'pet-AV45'\n",
    "filt_av1451 = df_adni_tau['pet.modality'] == 'pet-AV1451'\n",
    "filt_fbb = df_adni_tau['pet.modality'] == 'pet-FBB'\n",
    "df_pet_av45 = df_adni_tau.loc[filt_av45]\n",
    "df_pet_av1451 = df_adni_tau.loc[filt_av1451]\n",
    "df_pet_fbb = df_adni_tau.loc[filt_fbb]\n"
   ]
  },
  {
   "cell_type": "code",
   "execution_count": null,
   "id": "9f860416",
   "metadata": {},
   "outputs": [],
   "source": [
    "sns.countplot(data=df_pet_av45, x='DX')"
   ]
  },
  {
   "cell_type": "code",
   "execution_count": null,
   "id": "ac323ab6",
   "metadata": {},
   "outputs": [],
   "source": [
    "sns.countplot(data=df_pet_av1451, x='DX')"
   ]
  },
  {
   "cell_type": "code",
   "execution_count": null,
   "id": "5feffd34",
   "metadata": {},
   "outputs": [],
   "source": [
    "sns.countplot(data=df_pet_fbb, x='DX')"
   ]
  },
  {
   "cell_type": "markdown",
   "id": "696bc46c",
   "metadata": {},
   "source": [
    "### Overview of keys and values"
   ]
  },
  {
   "cell_type": "code",
   "execution_count": null,
   "id": "f7b5b667",
   "metadata": {},
   "outputs": [],
   "source": [
    "print(print('\\n'.join(list(df_adni_tau.keys()))))"
   ]
  },
  {
   "cell_type": "markdown",
   "id": "efe38224",
   "metadata": {},
   "source": [
    "### Usually AD patients have In-Clinic-Visits more frequently \n",
    "(3 per year which does not exactly coincide with what we see below)"
   ]
  },
  {
   "cell_type": "code",
   "execution_count": null,
   "id": "6a7f6d12",
   "metadata": {},
   "outputs": [],
   "source": [
    "#print(df_adni_tau.head(10))\n",
    "#print(df_adni_tau[['ID', 'ses', 'ADAS13', 'Phase']].head(10))\n",
    "filt_ad = df_adni_tau['DX'] == 'Dementia'\n",
    "df_ad = df_adni_tau.loc[filt_ad]\n",
    "df_ad[['ID', 'ses', 'DX']].head(30).sort_values(by=['ID', 'ses'])"
   ]
  },
  {
   "cell_type": "code",
   "execution_count": null,
   "id": "fad0e82b",
   "metadata": {},
   "outputs": [],
   "source": [
    "df_adni_tau"
   ]
  },
  {
   "cell_type": "markdown",
   "id": "6e424222",
   "metadata": {},
   "source": [
    "### Subject study entry statistics"
   ]
  },
  {
   "cell_type": "code",
   "execution_count": null,
   "id": "b7fd7040",
   "metadata": {},
   "outputs": [],
   "source": [
    "# Drop all but the first appearance of each subject\n",
    "df_subject_entry = df_adni_tau.sort_values('ses').drop_duplicates(subset=['ID'])"
   ]
  },
  {
   "cell_type": "code",
   "execution_count": null,
   "id": "06bfd22d",
   "metadata": {},
   "outputs": [],
   "source": [
    "sns.histplot(df_subject_entry, x='age', discrete=True)"
   ]
  },
  {
   "cell_type": "code",
   "execution_count": null,
   "id": "341f9caf",
   "metadata": {},
   "outputs": [],
   "source": [
    "sns.countplot(data=df_subject_entry, x='sex')"
   ]
  },
  {
   "cell_type": "code",
   "execution_count": null,
   "id": "48e63593",
   "metadata": {},
   "outputs": [],
   "source": [
    "sns.countplot(data=df_subject_entry, x='group')"
   ]
  },
  {
   "cell_type": "code",
   "execution_count": null,
   "id": "d199d5bd",
   "metadata": {},
   "outputs": [],
   "source": [
    "# Add column with year of first session\n",
    "df_subject_entry['acq.year'] = pd.to_datetime(df_subject_entry['acq.date']).dt.year\n",
    "\n",
    "sns.histplot(data=df_subject_entry, x='acq.year', discrete=True)"
   ]
  },
  {
   "cell_type": "code",
   "execution_count": null,
   "id": "22974eae",
   "metadata": {},
   "outputs": [],
   "source": [
    "sns.histplot(data=df_subject_entry, x='MMSE', discrete=True)\n",
    "filt_missing_mmse = pd.isnull(df_subject_entry['MMSE'])\n",
    "print(f'Missing Values: {filt_missing_mmse.sum()} ({filt_missing_mmse.sum()/len(df_subject_entry)*100:.2f}%)')"
   ]
  },
  {
   "cell_type": "code",
   "execution_count": null,
   "id": "99d684fe",
   "metadata": {},
   "outputs": [],
   "source": [
    "sns.histplot(data=df_subject_entry, x='MMSE', hue='DX', element=\"step\")#,stat=\"density\")"
   ]
  },
  {
   "cell_type": "markdown",
   "id": "edf7eaca",
   "metadata": {},
   "source": [
    "Uncommenting the next cell will display the data for samples where MMSE is missing.\n",
    "However this did not give meaningful insights."
   ]
  },
  {
   "cell_type": "code",
   "execution_count": null,
   "id": "3d133615",
   "metadata": {},
   "outputs": [],
   "source": [
    "#df_subject_entry.loc[filt_missing_mmse][['ID','group', 'pet.modality', 'DX']].head(47)"
   ]
  },
  {
   "cell_type": "code",
   "execution_count": null,
   "id": "fdae8a9f",
   "metadata": {},
   "outputs": [],
   "source": [
    "sns.histplot(data=df_subject_entry, x='ADAS13', discrete=True)\n",
    "filt_missing_adas = pd.isnull(df_subject_entry['ADAS13'])\n",
    "print(f'Missing Values: {filt_missing_adas.sum()} ({(filt_missing_adas.sum()/len(df_subject_entry))*100:.2f}%)')"
   ]
  },
  {
   "cell_type": "code",
   "execution_count": null,
   "id": "e23345c0",
   "metadata": {},
   "outputs": [],
   "source": [
    "sns.histplot(data=df_subject_entry, x='ADAS13', hue='DX', element=\"step\")"
   ]
  },
  {
   "cell_type": "code",
   "execution_count": null,
   "id": "faa3307f",
   "metadata": {},
   "outputs": [],
   "source": [
    "sns.countplot(data=df_subject_entry, x='Phase')"
   ]
  },
  {
   "cell_type": "code",
   "execution_count": null,
   "id": "55feea3d",
   "metadata": {},
   "outputs": [],
   "source": [
    "sns.countplot(data=df_subject_entry, x='apoe')"
   ]
  },
  {
   "cell_type": "code",
   "execution_count": null,
   "id": "1d6e6f13",
   "metadata": {},
   "outputs": [],
   "source": [
    "sns.histplot(data=df_subject_entry, x='centiloid')"
   ]
  },
  {
   "cell_type": "code",
   "execution_count": null,
   "id": "c35ca0d4",
   "metadata": {},
   "outputs": [],
   "source": [
    "sns.histplot(data=df_subject_entry, x='tau.global.SUVR')"
   ]
  },
  {
   "cell_type": "code",
   "execution_count": null,
   "id": "dba43ba2",
   "metadata": {},
   "outputs": [],
   "source": [
    "sns.histplot(data=df_subject_entry, x='mPACCtrailsB')"
   ]
  },
  {
   "cell_type": "code",
   "execution_count": null,
   "id": "addaffbc",
   "metadata": {},
   "outputs": [],
   "source": [
    "sns.countplot(data=df_subject_entry, x='SITEID')"
   ]
  },
  {
   "cell_type": "code",
   "execution_count": null,
   "id": "d28175de",
   "metadata": {},
   "outputs": [],
   "source": [
    "sns.countplot(data=df_subject_entry, x='DX')"
   ]
  },
  {
   "cell_type": "code",
   "execution_count": null,
   "id": "4a800b5f",
   "metadata": {},
   "outputs": [],
   "source": [
    "sns.histplot(data=df_subject_entry, x='PTEDUCAT')"
   ]
  },
  {
   "cell_type": "code",
   "execution_count": null,
   "id": "f54fdbc0",
   "metadata": {},
   "outputs": [],
   "source": [
    "sns.histplot(data=df_subject_entry, x='ADNI_MEM')"
   ]
  },
  {
   "cell_type": "code",
   "execution_count": null,
   "id": "32acc440",
   "metadata": {},
   "outputs": [],
   "source": [
    "sns.histplot(data=df_subject_entry, x='ADNI_EF')"
   ]
  },
  {
   "cell_type": "code",
   "execution_count": null,
   "id": "5093e9e1",
   "metadata": {},
   "outputs": [],
   "source": [
    "sns.histplot(data=df_subject_entry, x='ADNI_LAN')"
   ]
  },
  {
   "cell_type": "code",
   "execution_count": null,
   "id": "3a3d7d48",
   "metadata": {},
   "outputs": [],
   "source": [
    "sns.histplot(data=df_subject_entry, x='ADNI_VS')"
   ]
  },
  {
   "cell_type": "code",
   "execution_count": null,
   "id": "23988abc",
   "metadata": {},
   "outputs": [],
   "source": [
    "sns.histplot(data=df_subject_entry, x='t.diff.uwn.psych.pet.yrs')"
   ]
  },
  {
   "cell_type": "code",
   "execution_count": null,
   "id": "1e7ac3c0",
   "metadata": {},
   "outputs": [],
   "source": [
    "sns.histplot(data=df_subject_entry, x='t.diff.adas.pet.yrs')"
   ]
  },
  {
   "cell_type": "code",
   "execution_count": null,
   "id": "a965bb14",
   "metadata": {},
   "outputs": [],
   "source": [
    "sns.histplot(data=df_subject_entry, x='t.diff.diagnosis.pet.yrs')"
   ]
  },
  {
   "cell_type": "markdown",
   "id": "4989d0a2",
   "metadata": {},
   "source": [
    "### Intra subject change per year"
   ]
  },
  {
   "cell_type": "code",
   "execution_count": null,
   "id": "e6072641",
   "metadata": {},
   "outputs": [],
   "source": [
    "# Select only entries with pet-AV1251 and group them by ID\n",
    "grp_id = df_adni_tau[df_adni_tau['pet.modality'] == 'pet-AV1451'].groupby(['ID'])"
   ]
  },
  {
   "cell_type": "code",
   "execution_count": null,
   "id": "f3ddbb13",
   "metadata": {},
   "outputs": [],
   "source": [
    "list_delta_MMSE = []\n",
    "\n",
    "# Calculate median change of MMSE per year for each subject\n",
    "for _, group in grp_id:\n",
    "    group = group.sort_values(by='ses')[['ID', 'DX', 'ses', 'MMSE', 'ADAS13', 'ADNI_MEM', 'ADNI_EF', 'ADNI_LAN', 'ADNI_VS']]\n",
    "    group['delta'] = (group['ses']-group['ses'].shift())\n",
    "    group['delta'] = group['delta'].apply(lambda x: x.days)\n",
    "    \n",
    "    group['delta_MMSE_per_ses'] = (group['MMSE']-group['MMSE'].shift())\n",
    "    group['delta_MMSE_per_year'] = group['delta_MMSE_per_ses']/group['delta']*365\n",
    "    \n",
    "    list_delta_MMSE_sub = list(group['delta_MMSE_per_year'])\n",
    "    list_delta_MMSE_sub = list(filter(lambda x: str(x) != 'nan', list_delta_MMSE_sub))\n",
    "    if list_delta_MMSE_sub:\n",
    "        list_delta_MMSE += [round(median(list_delta_MMSE_sub))]\n",
    "    \n",
    "sns.histplot(list_delta_MMSE, stat='percent', discrete=True)"
   ]
  },
  {
   "cell_type": "code",
   "execution_count": null,
   "id": "96bef126",
   "metadata": {},
   "outputs": [],
   "source": [
    "list_delta_ADAS13 = []\n",
    "\n",
    "# Calculate median change of ADAS13 per year for each subject\n",
    "for _, group in grp_id:\n",
    "    group = group.sort_values(by='ses')[['ID', 'DX', 'ses', 'MMSE', 'ADAS13', 'ADNI_MEM', 'ADNI_EF', 'ADNI_LAN', 'ADNI_VS']]\n",
    "    group['delta'] = (group['ses']-group['ses'].shift())\n",
    "    group['delta'] = group['delta'].apply(lambda x: x.days)\n",
    "    \n",
    "    group['delta_ADAS13_per_ses'] = (group['ADAS13']-group['ADAS13'].shift())\n",
    "    group['delta_ADAS13_per_year'] = group['delta_ADAS13_per_ses']/group['delta']*365\n",
    "    \n",
    "    list_delta_sub = list(group['delta_ADAS13_per_year'])\n",
    "    list_delta_sub = list(filter(lambda x: str(x) != 'nan', list_delta_sub))\n",
    "    if list_delta_sub:\n",
    "        list_delta_ADAS13 += [median(list_delta_sub)]\n",
    "    \n",
    "sns.histplot(list_delta_ADAS13, stat='percent')"
   ]
  },
  {
   "cell_type": "markdown",
   "id": "2cd986e8",
   "metadata": {},
   "source": [
    "### Non redundancy reduced statistics"
   ]
  },
  {
   "cell_type": "code",
   "execution_count": null,
   "id": "855e54c1",
   "metadata": {},
   "outputs": [],
   "source": [
    "sns.countplot(data=df_adni_tau, x='pet.modality')"
   ]
  },
  {
   "cell_type": "markdown",
   "id": "c4be91fa",
   "metadata": {},
   "source": [
    "### Tabular_Info_PET"
   ]
  },
  {
   "cell_type": "code",
   "execution_count": null,
   "id": "a3daa6de",
   "metadata": {},
   "outputs": [],
   "source": [
    "print(print('\\n'.join(list(df_pet_data.keys()))))"
   ]
  },
  {
   "cell_type": "code",
   "execution_count": null,
   "id": "3e2209fd",
   "metadata": {},
   "outputs": [],
   "source": []
  }
 ],
 "metadata": {
  "kernelspec": {
   "display_name": "Python 3 (ipykernel)",
   "language": "python",
   "name": "python3"
  },
  "language_info": {
   "codemirror_mode": {
    "name": "ipython",
    "version": 3
   },
   "file_extension": ".py",
   "mimetype": "text/x-python",
   "name": "python",
   "nbconvert_exporter": "python",
   "pygments_lexer": "ipython3",
   "version": "3.10.6"
  }
 },
 "nbformat": 4,
 "nbformat_minor": 5
}
