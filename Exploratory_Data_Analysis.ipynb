{
 "cells": [
  {
   "cell_type": "code",
   "execution_count": 5,
   "id": "be375b85",
   "metadata": {},
   "outputs": [],
   "source": [
    "import pandas as pd\n",
    "import seaborn as sns\n",
    "from datetime import datetime\n",
    "import numpy as np\n",
    "from statistics import median\n",
    "\n",
    "f_tab_adni_tau = './data/ADNI_Tau_Amyloid_SUVR_amyloid_tau_status_dems.csv'\n",
    "f_tab_pet_data = './data/Tabular_Info_PET.csv'\n",
    "\n",
    "df_adni_tau = pd.read_csv(f_tab_adni_tau, low_memory=False)\n",
    "df_pet_data = pd.read_csv(f_tab_pet_data, low_memory=False)"
   ]
  },
  {
   "cell_type": "markdown",
   "id": "4c17e61c",
   "metadata": {},
   "source": [
    "### ADNI_Tau_Amyloid_SUVR_amyloid_tau_status_dems"
   ]
  },
  {
   "cell_type": "markdown",
   "id": "2c1c764c",
   "metadata": {},
   "source": [
    "Change the strings in the session column 'ses' to datetime objects to facilitate computing the time differences"
   ]
  },
  {
   "cell_type": "code",
   "execution_count": 6,
   "id": "6974b6e5",
   "metadata": {},
   "outputs": [],
   "source": [
    "df_adni_tau['ses'] = df_adni_tau['ses'].apply(lambda x: datetime.strptime(x, 'ses-%Y-%m-%d'))"
   ]
  },
  {
   "cell_type": "markdown",
   "id": "94c154b4",
   "metadata": {},
   "source": [
    "#### Number of subjects"
   ]
  },
  {
   "cell_type": "code",
   "execution_count": 8,
   "id": "5d17e539",
   "metadata": {},
   "outputs": [
    {
     "name": "stdout",
     "output_type": "stream",
     "text": [
      "Lenth of the DataFrame:    2963\n",
      "Number of unique subjects:    793\n"
     ]
    }
   ],
   "source": [
    "unique_id_list = df_adni_tau['ID'].unique()\n",
    "print(f'Lenth of the DataFrame:    {len(df_adni_tau)}')\n",
    "print(f'Number of unique subjects:    {len(unique_id_list)}')\n"
   ]
  },
  {
   "cell_type": "markdown",
   "id": "de46d073",
   "metadata": {},
   "source": [
    "#### Diagnosis change\n",
    "\n",
    "In the following we can observe that there are subjects for which the diagnosis 'DX' changed between different assesments. \n",
    "\n",
    "The subsequent dataframe lists 'DX' for a single patient in chronological order. It stands out that there was a diagnosis \"CN\" after the patient has been diagnosed as \"MCI\". Also interesting is, that there is another \"CN\" diagnosis two years later."
   ]
  },
  {
   "cell_type": "code",
   "execution_count": 9,
   "id": "a51e6e0c",
   "metadata": {},
   "outputs": [
    {
     "data": {
      "text/html": [
       "<div>\n",
       "<style scoped>\n",
       "    .dataframe tbody tr th:only-of-type {\n",
       "        vertical-align: middle;\n",
       "    }\n",
       "\n",
       "    .dataframe tbody tr th {\n",
       "        vertical-align: top;\n",
       "    }\n",
       "\n",
       "    .dataframe thead th {\n",
       "        text-align: right;\n",
       "    }\n",
       "</style>\n",
       "<table border=\"1\" class=\"dataframe\">\n",
       "  <thead>\n",
       "    <tr style=\"text-align: right;\">\n",
       "      <th></th>\n",
       "      <th>ID</th>\n",
       "      <th>age</th>\n",
       "      <th>group</th>\n",
       "      <th>pet.modality</th>\n",
       "      <th>DX</th>\n",
       "      <th>ses</th>\n",
       "    </tr>\n",
       "  </thead>\n",
       "  <tbody>\n",
       "    <tr>\n",
       "      <th>20</th>\n",
       "      <td>sub-0059</td>\n",
       "      <td>76</td>\n",
       "      <td>CN</td>\n",
       "      <td>pet-AV45</td>\n",
       "      <td>CN</td>\n",
       "      <td>2011-01-03</td>\n",
       "    </tr>\n",
       "    <tr>\n",
       "      <th>24</th>\n",
       "      <td>sub-0059</td>\n",
       "      <td>78</td>\n",
       "      <td>CN</td>\n",
       "      <td>pet-AV45</td>\n",
       "      <td>MCI</td>\n",
       "      <td>2012-12-14</td>\n",
       "    </tr>\n",
       "    <tr>\n",
       "      <th>22</th>\n",
       "      <td>sub-0059</td>\n",
       "      <td>80</td>\n",
       "      <td>CN</td>\n",
       "      <td>pet-AV45</td>\n",
       "      <td>CN</td>\n",
       "      <td>2015-01-07</td>\n",
       "    </tr>\n",
       "    <tr>\n",
       "      <th>23</th>\n",
       "      <td>sub-0059</td>\n",
       "      <td>83</td>\n",
       "      <td>CN</td>\n",
       "      <td>pet-AV1451</td>\n",
       "      <td>MCI</td>\n",
       "      <td>2017-12-12</td>\n",
       "    </tr>\n",
       "    <tr>\n",
       "      <th>21</th>\n",
       "      <td>sub-0059</td>\n",
       "      <td>83</td>\n",
       "      <td>CN</td>\n",
       "      <td>pet-AV45</td>\n",
       "      <td>MCI</td>\n",
       "      <td>2017-12-20</td>\n",
       "    </tr>\n",
       "    <tr>\n",
       "      <th>19</th>\n",
       "      <td>sub-0059</td>\n",
       "      <td>85</td>\n",
       "      <td>CN</td>\n",
       "      <td>pet-AV45</td>\n",
       "      <td>MCI</td>\n",
       "      <td>2019-12-20</td>\n",
       "    </tr>\n",
       "  </tbody>\n",
       "</table>\n",
       "</div>"
      ],
      "text/plain": [
       "          ID  age group pet.modality   DX        ses\n",
       "20  sub-0059   76    CN     pet-AV45   CN 2011-01-03\n",
       "24  sub-0059   78    CN     pet-AV45  MCI 2012-12-14\n",
       "22  sub-0059   80    CN     pet-AV45   CN 2015-01-07\n",
       "23  sub-0059   83    CN   pet-AV1451  MCI 2017-12-12\n",
       "21  sub-0059   83    CN     pet-AV45  MCI 2017-12-20\n",
       "19  sub-0059   85    CN     pet-AV45  MCI 2019-12-20"
      ]
     },
     "execution_count": 9,
     "metadata": {},
     "output_type": "execute_result"
    }
   ],
   "source": [
    "grp_id = df_adni_tau.groupby('ID')\n",
    "s59 = grp_id.get_group('sub-0059').sort_values(by='ses')[['ID', 'age', 'group', 'pet.modality', 'DX', 'ses']]\n",
    "s59"
   ]
  },
  {
   "cell_type": "markdown",
   "id": "6dc68f92",
   "metadata": {},
   "source": [
    "### Plot the frequency of time differences between 2 pet scans from the same person and the same pet modality"
   ]
  },
  {
   "cell_type": "code",
   "execution_count": 10,
   "id": "bd219477",
   "metadata": {},
   "outputs": [],
   "source": [
    "time_diff_days = []\n",
    "\n",
    "grp_id_mod = df_adni_tau.groupby(['ID', 'pet.modality'])\n",
    "for name, group in grp_id_mod:\n",
    "    group = group.sort_values(by='ses')[['ID', 'age', 'group', 'pet.modality', 'DX', 'ses']]\n",
    "    group['delta'] = (group['ses']-group['ses'].shift())\n",
    "    group['delta'] = group['delta'].apply(lambda x: x.days)\n",
    "    \n",
    "    list_td = list(group['delta'])\n",
    "    list_td = list(filter(lambda x: str(x) != 'nan', list_td))\n",
    "    time_diff_days += list_td\n"
   ]
  },
  {
   "cell_type": "code",
   "execution_count": 13,
   "id": "cf57e473",
   "metadata": {},
   "outputs": [
    {
     "name": "stdout",
     "output_type": "stream",
     "text": [
      "1394\n"
     ]
    },
    {
     "data": {
      "text/plain": [
       "<AxesSubplot:ylabel='Percent'>"
      ]
     },
     "execution_count": 13,
     "metadata": {},
     "output_type": "execute_result"
    },
    {
     "data": {
      "image/png": "[encoded data removed]",
      "text/plain": [
       "<Figure size 432x288 with 1 Axes>"
      ]
     },
     "metadata": {
      "needs_background": "light"
     },
     "output_type": "display_data"
    }
   ],
   "source": [
    "print(len(time_diff_days))\n",
    "sns.histplot(time_diff_days, stat='percent', cumulative=True, binwidth=10)\n",
    "sns.histplot(time_diff_days, stat='percent', binwidth=10)"
   ]
  },
  {
   "cell_type": "markdown",
   "id": "9af4debb",
   "metadata": {},
   "source": [
    "In the plot above can be seen, that two sessions are usually one or two years apart."
   ]
  },
  {
   "cell_type": "markdown",
   "id": "0a6496ba",
   "metadata": {},
   "source": [
    "## Plot the class distributions over the different modalities \n",
    "\n",
    "We can observe that we have a class-imbalance problem since the 'Dementia' class is clearly underrepresented"
   ]
  },
  {
   "cell_type": "code",
   "execution_count": 22,
   "id": "e8dca2a3",
   "metadata": {},
   "outputs": [
    {
     "data": {
      "text/plain": [
       "array(['pet-AV45', 'pet-AV1451', 'pet-FBB'], dtype=object)"
      ]
     },
     "execution_count": 22,
     "metadata": {},
     "output_type": "execute_result"
    }
   ],
   "source": [
    "df_adni_tau['pet.modality'].unique()"
   ]
  },
  {
   "cell_type": "code",
   "execution_count": 23,
   "id": "375e7099",
   "metadata": {},
   "outputs": [],
   "source": [
    "filt_av45 = df_adni_tau['pet.modality'] == 'pet-AV45'\n",
    "filt_av1451 = df_adni_tau['pet.modality'] == 'pet-AV1451'\n",
    "filt_fbb = df_adni_tau['pet.modality'] == 'pet-FBB'\n",
    "df_pet_av45 = df_adni_tau.loc[filt_av45]\n",
    "df_pet_av1451 = df_adni_tau.loc[filt_av1451]\n",
    "df_pet_fbb = df_adni_tau.loc[filt_fbb]\n"
   ]
  },
  {
   "cell_type": "code",
   "execution_count": 24,
   "id": "9f860416",
   "metadata": {},
   "outputs": [
    {
     "data": {
      "text/plain": [
       "<AxesSubplot:xlabel='DX', ylabel='count'>"
      ]
     },
     "execution_count": 24,
     "metadata": {},
     "output_type": "execute_result"
    },
    {
     "data": {
      "image/png": "[encoded data removed]",
      "text/plain": [
       "<Figure size 432x288 with 1 Axes>"
      ]
     },
     "metadata": {
      "needs_background": "light"
     },
     "output_type": "display_data"
    }
   ],
   "source": [
    "sns.countplot(data=df_pet_av45, x='DX')"
   ]
  },
  {
   "cell_type": "code",
   "execution_count": 166,
   "id": "ac323ab6",
   "metadata": {},
   "outputs": [
    {
     "data": {
      "text/plain": [
       "<AxesSubplot:xlabel='DX', ylabel='count'>"
      ]
     },
     "execution_count": 166,
     "metadata": {},
     "output_type": "execute_result"
    },
    {
     "data": {
      "image/png": "[encoded data removed]",
      "text/plain": [
       "<Figure size 640x480 with 1 Axes>"
      ]
     },
     "metadata": {},
     "output_type": "display_data"
    }
   ],
   "source": [
    "sns.countplot(data=df_pet_av1451, x='DX')"
   ]
  },
  {
   "cell_type": "code",
   "execution_count": 167,
   "id": "5feffd34",
   "metadata": {},
   "outputs": [
    {
     "data": {
      "text/plain": [
       "<AxesSubplot:xlabel='DX', ylabel='count'>"
      ]
     },
     "execution_count": 167,
     "metadata": {},
     "output_type": "execute_result"
    },
    {
     "data": {
      "image/png": "[encoded data removed]",
      "text/plain": [
       "<Figure size 640x480 with 1 Axes>"
      ]
     },
     "metadata": {},
     "output_type": "display_data"
    }
   ],
   "source": [
    "sns.countplot(data=df_pet_fbb, x='DX')"
   ]
  },
  {
   "cell_type": "markdown",
   "id": "696bc46c",
   "metadata": {},
   "source": [
    "### Overview of keys and values"
   ]
  },
  {
   "cell_type": "code",
   "execution_count": 29,
   "id": "f7b5b667",
   "metadata": {},
   "outputs": [
    {
     "name": "stdout",
     "output_type": "stream",
     "text": [
      "ID\n",
      "age\n",
      "sex\n",
      "group\n",
      "pet.modality\n",
      "modality.description\n",
      "image.id\n",
      "ses\n",
      "acq.date\n",
      "SUVR.Schaefer200.ROI.idx.1\n",
      "SUVR.Schaefer200.ROI.idx.2\n",
      "SUVR.Schaefer200.ROI.idx.3\n",
      "SUVR.Schaefer200.ROI.idx.4\n",
      "SUVR.Schaefer200.ROI.idx.5\n",
      "SUVR.Schaefer200.ROI.idx.6\n",
      "SUVR.Schaefer200.ROI.idx.7\n",
      "SUVR.Schaefer200.ROI.idx.8\n",
      "SUVR.Schaefer200.ROI.idx.9\n",
      "SUVR.Schaefer200.ROI.idx.10\n",
      "SUVR.Schaefer200.ROI.idx.11\n",
      "SUVR.Schaefer200.ROI.idx.12\n",
      "SUVR.Schaefer200.ROI.idx.13\n",
      "SUVR.Schaefer200.ROI.idx.14\n",
      "SUVR.Schaefer200.ROI.idx.15\n",
      "SUVR.Schaefer200.ROI.idx.16\n",
      "SUVR.Schaefer200.ROI.idx.17\n",
      "SUVR.Schaefer200.ROI.idx.18\n",
      "SUVR.Schaefer200.ROI.idx.19\n",
      "SUVR.Schaefer200.ROI.idx.20\n",
      "SUVR.Schaefer200.ROI.idx.21\n",
      "SUVR.Schaefer200.ROI.idx.22\n",
      "SUVR.Schaefer200.ROI.idx.23\n",
      "SUVR.Schaefer200.ROI.idx.24\n",
      "SUVR.Schaefer200.ROI.idx.25\n",
      "SUVR.Schaefer200.ROI.idx.26\n",
      "SUVR.Schaefer200.ROI.idx.27\n",
      "SUVR.Schaefer200.ROI.idx.28\n",
      "SUVR.Schaefer200.ROI.idx.29\n",
      "SUVR.Schaefer200.ROI.idx.30\n",
      "SUVR.Schaefer200.ROI.idx.31\n",
      "SUVR.Schaefer200.ROI.idx.32\n",
      "SUVR.Schaefer200.ROI.idx.33\n",
      "SUVR.Schaefer200.ROI.idx.34\n",
      "SUVR.Schaefer200.ROI.idx.35\n",
      "SUVR.Schaefer200.ROI.idx.36\n",
      "SUVR.Schaefer200.ROI.idx.37\n",
      "SUVR.Schaefer200.ROI.idx.38\n",
      "SUVR.Schaefer200.ROI.idx.39\n",
      "SUVR.Schaefer200.ROI.idx.40\n",
      "SUVR.Schaefer200.ROI.idx.41\n",
      "SUVR.Schaefer200.ROI.idx.42\n",
      "SUVR.Schaefer200.ROI.idx.43\n",
      "SUVR.Schaefer200.ROI.idx.44\n",
      "SUVR.Schaefer200.ROI.idx.45\n",
      "SUVR.Schaefer200.ROI.idx.46\n",
      "SUVR.Schaefer200.ROI.idx.47\n",
      "SUVR.Schaefer200.ROI.idx.48\n",
      "SUVR.Schaefer200.ROI.idx.49\n",
      "SUVR.Schaefer200.ROI.idx.50\n",
      "SUVR.Schaefer200.ROI.idx.51\n",
      "SUVR.Schaefer200.ROI.idx.52\n",
      "SUVR.Schaefer200.ROI.idx.53\n",
      "SUVR.Schaefer200.ROI.idx.54\n",
      "SUVR.Schaefer200.ROI.idx.55\n",
      "SUVR.Schaefer200.ROI.idx.56\n",
      "SUVR.Schaefer200.ROI.idx.57\n",
      "SUVR.Schaefer200.ROI.idx.58\n",
      "SUVR.Schaefer200.ROI.idx.59\n",
      "SUVR.Schaefer200.ROI.idx.60\n",
      "SUVR.Schaefer200.ROI.idx.61\n",
      "SUVR.Schaefer200.ROI.idx.62\n",
      "SUVR.Schaefer200.ROI.idx.63\n",
      "SUVR.Schaefer200.ROI.idx.64\n",
      "SUVR.Schaefer200.ROI.idx.65\n",
      "SUVR.Schaefer200.ROI.idx.66\n",
      "SUVR.Schaefer200.ROI.idx.67\n",
      "SUVR.Schaefer200.ROI.idx.68\n",
      "SUVR.Schaefer200.ROI.idx.69\n",
      "SUVR.Schaefer200.ROI.idx.70\n",
      "SUVR.Schaefer200.ROI.idx.71\n",
      "SUVR.Schaefer200.ROI.idx.72\n",
      "SUVR.Schaefer200.ROI.idx.73\n",
      "SUVR.Schaefer200.ROI.idx.74\n",
      "SUVR.Schaefer200.ROI.idx.75\n",
      "SUVR.Schaefer200.ROI.idx.76\n",
      "SUVR.Schaefer200.ROI.idx.77\n",
      "SUVR.Schaefer200.ROI.idx.78\n",
      "SUVR.Schaefer200.ROI.idx.79\n",
      "SUVR.Schaefer200.ROI.idx.80\n",
      "SUVR.Schaefer200.ROI.idx.81\n",
      "SUVR.Schaefer200.ROI.idx.82\n",
      "SUVR.Schaefer200.ROI.idx.83\n",
      "SUVR.Schaefer200.ROI.idx.84\n",
      "SUVR.Schaefer200.ROI.idx.85\n",
      "SUVR.Schaefer200.ROI.idx.86\n",
      "SUVR.Schaefer200.ROI.idx.87\n",
      "SUVR.Schaefer200.ROI.idx.88\n",
      "SUVR.Schaefer200.ROI.idx.89\n",
      "SUVR.Schaefer200.ROI.idx.90\n",
      "SUVR.Schaefer200.ROI.idx.91\n",
      "SUVR.Schaefer200.ROI.idx.92\n",
      "SUVR.Schaefer200.ROI.idx.93\n",
      "SUVR.Schaefer200.ROI.idx.94\n",
      "SUVR.Schaefer200.ROI.idx.95\n",
      "SUVR.Schaefer200.ROI.idx.96\n",
      "SUVR.Schaefer200.ROI.idx.97\n",
      "SUVR.Schaefer200.ROI.idx.98\n",
      "SUVR.Schaefer200.ROI.idx.99\n",
      "SUVR.Schaefer200.ROI.idx.100\n",
      "SUVR.Schaefer200.ROI.idx.101\n",
      "SUVR.Schaefer200.ROI.idx.102\n",
      "SUVR.Schaefer200.ROI.idx.103\n",
      "SUVR.Schaefer200.ROI.idx.104\n",
      "SUVR.Schaefer200.ROI.idx.105\n",
      "SUVR.Schaefer200.ROI.idx.106\n",
      "SUVR.Schaefer200.ROI.idx.107\n",
      "SUVR.Schaefer200.ROI.idx.108\n",
      "SUVR.Schaefer200.ROI.idx.109\n",
      "SUVR.Schaefer200.ROI.idx.110\n",
      "SUVR.Schaefer200.ROI.idx.111\n",
      "SUVR.Schaefer200.ROI.idx.112\n",
      "SUVR.Schaefer200.ROI.idx.113\n",
      "SUVR.Schaefer200.ROI.idx.114\n",
      "SUVR.Schaefer200.ROI.idx.115\n",
      "SUVR.Schaefer200.ROI.idx.116\n",
      "SUVR.Schaefer200.ROI.idx.117\n",
      "SUVR.Schaefer200.ROI.idx.118\n",
      "SUVR.Schaefer200.ROI.idx.119\n",
      "SUVR.Schaefer200.ROI.idx.120\n",
      "SUVR.Schaefer200.ROI.idx.121\n",
      "SUVR.Schaefer200.ROI.idx.122\n",
      "SUVR.Schaefer200.ROI.idx.123\n",
      "SUVR.Schaefer200.ROI.idx.124\n",
      "SUVR.Schaefer200.ROI.idx.125\n",
      "SUVR.Schaefer200.ROI.idx.126\n",
      "SUVR.Schaefer200.ROI.idx.127\n",
      "SUVR.Schaefer200.ROI.idx.128\n",
      "SUVR.Schaefer200.ROI.idx.129\n",
      "SUVR.Schaefer200.ROI.idx.130\n",
      "SUVR.Schaefer200.ROI.idx.131\n",
      "SUVR.Schaefer200.ROI.idx.132\n",
      "SUVR.Schaefer200.ROI.idx.133\n",
      "SUVR.Schaefer200.ROI.idx.134\n",
      "SUVR.Schaefer200.ROI.idx.135\n",
      "SUVR.Schaefer200.ROI.idx.136\n",
      "SUVR.Schaefer200.ROI.idx.137\n",
      "SUVR.Schaefer200.ROI.idx.138\n",
      "SUVR.Schaefer200.ROI.idx.139\n",
      "SUVR.Schaefer200.ROI.idx.140\n",
      "SUVR.Schaefer200.ROI.idx.141\n",
      "SUVR.Schaefer200.ROI.idx.142\n",
      "SUVR.Schaefer200.ROI.idx.143\n",
      "SUVR.Schaefer200.ROI.idx.144\n",
      "SUVR.Schaefer200.ROI.idx.145\n",
      "SUVR.Schaefer200.ROI.idx.146\n",
      "SUVR.Schaefer200.ROI.idx.147\n",
      "SUVR.Schaefer200.ROI.idx.148\n",
      "SUVR.Schaefer200.ROI.idx.149\n",
      "SUVR.Schaefer200.ROI.idx.150\n",
      "SUVR.Schaefer200.ROI.idx.151\n",
      "SUVR.Schaefer200.ROI.idx.152\n",
      "SUVR.Schaefer200.ROI.idx.153\n",
      "SUVR.Schaefer200.ROI.idx.154\n",
      "SUVR.Schaefer200.ROI.idx.155\n",
      "SUVR.Schaefer200.ROI.idx.156\n",
      "SUVR.Schaefer200.ROI.idx.157\n",
      "SUVR.Schaefer200.ROI.idx.158\n",
      "SUVR.Schaefer200.ROI.idx.159\n",
      "SUVR.Schaefer200.ROI.idx.160\n",
      "SUVR.Schaefer200.ROI.idx.161\n",
      "SUVR.Schaefer200.ROI.idx.162\n",
      "SUVR.Schaefer200.ROI.idx.163\n",
      "SUVR.Schaefer200.ROI.idx.164\n",
      "SUVR.Schaefer200.ROI.idx.165\n",
      "SUVR.Schaefer200.ROI.idx.166\n",
      "SUVR.Schaefer200.ROI.idx.167\n",
      "SUVR.Schaefer200.ROI.idx.168\n",
      "SUVR.Schaefer200.ROI.idx.169\n",
      "SUVR.Schaefer200.ROI.idx.170\n",
      "SUVR.Schaefer200.ROI.idx.171\n",
      "SUVR.Schaefer200.ROI.idx.172\n",
      "SUVR.Schaefer200.ROI.idx.173\n",
      "SUVR.Schaefer200.ROI.idx.174\n",
      "SUVR.Schaefer200.ROI.idx.175\n",
      "SUVR.Schaefer200.ROI.idx.176\n",
      "SUVR.Schaefer200.ROI.idx.177\n",
      "SUVR.Schaefer200.ROI.idx.178\n",
      "SUVR.Schaefer200.ROI.idx.179\n",
      "SUVR.Schaefer200.ROI.idx.180\n",
      "SUVR.Schaefer200.ROI.idx.181\n",
      "SUVR.Schaefer200.ROI.idx.182\n",
      "SUVR.Schaefer200.ROI.idx.183\n",
      "SUVR.Schaefer200.ROI.idx.184\n",
      "SUVR.Schaefer200.ROI.idx.185\n",
      "SUVR.Schaefer200.ROI.idx.186\n",
      "SUVR.Schaefer200.ROI.idx.187\n",
      "SUVR.Schaefer200.ROI.idx.188\n",
      "SUVR.Schaefer200.ROI.idx.189\n",
      "SUVR.Schaefer200.ROI.idx.190\n",
      "SUVR.Schaefer200.ROI.idx.191\n",
      "SUVR.Schaefer200.ROI.idx.192\n",
      "SUVR.Schaefer200.ROI.idx.193\n",
      "SUVR.Schaefer200.ROI.idx.194\n",
      "SUVR.Schaefer200.ROI.idx.195\n",
      "SUVR.Schaefer200.ROI.idx.196\n",
      "SUVR.Schaefer200.ROI.idx.197\n",
      "SUVR.Schaefer200.ROI.idx.198\n",
      "SUVR.Schaefer200.ROI.idx.199\n",
      "SUVR.Schaefer200.ROI.idx.200\n",
      "SUVR.DKT.ROI.idx.2\n",
      "SUVR.DKT.ROI.idx.4\n",
      "SUVR.DKT.ROI.idx.5\n",
      "SUVR.DKT.ROI.idx.7\n",
      "SUVR.DKT.ROI.idx.8\n",
      "SUVR.DKT.ROI.idx.10\n",
      "SUVR.DKT.ROI.idx.11\n",
      "SUVR.DKT.ROI.idx.12\n",
      "SUVR.DKT.ROI.idx.13\n",
      "SUVR.DKT.ROI.idx.14\n",
      "SUVR.DKT.ROI.idx.15\n",
      "SUVR.DKT.ROI.idx.16\n",
      "SUVR.DKT.ROI.idx.17\n",
      "SUVR.DKT.ROI.idx.18\n",
      "SUVR.DKT.ROI.idx.24\n",
      "SUVR.DKT.ROI.idx.26\n",
      "SUVR.DKT.ROI.idx.28\n",
      "SUVR.DKT.ROI.idx.30\n",
      "SUVR.DKT.ROI.idx.31\n",
      "SUVR.DKT.ROI.idx.41\n",
      "SUVR.DKT.ROI.idx.43\n",
      "SUVR.DKT.ROI.idx.44\n",
      "SUVR.DKT.ROI.idx.46\n",
      "SUVR.DKT.ROI.idx.47\n",
      "SUVR.DKT.ROI.idx.49\n",
      "SUVR.DKT.ROI.idx.50\n",
      "SUVR.DKT.ROI.idx.51\n",
      "SUVR.DKT.ROI.idx.52\n",
      "SUVR.DKT.ROI.idx.53\n",
      "SUVR.DKT.ROI.idx.54\n",
      "SUVR.DKT.ROI.idx.58\n",
      "SUVR.DKT.ROI.idx.60\n",
      "SUVR.DKT.ROI.idx.62\n",
      "SUVR.DKT.ROI.idx.63\n",
      "SUVR.DKT.ROI.idx.77\n",
      "SUVR.DKT.ROI.idx.85\n",
      "SUVR.DKT.ROI.idx.251\n",
      "SUVR.DKT.ROI.idx.252\n",
      "SUVR.DKT.ROI.idx.253\n",
      "SUVR.DKT.ROI.idx.254\n",
      "SUVR.DKT.ROI.idx.255\n",
      "SUVR.DKT.ROI.idx.1000\n",
      "SUVR.DKT.ROI.idx.1002\n",
      "SUVR.DKT.ROI.idx.1003\n",
      "SUVR.DKT.ROI.idx.1005\n",
      "SUVR.DKT.ROI.idx.1006\n",
      "SUVR.DKT.ROI.idx.1007\n",
      "SUVR.DKT.ROI.idx.1008\n",
      "SUVR.DKT.ROI.idx.1009\n",
      "SUVR.DKT.ROI.idx.1010\n",
      "SUVR.DKT.ROI.idx.1011\n",
      "SUVR.DKT.ROI.idx.1012\n",
      "SUVR.DKT.ROI.idx.1013\n",
      "SUVR.DKT.ROI.idx.1014\n",
      "SUVR.DKT.ROI.idx.1015\n",
      "SUVR.DKT.ROI.idx.1016\n",
      "SUVR.DKT.ROI.idx.1017\n",
      "SUVR.DKT.ROI.idx.1018\n",
      "SUVR.DKT.ROI.idx.1019\n",
      "SUVR.DKT.ROI.idx.1020\n",
      "SUVR.DKT.ROI.idx.1021\n",
      "SUVR.DKT.ROI.idx.1022\n",
      "SUVR.DKT.ROI.idx.1023\n",
      "SUVR.DKT.ROI.idx.1024\n",
      "SUVR.DKT.ROI.idx.1025\n",
      "SUVR.DKT.ROI.idx.1026\n",
      "SUVR.DKT.ROI.idx.1027\n",
      "SUVR.DKT.ROI.idx.1028\n",
      "SUVR.DKT.ROI.idx.1029\n",
      "SUVR.DKT.ROI.idx.1030\n",
      "SUVR.DKT.ROI.idx.1031\n",
      "SUVR.DKT.ROI.idx.1034\n",
      "SUVR.DKT.ROI.idx.1035\n",
      "SUVR.DKT.ROI.idx.2000\n",
      "SUVR.DKT.ROI.idx.2002\n",
      "SUVR.DKT.ROI.idx.2003\n",
      "SUVR.DKT.ROI.idx.2005\n",
      "SUVR.DKT.ROI.idx.2006\n",
      "SUVR.DKT.ROI.idx.2007\n",
      "SUVR.DKT.ROI.idx.2008\n",
      "SUVR.DKT.ROI.idx.2009\n",
      "SUVR.DKT.ROI.idx.2010\n",
      "SUVR.DKT.ROI.idx.2011\n",
      "SUVR.DKT.ROI.idx.2012\n",
      "SUVR.DKT.ROI.idx.2013\n",
      "SUVR.DKT.ROI.idx.2014\n",
      "SUVR.DKT.ROI.idx.2015\n",
      "SUVR.DKT.ROI.idx.2016\n",
      "SUVR.DKT.ROI.idx.2017\n",
      "SUVR.DKT.ROI.idx.2018\n",
      "SUVR.DKT.ROI.idx.2019\n",
      "SUVR.DKT.ROI.idx.2020\n",
      "SUVR.DKT.ROI.idx.2021\n",
      "SUVR.DKT.ROI.idx.2022\n",
      "SUVR.DKT.ROI.idx.2023\n",
      "SUVR.DKT.ROI.idx.2024\n",
      "SUVR.DKT.ROI.idx.2025\n",
      "SUVR.DKT.ROI.idx.2026\n",
      "SUVR.DKT.ROI.idx.2027\n",
      "SUVR.DKT.ROI.idx.2028\n",
      "SUVR.DKT.ROI.idx.2029\n",
      "SUVR.DKT.ROI.idx.2030\n",
      "SUVR.DKT.ROI.idx.2031\n",
      "SUVR.DKT.ROI.idx.2034\n",
      "SUVR.DKT.ROI.idx.2035\n",
      "SUVR.DKT.ROI.idx.72\n",
      "apoe\n",
      "amyloid.global.SUVR\n",
      "amyloid.global.SUVR.status\n",
      "centiloid\n",
      "tau.braak1.SUVR\n",
      "tau.braak3.SUVR\n",
      "tau.braak4.SUVR\n",
      "tau.braak5.SUVR\n",
      "tau.braak6.SUVR\n",
      "tau.braak34.SUVR\n",
      "tau.braak56.SUVR\n",
      "tau.temporal.meta.SUVR\n",
      "tau.global.SUVR\n",
      "RID\n",
      "PTEDUCAT\n",
      "ADNI_MEM\n",
      "ADNI_EF\n",
      "ADNI_LAN\n",
      "ADNI_VS\n",
      "t.diff.uwn.psych.pet.yrs\n",
      "ADAS13\n",
      "MMSE\n",
      "mPACCtrailsB\n",
      "t.diff.adas.pet.yrs\n",
      "PHASE\n",
      "DX\n",
      "SITEID\n",
      "t.diff.diagnosis.pet.yrs\n",
      "Phase\n",
      "None\n"
     ]
    }
   ],
   "source": [
    "print(print('\\n'.join(list(df_adni_tau.keys()))))"
   ]
  },
  {
   "cell_type": "code",
   "execution_count": 85,
   "id": "6a7f6d12",
   "metadata": {},
   "outputs": [
    {
     "data": {
      "text/html": [
       "<div>\n",
       "<style scoped>\n",
       "    .dataframe tbody tr th:only-of-type {\n",
       "        vertical-align: middle;\n",
       "    }\n",
       "\n",
       "    .dataframe tbody tr th {\n",
       "        vertical-align: top;\n",
       "    }\n",
       "\n",
       "    .dataframe thead th {\n",
       "        text-align: right;\n",
       "    }\n",
       "</style>\n",
       "<table border=\"1\" class=\"dataframe\">\n",
       "  <thead>\n",
       "    <tr style=\"text-align: right;\">\n",
       "      <th></th>\n",
       "      <th>ID</th>\n",
       "      <th>age</th>\n",
       "      <th>sex</th>\n",
       "      <th>group</th>\n",
       "      <th>pet.modality</th>\n",
       "      <th>modality.description</th>\n",
       "      <th>image.id</th>\n",
       "      <th>ses</th>\n",
       "      <th>acq.date</th>\n",
       "      <th>SUVR.Schaefer200.ROI.idx.1</th>\n",
       "      <th>...</th>\n",
       "      <th>t.diff.uwn.psych.pet.yrs</th>\n",
       "      <th>ADAS13</th>\n",
       "      <th>MMSE</th>\n",
       "      <th>mPACCtrailsB</th>\n",
       "      <th>t.diff.adas.pet.yrs</th>\n",
       "      <th>PHASE</th>\n",
       "      <th>DX</th>\n",
       "      <th>SITEID</th>\n",
       "      <th>t.diff.diagnosis.pet.yrs</th>\n",
       "      <th>Phase</th>\n",
       "    </tr>\n",
       "  </thead>\n",
       "  <tbody>\n",
       "    <tr>\n",
       "      <th>0</th>\n",
       "      <td>sub-0021</td>\n",
       "      <td>80</td>\n",
       "      <td>F</td>\n",
       "      <td>CN</td>\n",
       "      <td>pet-AV45</td>\n",
       "      <td>AV45 Coreg, Avg, Standardized Image and Voxel ...</td>\n",
       "      <td>I338512</td>\n",
       "      <td>2012-10-03</td>\n",
       "      <td>2012-10-03</td>\n",
       "      <td>0.912861</td>\n",
       "      <td>...</td>\n",
       "      <td>0.000000</td>\n",
       "      <td>1.00</td>\n",
       "      <td>28.0</td>\n",
       "      <td>1.299940</td>\n",
       "      <td>0.000000</td>\n",
       "      <td>NaN</td>\n",
       "      <td>CN</td>\n",
       "      <td>8</td>\n",
       "      <td>0.021918</td>\n",
       "      <td>ADNI2</td>\n",
       "    </tr>\n",
       "    <tr>\n",
       "      <th>1</th>\n",
       "      <td>sub-0021</td>\n",
       "      <td>85</td>\n",
       "      <td>F</td>\n",
       "      <td>CN</td>\n",
       "      <td>pet-AV1451</td>\n",
       "      <td>AV1451 Coreg, Avg, Standardized Image and Voxe...</td>\n",
       "      <td>I964024</td>\n",
       "      <td>2018-02-02</td>\n",
       "      <td>2018-02-02</td>\n",
       "      <td>1.126000</td>\n",
       "      <td>...</td>\n",
       "      <td>-0.183562</td>\n",
       "      <td>12.33</td>\n",
       "      <td>27.0</td>\n",
       "      <td>-2.151210</td>\n",
       "      <td>-0.183562</td>\n",
       "      <td>NaN</td>\n",
       "      <td>CN</td>\n",
       "      <td>8</td>\n",
       "      <td>0.065753</td>\n",
       "      <td>ADNI3</td>\n",
       "    </tr>\n",
       "    <tr>\n",
       "      <th>2</th>\n",
       "      <td>sub-0021</td>\n",
       "      <td>83</td>\n",
       "      <td>F</td>\n",
       "      <td>CN</td>\n",
       "      <td>pet-AV45</td>\n",
       "      <td>AV45 Coreg, Avg, Standardized Image and Voxel ...</td>\n",
       "      <td>I557331</td>\n",
       "      <td>2015-11-05</td>\n",
       "      <td>2015-11-05</td>\n",
       "      <td>0.899505</td>\n",
       "      <td>...</td>\n",
       "      <td>-0.024658</td>\n",
       "      <td>5.00</td>\n",
       "      <td>27.0</td>\n",
       "      <td>-0.816517</td>\n",
       "      <td>-0.024658</td>\n",
       "      <td>NaN</td>\n",
       "      <td>CN</td>\n",
       "      <td>8</td>\n",
       "      <td>0.013699</td>\n",
       "      <td>ADNI2</td>\n",
       "    </tr>\n",
       "    <tr>\n",
       "      <th>3</th>\n",
       "      <td>sub-0021</td>\n",
       "      <td>78</td>\n",
       "      <td>F</td>\n",
       "      <td>CN</td>\n",
       "      <td>pet-AV45</td>\n",
       "      <td>AV45 Coreg, Avg, Standardized Image and Voxel ...</td>\n",
       "      <td>I196544</td>\n",
       "      <td>2010-10-08</td>\n",
       "      <td>2010-10-08</td>\n",
       "      <td>1.007220</td>\n",
       "      <td>...</td>\n",
       "      <td>-0.002740</td>\n",
       "      <td>4.00</td>\n",
       "      <td>29.0</td>\n",
       "      <td>0.355272</td>\n",
       "      <td>-0.002740</td>\n",
       "      <td>NaN</td>\n",
       "      <td>CN</td>\n",
       "      <td>8</td>\n",
       "      <td>0.027397</td>\n",
       "      <td>ADNIGO</td>\n",
       "    </tr>\n",
       "    <tr>\n",
       "      <th>4</th>\n",
       "      <td>sub-0021</td>\n",
       "      <td>85</td>\n",
       "      <td>F</td>\n",
       "      <td>CN</td>\n",
       "      <td>pet-AV45</td>\n",
       "      <td>AV45 Coreg, Avg, Standardized Image and Voxel ...</td>\n",
       "      <td>I943941</td>\n",
       "      <td>2017-11-28</td>\n",
       "      <td>2017-11-28</td>\n",
       "      <td>0.877004</td>\n",
       "      <td>...</td>\n",
       "      <td>-0.002740</td>\n",
       "      <td>12.33</td>\n",
       "      <td>27.0</td>\n",
       "      <td>-2.151210</td>\n",
       "      <td>-0.002740</td>\n",
       "      <td>NaN</td>\n",
       "      <td>CN</td>\n",
       "      <td>8</td>\n",
       "      <td>0.246575</td>\n",
       "      <td>ADNI3</td>\n",
       "    </tr>\n",
       "    <tr>\n",
       "      <th>...</th>\n",
       "      <td>...</td>\n",
       "      <td>...</td>\n",
       "      <td>...</td>\n",
       "      <td>...</td>\n",
       "      <td>...</td>\n",
       "      <td>...</td>\n",
       "      <td>...</td>\n",
       "      <td>...</td>\n",
       "      <td>...</td>\n",
       "      <td>...</td>\n",
       "      <td>...</td>\n",
       "      <td>...</td>\n",
       "      <td>...</td>\n",
       "      <td>...</td>\n",
       "      <td>...</td>\n",
       "      <td>...</td>\n",
       "      <td>...</td>\n",
       "      <td>...</td>\n",
       "      <td>...</td>\n",
       "      <td>...</td>\n",
       "      <td>...</td>\n",
       "    </tr>\n",
       "    <tr>\n",
       "      <th>2958</th>\n",
       "      <td>sub-6887</td>\n",
       "      <td>73</td>\n",
       "      <td>F</td>\n",
       "      <td>MCI</td>\n",
       "      <td>pet-AV1451</td>\n",
       "      <td>ADNI3-TAU 2 (AC)</td>\n",
       "      <td>I1360700</td>\n",
       "      <td>2020-10-27</td>\n",
       "      <td>2020-10-27</td>\n",
       "      <td>1.218620</td>\n",
       "      <td>...</td>\n",
       "      <td>NaN</td>\n",
       "      <td>22.33</td>\n",
       "      <td>26.0</td>\n",
       "      <td>-8.167770</td>\n",
       "      <td>-0.060274</td>\n",
       "      <td>NaN</td>\n",
       "      <td>MCI</td>\n",
       "      <td>26</td>\n",
       "      <td>-0.049315</td>\n",
       "      <td>ADNI3</td>\n",
       "    </tr>\n",
       "    <tr>\n",
       "      <th>2959</th>\n",
       "      <td>sub-6888</td>\n",
       "      <td>64</td>\n",
       "      <td>F</td>\n",
       "      <td>MCI</td>\n",
       "      <td>pet-AV1451</td>\n",
       "      <td>PET1 Tau</td>\n",
       "      <td>I1346966</td>\n",
       "      <td>2020-10-07</td>\n",
       "      <td>2020-10-07</td>\n",
       "      <td>1.126700</td>\n",
       "      <td>...</td>\n",
       "      <td>NaN</td>\n",
       "      <td>15.67</td>\n",
       "      <td>26.0</td>\n",
       "      <td>-3.761820</td>\n",
       "      <td>0.000000</td>\n",
       "      <td>NaN</td>\n",
       "      <td>MCI</td>\n",
       "      <td>45</td>\n",
       "      <td>-0.016438</td>\n",
       "      <td>ADNI3</td>\n",
       "    </tr>\n",
       "    <tr>\n",
       "      <th>2960</th>\n",
       "      <td>sub-6889</td>\n",
       "      <td>68</td>\n",
       "      <td>M</td>\n",
       "      <td>MCI</td>\n",
       "      <td>pet-AV1451</td>\n",
       "      <td>BRAIN ADNI Tau</td>\n",
       "      <td>I1350177</td>\n",
       "      <td>2020-10-16</td>\n",
       "      <td>2020-10-16</td>\n",
       "      <td>1.183060</td>\n",
       "      <td>...</td>\n",
       "      <td>NaN</td>\n",
       "      <td>29.00</td>\n",
       "      <td>28.0</td>\n",
       "      <td>-5.300670</td>\n",
       "      <td>0.019178</td>\n",
       "      <td>NaN</td>\n",
       "      <td>MCI</td>\n",
       "      <td>24</td>\n",
       "      <td>-0.057534</td>\n",
       "      <td>ADNI3</td>\n",
       "    </tr>\n",
       "    <tr>\n",
       "      <th>2961</th>\n",
       "      <td>sub-6890</td>\n",
       "      <td>66</td>\n",
       "      <td>M</td>\n",
       "      <td>MCI</td>\n",
       "      <td>pet-AV1451</td>\n",
       "      <td>AV-1451 PET BRAIN TOF Tau</td>\n",
       "      <td>I1380834</td>\n",
       "      <td>2020-12-01</td>\n",
       "      <td>2020-12-01</td>\n",
       "      <td>1.087770</td>\n",
       "      <td>...</td>\n",
       "      <td>NaN</td>\n",
       "      <td>12.00</td>\n",
       "      <td>29.0</td>\n",
       "      <td>-1.200640</td>\n",
       "      <td>0.000000</td>\n",
       "      <td>NaN</td>\n",
       "      <td>MCI</td>\n",
       "      <td>16</td>\n",
       "      <td>0.035616</td>\n",
       "      <td>ADNI3</td>\n",
       "    </tr>\n",
       "    <tr>\n",
       "      <th>2962</th>\n",
       "      <td>sub-6894</td>\n",
       "      <td>75</td>\n",
       "      <td>M</td>\n",
       "      <td>MCI</td>\n",
       "      <td>pet-AV1451</td>\n",
       "      <td>ADNI3-TAU (AC)</td>\n",
       "      <td>I1382051</td>\n",
       "      <td>2020-12-02</td>\n",
       "      <td>2020-12-02</td>\n",
       "      <td>2.565370</td>\n",
       "      <td>...</td>\n",
       "      <td>NaN</td>\n",
       "      <td>22.33</td>\n",
       "      <td>25.0</td>\n",
       "      <td>-12.154300</td>\n",
       "      <td>-0.002740</td>\n",
       "      <td>NaN</td>\n",
       "      <td>MCI</td>\n",
       "      <td>26</td>\n",
       "      <td>0.002740</td>\n",
       "      <td>ADNI3</td>\n",
       "    </tr>\n",
       "  </tbody>\n",
       "</table>\n",
       "<p>2963 rows × 344 columns</p>\n",
       "</div>"
      ],
      "text/plain": [
       "            ID  age sex group pet.modality  \\\n",
       "0     sub-0021   80   F    CN     pet-AV45   \n",
       "1     sub-0021   85   F    CN   pet-AV1451   \n",
       "2     sub-0021   83   F    CN     pet-AV45   \n",
       "3     sub-0021   78   F    CN     pet-AV45   \n",
       "4     sub-0021   85   F    CN     pet-AV45   \n",
       "...        ...  ...  ..   ...          ...   \n",
       "2958  sub-6887   73   F   MCI   pet-AV1451   \n",
       "2959  sub-6888   64   F   MCI   pet-AV1451   \n",
       "2960  sub-6889   68   M   MCI   pet-AV1451   \n",
       "2961  sub-6890   66   M   MCI   pet-AV1451   \n",
       "2962  sub-6894   75   M   MCI   pet-AV1451   \n",
       "\n",
       "                                   modality.description  image.id        ses  \\\n",
       "0     AV45 Coreg, Avg, Standardized Image and Voxel ...   I338512 2012-10-03   \n",
       "1     AV1451 Coreg, Avg, Standardized Image and Voxe...   I964024 2018-02-02   \n",
       "2     AV45 Coreg, Avg, Standardized Image and Voxel ...   I557331 2015-11-05   \n",
       "3     AV45 Coreg, Avg, Standardized Image and Voxel ...   I196544 2010-10-08   \n",
       "4     AV45 Coreg, Avg, Standardized Image and Voxel ...   I943941 2017-11-28   \n",
       "...                                                 ...       ...        ...   \n",
       "2958                                   ADNI3-TAU 2 (AC)  I1360700 2020-10-27   \n",
       "2959                                           PET1 Tau  I1346966 2020-10-07   \n",
       "2960                                     BRAIN ADNI Tau  I1350177 2020-10-16   \n",
       "2961                          AV-1451 PET BRAIN TOF Tau  I1380834 2020-12-01   \n",
       "2962                                     ADNI3-TAU (AC)  I1382051 2020-12-02   \n",
       "\n",
       "        acq.date  SUVR.Schaefer200.ROI.idx.1  ...  t.diff.uwn.psych.pet.yrs  \\\n",
       "0     2012-10-03                    0.912861  ...                  0.000000   \n",
       "1     2018-02-02                    1.126000  ...                 -0.183562   \n",
       "2     2015-11-05                    0.899505  ...                 -0.024658   \n",
       "3     2010-10-08                    1.007220  ...                 -0.002740   \n",
       "4     2017-11-28                    0.877004  ...                 -0.002740   \n",
       "...          ...                         ...  ...                       ...   \n",
       "2958  2020-10-27                    1.218620  ...                       NaN   \n",
       "2959  2020-10-07                    1.126700  ...                       NaN   \n",
       "2960  2020-10-16                    1.183060  ...                       NaN   \n",
       "2961  2020-12-01                    1.087770  ...                       NaN   \n",
       "2962  2020-12-02                    2.565370  ...                       NaN   \n",
       "\n",
       "      ADAS13  MMSE  mPACCtrailsB  t.diff.adas.pet.yrs  PHASE   DX  SITEID  \\\n",
       "0       1.00  28.0      1.299940             0.000000    NaN   CN       8   \n",
       "1      12.33  27.0     -2.151210            -0.183562    NaN   CN       8   \n",
       "2       5.00  27.0     -0.816517            -0.024658    NaN   CN       8   \n",
       "3       4.00  29.0      0.355272            -0.002740    NaN   CN       8   \n",
       "4      12.33  27.0     -2.151210            -0.002740    NaN   CN       8   \n",
       "...      ...   ...           ...                  ...    ...  ...     ...   \n",
       "2958   22.33  26.0     -8.167770            -0.060274    NaN  MCI      26   \n",
       "2959   15.67  26.0     -3.761820             0.000000    NaN  MCI      45   \n",
       "2960   29.00  28.0     -5.300670             0.019178    NaN  MCI      24   \n",
       "2961   12.00  29.0     -1.200640             0.000000    NaN  MCI      16   \n",
       "2962   22.33  25.0    -12.154300            -0.002740    NaN  MCI      26   \n",
       "\n",
       "      t.diff.diagnosis.pet.yrs   Phase  \n",
       "0                     0.021918   ADNI2  \n",
       "1                     0.065753   ADNI3  \n",
       "2                     0.013699   ADNI2  \n",
       "3                     0.027397  ADNIGO  \n",
       "4                     0.246575   ADNI3  \n",
       "...                        ...     ...  \n",
       "2958                 -0.049315   ADNI3  \n",
       "2959                 -0.016438   ADNI3  \n",
       "2960                 -0.057534   ADNI3  \n",
       "2961                  0.035616   ADNI3  \n",
       "2962                  0.002740   ADNI3  \n",
       "\n",
       "[2963 rows x 344 columns]"
      ]
     },
     "execution_count": 85,
     "metadata": {},
     "output_type": "execute_result"
    }
   ],
   "source": [
    "df_adni_tau"
   ]
  },
  {
   "cell_type": "markdown",
   "id": "6e424222",
   "metadata": {},
   "source": [
    "### Subject study entry statistics"
   ]
  },
  {
   "cell_type": "code",
   "execution_count": 13,
   "id": "b7fd7040",
   "metadata": {},
   "outputs": [],
   "source": [
    "# Drop all but the first appearance of each subject\n",
    "df_subject_entry = df_adni_tau.sort_values('ses').drop_duplicates(subset=['ID'])"
   ]
  },
  {
   "cell_type": "code",
   "execution_count": 18,
   "id": "06bfd22d",
   "metadata": {},
   "outputs": [
    {
     "data": {
      "text/plain": [
       "<AxesSubplot:xlabel='age', ylabel='Count'>"
      ]
     },
     "execution_count": 18,
     "metadata": {},
     "output_type": "execute_result"
    },
    {
     "data": {
      "image/png": "[encoded data removed]",
      "text/plain": [
       "<Figure size 432x288 with 1 Axes>"
      ]
     },
     "metadata": {
      "needs_background": "light"
     },
     "output_type": "display_data"
    }
   ],
   "source": [
    "sns.histplot(df_subject_entry, x='age', discrete=True)"
   ]
  },
  {
   "cell_type": "code",
   "execution_count": 38,
   "id": "341f9caf",
   "metadata": {},
   "outputs": [
    {
     "data": {
      "text/plain": [
       "<AxesSubplot:xlabel='sex', ylabel='count'>"
      ]
     },
     "execution_count": 38,
     "metadata": {},
     "output_type": "execute_result"
    },
    {
     "data": {
      "image/png": "[encoded data removed]",
      "text/plain": [
       "<Figure size 432x288 with 1 Axes>"
      ]
     },
     "metadata": {
      "needs_background": "light"
     },
     "output_type": "display_data"
    }
   ],
   "source": [
    "sns.countplot(data=df_subject_entry, x='sex')"
   ]
  },
  {
   "cell_type": "code",
   "execution_count": 39,
   "id": "48e63593",
   "metadata": {},
   "outputs": [
    {
     "data": {
      "text/plain": [
       "<AxesSubplot:xlabel='group', ylabel='count'>"
      ]
     },
     "execution_count": 39,
     "metadata": {},
     "output_type": "execute_result"
    },
    {
     "data": {
      "image/png": "[encoded data removed]",
      "text/plain": [
       "<Figure size 432x288 with 1 Axes>"
      ]
     },
     "metadata": {
      "needs_background": "light"
     },
     "output_type": "display_data"
    }
   ],
   "source": [
    "sns.countplot(data=df_subject_entry, x='group')"
   ]
  },
  {
   "cell_type": "code",
   "execution_count": 19,
   "id": "d199d5bd",
   "metadata": {},
   "outputs": [
    {
     "data": {
      "text/plain": [
       "<AxesSubplot:xlabel='acq.year', ylabel='Count'>"
      ]
     },
     "execution_count": 19,
     "metadata": {},
     "output_type": "execute_result"
    },
    {
     "data": {
      "image/png": "[encoded data removed]",
      "text/plain": [
       "<Figure size 432x288 with 1 Axes>"
      ]
     },
     "metadata": {
      "needs_background": "light"
     },
     "output_type": "display_data"
    }
   ],
   "source": [
    "# Add column with year of first session\n",
    "df_subject_entry['acq.year'] = pd.to_datetime(df_subject_entry['acq.date']).dt.year\n",
    "\n",
    "sns.histplot(data=df_subject_entry, x='acq.year', discrete=True)"
   ]
  },
  {
   "cell_type": "code",
   "execution_count": 20,
   "id": "22974eae",
   "metadata": {},
   "outputs": [
    {
     "data": {
      "text/plain": [
       "<AxesSubplot:xlabel='MMSE', ylabel='Count'>"
      ]
     },
     "execution_count": 20,
     "metadata": {},
     "output_type": "execute_result"
    },
    {
     "data": {
      "image/png": "[encoded data removed]",
      "text/plain": [
       "<Figure size 432x288 with 1 Axes>"
      ]
     },
     "metadata": {
      "needs_background": "light"
     },
     "output_type": "display_data"
    }
   ],
   "source": [
    "sns.histplot(data=df_subject_entry, x='MMSE', discrete=True)"
   ]
  },
  {
   "cell_type": "code",
   "execution_count": 21,
   "id": "fdae8a9f",
   "metadata": {},
   "outputs": [
    {
     "data": {
      "text/plain": [
       "<AxesSubplot:xlabel='ADAS13', ylabel='Count'>"
      ]
     },
     "execution_count": 21,
     "metadata": {},
     "output_type": "execute_result"
    },
    {
     "data": {
      "image/png": "[encoded data removed]",
      "text/plain": [
       "<Figure size 432x288 with 1 Axes>"
      ]
     },
     "metadata": {
      "needs_background": "light"
     },
     "output_type": "display_data"
    }
   ],
   "source": [
    "sns.histplot(data=df_subject_entry, x='ADAS13', discrete=True)"
   ]
  },
  {
   "cell_type": "code",
   "execution_count": 52,
   "id": "faa3307f",
   "metadata": {},
   "outputs": [
    {
     "data": {
      "text/plain": [
       "<AxesSubplot:xlabel='Phase', ylabel='count'>"
      ]
     },
     "execution_count": 52,
     "metadata": {},
     "output_type": "execute_result"
    },
    {
     "data": {
      "image/png": "[encoded data removed]",
      "text/plain": [
       "<Figure size 432x288 with 1 Axes>"
      ]
     },
     "metadata": {
      "needs_background": "light"
     },
     "output_type": "display_data"
    }
   ],
   "source": [
    "sns.countplot(data=df_subject_entry, x='Phase')"
   ]
  },
  {
   "cell_type": "code",
   "execution_count": 53,
   "id": "55feea3d",
   "metadata": {},
   "outputs": [
    {
     "data": {
      "text/plain": [
       "<AxesSubplot:xlabel='apoe', ylabel='count'>"
      ]
     },
     "execution_count": 53,
     "metadata": {},
     "output_type": "execute_result"
    },
    {
     "data": {
      "image/png": "[encoded data removed]",
      "text/plain": [
       "<Figure size 432x288 with 1 Axes>"
      ]
     },
     "metadata": {
      "needs_background": "light"
     },
     "output_type": "display_data"
    }
   ],
   "source": [
    "sns.countplot(data=df_subject_entry, x='apoe')"
   ]
  },
  {
   "cell_type": "code",
   "execution_count": 54,
   "id": "1d6e6f13",
   "metadata": {},
   "outputs": [
    {
     "data": {
      "text/plain": [
       "<AxesSubplot:xlabel='centiloid', ylabel='Count'>"
      ]
     },
     "execution_count": 54,
     "metadata": {},
     "output_type": "execute_result"
    },
    {
     "data": {
      "image/png": "[encoded data removed]",
      "text/plain": [
       "<Figure size 432x288 with 1 Axes>"
      ]
     },
     "metadata": {
      "needs_background": "light"
     },
     "output_type": "display_data"
    }
   ],
   "source": [
    "sns.histplot(data=df_subject_entry, x='centiloid')"
   ]
  },
  {
   "cell_type": "code",
   "execution_count": 55,
   "id": "c35ca0d4",
   "metadata": {},
   "outputs": [
    {
     "data": {
      "text/plain": [
       "<AxesSubplot:xlabel='tau.global.SUVR', ylabel='Count'>"
      ]
     },
     "execution_count": 55,
     "metadata": {},
     "output_type": "execute_result"
    },
    {
     "data": {
      "image/png": "[encoded data removed]",
      "text/plain": [
       "<Figure size 432x288 with 1 Axes>"
      ]
     },
     "metadata": {
      "needs_background": "light"
     },
     "output_type": "display_data"
    }
   ],
   "source": [
    "sns.histplot(data=df_subject_entry, x='tau.global.SUVR')"
   ]
  },
  {
   "cell_type": "code",
   "execution_count": 56,
   "id": "dba43ba2",
   "metadata": {},
   "outputs": [
    {
     "data": {
      "text/plain": [
       "<AxesSubplot:xlabel='mPACCtrailsB', ylabel='Count'>"
      ]
     },
     "execution_count": 56,
     "metadata": {},
     "output_type": "execute_result"
    },
    {
     "data": {
      "image/png": "[encoded data removed]",
      "text/plain": [
       "<Figure size 432x288 with 1 Axes>"
      ]
     },
     "metadata": {
      "needs_background": "light"
     },
     "output_type": "display_data"
    }
   ],
   "source": [
    "sns.histplot(data=df_subject_entry, x='mPACCtrailsB')"
   ]
  },
  {
   "cell_type": "code",
   "execution_count": 57,
   "id": "addaffbc",
   "metadata": {},
   "outputs": [
    {
     "data": {
      "text/plain": [
       "<AxesSubplot:xlabel='SITEID', ylabel='count'>"
      ]
     },
     "execution_count": 57,
     "metadata": {},
     "output_type": "execute_result"
    },
    {
     "data": {
      "image/png": "[encoded data removed]",
      "text/plain": [
       "<Figure size 432x288 with 1 Axes>"
      ]
     },
     "metadata": {
      "needs_background": "light"
     },
     "output_type": "display_data"
    }
   ],
   "source": [
    "sns.countplot(data=df_subject_entry, x='SITEID')"
   ]
  },
  {
   "cell_type": "code",
   "execution_count": 58,
   "id": "d28175de",
   "metadata": {},
   "outputs": [
    {
     "data": {
      "text/plain": [
       "<AxesSubplot:xlabel='DX', ylabel='count'>"
      ]
     },
     "execution_count": 58,
     "metadata": {},
     "output_type": "execute_result"
    },
    {
     "data": {
      "image/png": "[encoded data removed]",
      "text/plain": [
       "<Figure size 432x288 with 1 Axes>"
      ]
     },
     "metadata": {
      "needs_background": "light"
     },
     "output_type": "display_data"
    }
   ],
   "source": [
    "sns.countplot(data=df_subject_entry, x='DX')"
   ]
  },
  {
   "cell_type": "code",
   "execution_count": 62,
   "id": "4a800b5f",
   "metadata": {},
   "outputs": [
    {
     "data": {
      "text/plain": [
       "<AxesSubplot:xlabel='PTEDUCAT', ylabel='Count'>"
      ]
     },
     "execution_count": 62,
     "metadata": {},
     "output_type": "execute_result"
    },
    {
     "data": {
      "image/png": "[encoded data removed]",
      "text/plain": [
       "<Figure size 432x288 with 1 Axes>"
      ]
     },
     "metadata": {
      "needs_background": "light"
     },
     "output_type": "display_data"
    }
   ],
   "source": [
    "sns.histplot(data=df_subject_entry, x='PTEDUCAT')"
   ]
  },
  {
   "cell_type": "code",
   "execution_count": 63,
   "id": "f54fdbc0",
   "metadata": {},
   "outputs": [
    {
     "data": {
      "text/plain": [
       "<AxesSubplot:xlabel='ADNI_MEM', ylabel='Count'>"
      ]
     },
     "execution_count": 63,
     "metadata": {},
     "output_type": "execute_result"
    },
    {
     "data": {
      "image/png": "[encoded data removed]",
      "text/plain": [
       "<Figure size 432x288 with 1 Axes>"
      ]
     },
     "metadata": {
      "needs_background": "light"
     },
     "output_type": "display_data"
    }
   ],
   "source": [
    "sns.histplot(data=df_subject_entry, x='ADNI_MEM')"
   ]
  },
  {
   "cell_type": "code",
   "execution_count": 64,
   "id": "32acc440",
   "metadata": {},
   "outputs": [
    {
     "data": {
      "text/plain": [
       "<AxesSubplot:xlabel='ADNI_EF', ylabel='Count'>"
      ]
     },
     "execution_count": 64,
     "metadata": {},
     "output_type": "execute_result"
    },
    {
     "data": {
      "image/png": "[encoded data removed]",
      "text/plain": [
       "<Figure size 432x288 with 1 Axes>"
      ]
     },
     "metadata": {
      "needs_background": "light"
     },
     "output_type": "display_data"
    }
   ],
   "source": [
    "sns.histplot(data=df_subject_entry, x='ADNI_EF')"
   ]
  },
  {
   "cell_type": "code",
   "execution_count": 65,
   "id": "5093e9e1",
   "metadata": {},
   "outputs": [
    {
     "data": {
      "text/plain": [
       "<AxesSubplot:xlabel='ADNI_LAN', ylabel='Count'>"
      ]
     },
     "execution_count": 65,
     "metadata": {},
     "output_type": "execute_result"
    },
    {
     "data": {
      "image/png": "[encoded data removed]",
      "text/plain": [
       "<Figure size 432x288 with 1 Axes>"
      ]
     },
     "metadata": {
      "needs_background": "light"
     },
     "output_type": "display_data"
    }
   ],
   "source": [
    "sns.histplot(data=df_subject_entry, x='ADNI_LAN')"
   ]
  },
  {
   "cell_type": "code",
   "execution_count": 66,
   "id": "3a3d7d48",
   "metadata": {},
   "outputs": [
    {
     "data": {
      "text/plain": [
       "<AxesSubplot:xlabel='ADNI_VS', ylabel='Count'>"
      ]
     },
     "execution_count": 66,
     "metadata": {},
     "output_type": "execute_result"
    },
    {
     "data": {
      "image/png": "[encoded data removed]",
      "text/plain": [
       "<Figure size 432x288 with 1 Axes>"
      ]
     },
     "metadata": {
      "needs_background": "light"
     },
     "output_type": "display_data"
    }
   ],
   "source": [
    "sns.histplot(data=df_subject_entry, x='ADNI_VS')"
   ]
  },
  {
   "cell_type": "code",
   "execution_count": 67,
   "id": "23988abc",
   "metadata": {},
   "outputs": [
    {
     "data": {
      "text/plain": [
       "<AxesSubplot:xlabel='t.diff.uwn.psych.pet.yrs', ylabel='Count'>"
      ]
     },
     "execution_count": 67,
     "metadata": {},
     "output_type": "execute_result"
    },
    {
     "data": {
      "image/png": "[encoded data removed]",
      "text/plain": [
       "<Figure size 432x288 with 1 Axes>"
      ]
     },
     "metadata": {
      "needs_background": "light"
     },
     "output_type": "display_data"
    }
   ],
   "source": [
    "sns.histplot(data=df_subject_entry, x='t.diff.uwn.psych.pet.yrs')"
   ]
  },
  {
   "cell_type": "code",
   "execution_count": 68,
   "id": "1e7ac3c0",
   "metadata": {},
   "outputs": [
    {
     "data": {
      "text/plain": [
       "<AxesSubplot:xlabel='t.diff.adas.pet.yrs', ylabel='Count'>"
      ]
     },
     "execution_count": 68,
     "metadata": {},
     "output_type": "execute_result"
    },
    {
     "data": {
      "image/png": "[encoded data removed]",
      "text/plain": [
       "<Figure size 432x288 with 1 Axes>"
      ]
     },
     "metadata": {
      "needs_background": "light"
     },
     "output_type": "display_data"
    }
   ],
   "source": [
    "sns.histplot(data=df_subject_entry, x='t.diff.adas.pet.yrs')"
   ]
  },
  {
   "cell_type": "code",
   "execution_count": 69,
   "id": "a965bb14",
   "metadata": {},
   "outputs": [
    {
     "data": {
      "text/plain": [
       "<AxesSubplot:xlabel='t.diff.diagnosis.pet.yrs', ylabel='Count'>"
      ]
     },
     "execution_count": 69,
     "metadata": {},
     "output_type": "execute_result"
    },
    {
     "data": {
      "image/png": "[encoded data removed]",
      "text/plain": [
       "<Figure size 432x288 with 1 Axes>"
      ]
     },
     "metadata": {
      "needs_background": "light"
     },
     "output_type": "display_data"
    }
   ],
   "source": [
    "sns.histplot(data=df_subject_entry, x='t.diff.diagnosis.pet.yrs')"
   ]
  },
  {
   "cell_type": "markdown",
   "id": "4989d0a2",
   "metadata": {},
   "source": [
    "### Intra subject change per year"
   ]
  },
  {
   "cell_type": "code",
   "execution_count": 9,
   "id": "e6072641",
   "metadata": {},
   "outputs": [],
   "source": [
    "# Select only entries with pet-AV1251 and group them by ID\n",
    "grp_id = df_adni_tau[df_adni_tau['pet.modality'] == 'pet-AV1451'].groupby(['ID'])"
   ]
  },
  {
   "cell_type": "code",
   "execution_count": 28,
   "id": "f3ddbb13",
   "metadata": {},
   "outputs": [
    {
     "data": {
      "text/plain": [
       "<AxesSubplot:ylabel='Percent'>"
      ]
     },
     "execution_count": 28,
     "metadata": {},
     "output_type": "execute_result"
    },
    {
     "data": {
      "image/png": "[encoded data removed]",
      "text/plain": [
       "<Figure size 432x288 with 1 Axes>"
      ]
     },
     "metadata": {
      "needs_background": "light"
     },
     "output_type": "display_data"
    }
   ],
   "source": [
    "list_delta_MMSE = []\n",
    "\n",
    "# Calculate median change of MMSE per year for each subject\n",
    "for _, group in grp_id:\n",
    "    group = group.sort_values(by='ses')[['ID', 'DX', 'ses', 'MMSE', 'ADAS13', 'ADNI_MEM', 'ADNI_EF', 'ADNI_LAN', 'ADNI_VS']]\n",
    "    group['delta'] = (group['ses']-group['ses'].shift())\n",
    "    group['delta'] = group['delta'].apply(lambda x: x.days)\n",
    "    \n",
    "    group['delta_MMSE_per_ses'] = (group['MMSE']-group['MMSE'].shift())\n",
    "    group['delta_MMSE_per_year'] = group['delta_MMSE_per_ses']/group['delta']*365\n",
    "    \n",
    "    list_delta_MMSE_sub = list(group['delta_MMSE_per_year'])\n",
    "    list_delta_MMSE_sub = list(filter(lambda x: str(x) != 'nan', list_delta_MMSE_sub))\n",
    "    if list_delta_MMSE_sub:\n",
    "        list_delta_MMSE += [round(median(list_delta_MMSE_sub))]\n",
    "    \n",
    "sns.histplot(list_delta_MMSE, stat='percent', discrete=True)"
   ]
  },
  {
   "cell_type": "code",
   "execution_count": 24,
   "id": "96bef126",
   "metadata": {},
   "outputs": [
    {
     "data": {
      "text/plain": [
       "<AxesSubplot:ylabel='Percent'>"
      ]
     },
     "execution_count": 24,
     "metadata": {},
     "output_type": "execute_result"
    },
    {
     "data": {
      "image/png": "[encoded data removed]",
      "text/plain": [
       "<Figure size 432x288 with 1 Axes>"
      ]
     },
     "metadata": {
      "needs_background": "light"
     },
     "output_type": "display_data"
    }
   ],
   "source": [
    "list_delta_ADAS13 = []\n",
    "\n",
    "# Calculate median change of ADAS13 per year for each subject\n",
    "for _, group in grp_id:\n",
    "    group = group.sort_values(by='ses')[['ID', 'DX', 'ses', 'MMSE', 'ADAS13', 'ADNI_MEM', 'ADNI_EF', 'ADNI_LAN', 'ADNI_VS']]\n",
    "    group['delta'] = (group['ses']-group['ses'].shift())\n",
    "    group['delta'] = group['delta'].apply(lambda x: x.days)\n",
    "    \n",
    "    group['delta_ADAS13_per_ses'] = (group['ADAS13']-group['ADAS13'].shift())\n",
    "    group['delta_ADAS13_per_year'] = group['delta_ADAS13_per_ses']/group['delta']*365\n",
    "    \n",
    "    list_delta_sub = list(group['delta_ADAS13_per_year'])\n",
    "    list_delta_sub = list(filter(lambda x: str(x) != 'nan', list_delta_sub))\n",
    "    if list_delta_sub:\n",
    "        list_delta_ADAS13 += [median(list_delta_sub)]\n",
    "    \n",
    "sns.histplot(list_delta_ADAS13, stat='percent')"
   ]
  },
  {
   "cell_type": "markdown",
   "id": "2cd986e8",
   "metadata": {},
   "source": [
    "### Non redundancy reduced statistics"
   ]
  },
  {
   "cell_type": "code",
   "execution_count": 70,
   "id": "855e54c1",
   "metadata": {},
   "outputs": [
    {
     "data": {
      "text/plain": [
       "<AxesSubplot:xlabel='pet.modality', ylabel='count'>"
      ]
     },
     "execution_count": 70,
     "metadata": {},
     "output_type": "execute_result"
    },
    {
     "data": {
      "image/png": "[encoded data removed]",
      "text/plain": [
       "<Figure size 432x288 with 1 Axes>"
      ]
     },
     "metadata": {
      "needs_background": "light"
     },
     "output_type": "display_data"
    }
   ],
   "source": [
    "sns.countplot(data=df_adni_tau, x='pet.modality')"
   ]
  },
  {
   "cell_type": "markdown",
   "id": "c4be91fa",
   "metadata": {},
   "source": [
    "### Tabular_Info_PET"
   ]
  },
  {
   "cell_type": "code",
   "execution_count": 51,
   "id": "a3daa6de",
   "metadata": {},
   "outputs": [
    {
     "name": "stdout",
     "output_type": "stream",
     "text": [
      "ID\n",
      "age\n",
      "sex\n",
      "pet.modality\n",
      "ses\n",
      "apoe\n",
      "PTEDUCAT\n",
      "ADNI_MEM\n",
      "ADNI_EF\n",
      "ADNI_LAN\n",
      "ADNI_VS\n",
      "ADAS13\n",
      "MMSE\n",
      "mPACCtrailsB\n",
      "None\n"
     ]
    }
   ],
   "source": [
    "print(print('\\n'.join(list(df_pet_data.keys()))))"
   ]
  },
  {
   "cell_type": "code",
   "execution_count": null,
   "id": "3e2209fd",
   "metadata": {},
   "outputs": [],
   "source": []
  }
 ],
 "metadata": {
  "kernelspec": {
   "display_name": "Python 3 (ipykernel)",
   "language": "python",
   "name": "python3"
  },
  "language_info": {
   "codemirror_mode": {
    "name": "ipython",
    "version": 3
   },
   "file_extension": ".py",
   "mimetype": "text/x-python",
   "name": "python",
   "nbconvert_exporter": "python",
   "pygments_lexer": "ipython3",
   "version": "3.10.6"
  }
 },
 "nbformat": 4,
 "nbformat_minor": 5
}
