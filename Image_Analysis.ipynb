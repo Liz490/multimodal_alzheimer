{
 "cells": [
  {
   "cell_type": "code",
   "execution_count": null,
   "metadata": {},
   "outputs": [],
   "source": [
    "import os\n",
    "import nibabel as nib\n",
    "import matplotlib.pyplot as plt"
   ]
  },
  {
   "cell_type": "markdown",
   "metadata": {},
   "source": [
    "### PET-AV1451"
   ]
  },
  {
   "cell_type": "code",
   "execution_count": null,
   "metadata": {},
   "outputs": [],
   "source": [
    "path1 = '/vol/chameleon/projects/adni/data_bids_processed/sub-0021/pet-AV1451/ses-2018-02-02/sub-0021_ses-2018-02-02_pet-AV1451_MNI_2mm_INFCER_SUVR.nii.gz'\n",
    "path2 = '/vol/chameleon/projects/adni/data_bids_processed/sub-0031/pet-AV1451/ses-2018-04-24/sub-0031_ses-2018-04-24_pet-AV1451_MNI_2mm_INFCER_SUVR.nii.gz'\n",
    "path3 = '/vol/chameleon/projects/adni/data_bids_processed/sub-4620/pet-AV1451/ses-2017-12-14/sub-4620_ses-2017-12-14_pet-AV1451_MNI_2mm_INFCER_SUVR.nii.gz'"
   ]
  },
  {
   "cell_type": "code",
   "execution_count": null,
   "metadata": {},
   "outputs": [],
   "source": [
    "im1 = nib.load(path1)\n",
    "im2 = nib.load(path2)\n",
    "im3 = nib.load(path3)"
   ]
  },
  {
   "cell_type": "markdown",
   "metadata": {},
   "source": [
    "### Verify that the images have the same size"
   ]
  },
  {
   "cell_type": "code",
   "execution_count": null,
   "metadata": {},
   "outputs": [],
   "source": [
    "print(im1.shape)\n",
    "print(im2.shape)\n",
    "print(im3.shape)"
   ]
  },
  {
   "cell_type": "code",
   "execution_count": null,
   "metadata": {},
   "outputs": [],
   "source": [
    "data = im1.get_fdata()"
   ]
  },
  {
   "cell_type": "code",
   "execution_count": null,
   "metadata": {},
   "outputs": [],
   "source": [
    "fig, ax = plt.subplots(1,3)\n",
    "ax[0].imshow(data[45,:,:], cmap='jet', origin='lower')\n",
    "ax[1].imshow(data[:,55,:], cmap='Greys_r', origin='lower')\n",
    "ax[2].imshow(data[:,:,45], cmap='jet', origin='lower')"
   ]
  },
  {
   "cell_type": "code",
   "execution_count": null,
   "metadata": {},
   "outputs": [],
   "source": []
  }
 ],
 "metadata": {
  "interpreter": {
   "hash": "1d314998e699ac0d30551078ab21dc7a22e79b0cde50a681cdf04e644bb13268"
  },
  "kernelspec": {
   "display_name": "Python 3 (ipykernel)",
   "language": "python",
   "name": "python3"
  },
  "language_info": {
   "codemirror_mode": {
    "name": "ipython",
    "version": 3
   },
   "file_extension": ".py",
   "mimetype": "text/x-python",
   "name": "python",
   "nbconvert_exporter": "python",
   "pygments_lexer": "ipython3",
   "version": "3.10.6"
  }
 },
 "nbformat": 4,
 "nbformat_minor": 2
}
