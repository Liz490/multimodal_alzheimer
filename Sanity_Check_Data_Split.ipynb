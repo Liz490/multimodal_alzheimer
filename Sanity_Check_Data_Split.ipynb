{
 "cells": [
  {
   "cell_type": "code",
   "execution_count": null,
   "id": "4566a08a",
   "metadata": {},
   "outputs": [],
   "source": [
    "import pandas as pd\n",
    "import seaborn as sns\n",
    "import json\n",
    "\n",
    "f_tab_adni_tau = './data/ADNI_Tau_Amyloid_SUVR_amyloid_tau_status_dems.csv'\n",
    "\n",
    "df_adni_tau = pd.read_csv(f_tab_adni_tau, low_memory=False)\n",
    "\n",
    "with open('data_set_split.json', 'r') as f:\n",
    "    dict_split = json.load(f)"
   ]
  },
  {
   "cell_type": "code",
   "execution_count": null,
   "id": "880c20bd",
   "metadata": {},
   "outputs": [],
   "source": [
    "# Add column with train/val/test label\n",
    "df_adni_tau.loc[df_adni_tau['ID'].isin(dict_split['train']), 'split'] = 'train'\n",
    "df_adni_tau.loc[df_adni_tau['ID'].isin(dict_split['val']), 'split'] = 'val'\n",
    "df_adni_tau.loc[df_adni_tau['ID'].isin(dict_split['test']), 'split'] = 'test'"
   ]
  },
  {
   "cell_type": "code",
   "execution_count": null,
   "id": "0da9c9cb",
   "metadata": {},
   "outputs": [],
   "source": [
    "# Add column with year of session\n",
    "df_adni_tau['acq.year'] = pd.to_datetime(df_adni_tau['acq.date']).dt.year"
   ]
  },
  {
   "cell_type": "markdown",
   "id": "95a5b88f",
   "metadata": {},
   "source": [
    "### Distributions before subject redundancy removal"
   ]
  },
  {
   "cell_type": "code",
   "execution_count": null,
   "id": "05c9bb5d",
   "metadata": {},
   "outputs": [],
   "source": [
    "sns.countplot(df_adni_tau, x='split')"
   ]
  },
  {
   "cell_type": "code",
   "execution_count": null,
   "id": "a49668fd",
   "metadata": {},
   "outputs": [],
   "source": [
    "g = sns.FacetGrid(df_adni_tau, col='split')\n",
    "g.map(sns.histplot, 'acq.year', discrete=True, stat='percent')"
   ]
  },
  {
   "cell_type": "code",
   "execution_count": null,
   "id": "0e7cf13d",
   "metadata": {},
   "outputs": [],
   "source": [
    "g = sns.FacetGrid(df_adni_tau, col='split')\n",
    "g.map(sns.histplot, 'DX', stat='percent', shrink=.8)"
   ]
  },
  {
   "cell_type": "code",
   "execution_count": null,
   "id": "4e146090",
   "metadata": {},
   "outputs": [],
   "source": [
    "g = sns.FacetGrid(df_adni_tau, col='split')\n",
    "g.map(sns.histplot, 'pet.modality', stat='percent', shrink=.8)"
   ]
  },
  {
   "cell_type": "markdown",
   "id": "7c6f352d",
   "metadata": {},
   "source": [
    "### Demographics"
   ]
  },
  {
   "cell_type": "code",
   "execution_count": null,
   "id": "db355065",
   "metadata": {},
   "outputs": [],
   "source": [
    "# Drop all but the first appearance of each subject\n",
    "df_subject_unique = df_adni_tau.drop_duplicates(subset=['ID'])"
   ]
  },
  {
   "cell_type": "code",
   "execution_count": null,
   "id": "570c7d13",
   "metadata": {},
   "outputs": [],
   "source": [
    "sns.countplot(df_subject_unique, x='split', order=['train', 'val', 'test'])"
   ]
  },
  {
   "cell_type": "code",
   "execution_count": null,
   "id": "56a5d2c4",
   "metadata": {},
   "outputs": [],
   "source": [
    "g = sns.FacetGrid(df_subject_unique, col='split')\n",
    "g.map(sns.histplot, 'age', stat='percent', binwidth=5)"
   ]
  },
  {
   "cell_type": "code",
   "execution_count": null,
   "id": "ef3d240f",
   "metadata": {},
   "outputs": [],
   "source": [
    "g = sns.FacetGrid(df_subject_unique, col='split')\n",
    "g.map(sns.histplot, 'sex', stat='percent', shrink=.8)"
   ]
  }
 ],
 "metadata": {
  "kernelspec": {
   "display_name": "Python 3 (ipykernel)",
   "language": "python",
   "name": "python3"
  },
  "language_info": {
   "codemirror_mode": {
    "name": "ipython",
    "version": 3
   },
   "file_extension": ".py",
   "mimetype": "text/x-python",
   "name": "python",
   "nbconvert_exporter": "python",
   "pygments_lexer": "ipython3",
   "version": "3.10.6"
  }
 },
 "nbformat": 4,
 "nbformat_minor": 5
}
