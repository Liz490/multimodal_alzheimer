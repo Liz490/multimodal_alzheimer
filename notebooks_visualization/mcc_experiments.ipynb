{
 "cells": [
  {
   "cell_type": "code",
   "execution_count": null,
   "metadata": {},
   "outputs": [],
   "source": [
    "import numpy as np\n",
    "from sklearn.metrics import matthews_corrcoef, f1_score"
   ]
  },
  {
   "cell_type": "code",
   "execution_count": null,
   "metadata": {},
   "outputs": [],
   "source": [
    "y_hat = np.array([1, 0, 0, 1, 1, 0, 0, 0, 0, 0])\n",
    "y = np.array([1, 0, 0, 1, 0, 0, 0, 1, 0, 0])\n",
    "\n",
    "y_hat_n = np.array([1, 0, 0, 1, 1, 1, 0, 0, 0, 0])\n",
    "y_n = np.array([1, 0, 0, 1, 0, 0, 0, 1, 0, 0])\n",
    "\n",
    "y_hat_3 = np.array([1, 0, 0, 1, 0, 0, 0, 0, 0, 0])\n",
    "y_3 = np.array([1, 0, 0, 1, 0, 0, 0, 1, 0, 0])\n",
    "\n",
    "y_hat_4 = np.array([1, 1, 1, 1, 0, 0, 0, 0, 0, 0])\n",
    "y_4 = np.array([1, 1, 1, 1, 1, 0, 0, 0, 0, 0])\n",
    "\n",
    "y_hat_5 = np.array([1, 1, 1, 1, 1, 0, 0, 0, 0, 0])\n",
    "y_5 = np.array([1, 1, 1, 1, 1, 0, 0, 0, 0, 0])"
   ]
  },
  {
   "cell_type": "code",
   "execution_count": null,
   "metadata": {},
   "outputs": [],
   "source": [
    "mcc_1 = matthews_corrcoef(y, y_hat)\n",
    "f1_1 = f1_score(y, y_hat)\n",
    "mcc_2 = matthews_corrcoef(y_n, y_hat_n)\n",
    "f1_2 = f1_score(y_n, y_hat_n)\n",
    "mcc_3 = matthews_corrcoef(y_3, y_hat_3)\n",
    "f1_3 = f1_score(y_3, y_hat_3)\n",
    "mcc_4 = matthews_corrcoef(y_4, y_hat_4)\n",
    "f1_4 = f1_score(y_4, y_hat_4)\n",
    "mcc_5 = matthews_corrcoef(y_5, y_hat_5)\n",
    "f1_5 = f1_score(y_5, y_hat_5)\n"
   ]
  },
  {
   "cell_type": "code",
   "execution_count": null,
   "metadata": {},
   "outputs": [],
   "source": [
    "f1_1 - f1_2"
   ]
  },
  {
   "cell_type": "code",
   "execution_count": null,
   "metadata": {},
   "outputs": [],
   "source": [
    "mcc_1 - mcc_2"
   ]
  },
  {
   "cell_type": "code",
   "execution_count": null,
   "metadata": {},
   "outputs": [],
   "source": [
    "f1_1 - f1_3"
   ]
  },
  {
   "cell_type": "code",
   "execution_count": null,
   "metadata": {},
   "outputs": [],
   "source": [
    "mcc_1 - mcc_3"
   ]
  },
  {
   "cell_type": "code",
   "execution_count": null,
   "metadata": {},
   "outputs": [],
   "source": [
    "f1_4 - f1_5"
   ]
  },
  {
   "cell_type": "code",
   "execution_count": null,
   "metadata": {},
   "outputs": [],
   "source": [
    "mcc_4 - mcc_5"
   ]
  },
  {
   "cell_type": "code",
   "execution_count": null,
   "metadata": {},
   "outputs": [],
   "source": []
  }
 ],
 "metadata": {
  "kernelspec": {
   "display_name": "adlm",
   "language": "python",
   "name": "python3"
  },
  "language_info": {
   "codemirror_mode": {
    "name": "ipython",
    "version": 3
   },
   "file_extension": ".py",
   "mimetype": "text/x-python",
   "name": "python",
   "nbconvert_exporter": "python",
   "pygments_lexer": "ipython3",
   "version": "3.9.16"
  },
  "orig_nbformat": 4,
  "vscode": {
   "interpreter": {
    "hash": "c5ffafc730bc4ae52d9feb0e18db7bda0a5090c420433a31405f7587de18e06a"
   }
  }
 },
 "nbformat": 4,
 "nbformat_minor": 2
}
