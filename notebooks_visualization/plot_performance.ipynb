{
 "cells": [
  {
   "cell_type": "code",
   "execution_count": null,
   "metadata": {},
   "outputs": [],
   "source": [
    "import numpy as np\n",
    "import matplotlib.pyplot as plt\n",
    "import pandas as pd\n",
    "from matplotlib.colors import ListedColormap, LinearSegmentedColormap\n",
    "from matplotlib.transforms import Affine2D, ScaledTranslation"
   ]
  },
  {
   "cell_type": "code",
   "execution_count": null,
   "metadata": {},
   "outputs": [],
   "source": [
    "df_2_class = pd.read_csv('../data/2_class_scores.csv')\n",
    "df_2_class.head(7)"
   ]
  },
  {
   "cell_type": "code",
   "execution_count": null,
   "metadata": {},
   "outputs": [],
   "source": [
    "df_3_class = pd.read_csv('../data/3_class_scores.csv')\n",
    "df_3_class.head(7)"
   ]
  },
  {
   "cell_type": "code",
   "execution_count": null,
   "metadata": {},
   "outputs": [],
   "source": [
    "cmap_cont = LinearSegmentedColormap.from_list('mycmap', ['#b0cffb', '#22418e'])\n",
    "cmap_disc = ListedColormap(['#b0cffb', '#7f96cf','#22418e'])\n",
    "cmap_disc_rev = ListedColormap(['#7f96cf','#b0cffb'])\n",
    "cmap_disc_light =  ListedColormap(['#b0cffb'])\n",
    "cmap_disc_middle = ListedColormap(['#7f96cf'])"
   ]
  },
  {
   "cell_type": "code",
   "execution_count": null,
   "metadata": {},
   "outputs": [],
   "source": [
    "def limit_err_values(df, metric: str, metric_ci: str, eps=0.001):\n",
    "    y_err = np.zeros((2, len(df[metric_ci])))\n",
    "    for i in range(len(df[metric_ci])):\n",
    "        if df[metric][i] + df[metric_ci][i] > 1 - eps:  # eps to avoid clipping\n",
    "            y_err[1, i] = 1 - df[metric][i] - eps  # eps to avoid clipping\n",
    "        else:\n",
    "            y_err[1, i] = df[metric_ci][i]\n",
    "        if df[metric][i] - df[metric_ci][i] < 0 + eps:\n",
    "            y_err[0, i] = df[metric][i] - eps  # eps to avoid clipping\n",
    "        else:\n",
    "            y_err[0, i] = df[metric_ci][i]\n",
    "    return y_err\n",
    "\n",
    "\n",
    "def plot_bar(df):\n",
    "    fig, ax = plt.subplots(figsize=(10, 6))\n",
    "\n",
    "    kwargs = {\n",
    "        'kind': 'bar',\n",
    "        'x': 'model',\n",
    "        'ylim': (0, 1.0),\n",
    "        'ax': ax,\n",
    "        'width': 0.3,\n",
    "        'capsize': 2,\n",
    "        'ecolor': 'black',\n",
    "    }\n",
    "\n",
    "    y_err_f1 = limit_err_values(df, 'F1', 'F1-CI')\n",
    "    y_err_mcc = limit_err_values(df, 'MCC', 'MCC-CI')\n",
    "    \n",
    "    df.plot(y='F1', yerr=y_err_f1, colormap=cmap_disc_middle, position=1, **kwargs)\n",
    "    # df.plot(y='F1-test', yerr='CI-F1-test', colormap=cmap_disc_middle, position=1, **kwargs)\n",
    "    df.plot(y='MCC', yerr=y_err_mcc, colormap=cmap_disc_light, position=0, **kwargs)\n",
    "\n",
    "    # df.plot(kind='bar', x='model', y='F1-test', yerr='CI-F1-test', ylim=(0, 1.0), colormap=cmap_disc_middle, ax=ax, position=1, width=width, capsize=2)\n",
    "    # df.plot(kind='bar', x='model', y='MCC-test', yerr='CI-MCC-test', ylim=(0, 1.0), colormap=cmap_disc_light, ax=ax, position=0, width=width)\n",
    "    plt.xticks(rotation=45)\n",
    "    plt.ylabel('Score')\n",
    "    plt.xlabel('Modalities')\n",
    "\n",
    "    ax.set_position([0.1, 0.1, 0.6, 0.8])\n",
    "    ax.legend(loc='center left', bbox_to_anchor=(1.0, 0.9))\n",
    "    plt.xlim(-0.55, None)\n",
    "\n",
    "    ax.spines[['right', 'top']].set_visible(False)\n",
    "    return fig\n",
    "\n",
    "\n",
    "def plot_val_bar(df):\n",
    "    fig, ax = plt.subplots(figsize=(10, 6))\n",
    "\n",
    "    kwargs = {\n",
    "        'kind': 'bar',\n",
    "        'x': 'model',\n",
    "        'ylim': (0, 1.0),\n",
    "        'ax': ax,\n",
    "        'width': 0.3,\n",
    "        'capsize': 2,\n",
    "        'ecolor': 'black',\n",
    "    }\n",
    "    \n",
    "    df.plot(y='val-F1', colormap=cmap_disc_middle, **kwargs)\n",
    "    # df.plot(y='F1-test', yerr='CI-F1-test', colormap=cmap_disc_middle, position=1, **kwargs)\n",
    "    # df.plot(y='MCC', yerr=y_err_mcc, colormap=cmap_disc_light, position=0, **kwargs)\n",
    "\n",
    "    # df.plot(kind='bar', x='model', y='F1-test', yerr='CI-F1-test', ylim=(0, 1.0), colormap=cmap_disc_middle, ax=ax, position=1, width=width, capsize=2)\n",
    "    # df.plot(kind='bar', x='model', y='MCC-test', yerr='CI-MCC-test', ylim=(0, 1.0), colormap=cmap_disc_light, ax=ax, position=0, width=width)\n",
    "    plt.xticks(rotation=45)\n",
    "    plt.ylabel('Score')\n",
    "    plt.xlabel('Modalities')\n",
    "\n",
    "    ax.set_position([0.1, 0.1, 0.6, 0.8])\n",
    "    ax.legend(loc='center left', bbox_to_anchor=(1.0, 0.9))\n",
    "    plt.xlim(-0.55, None)\n",
    "\n",
    "    ax.spines[['right', 'top']].set_visible(False)\n",
    "    return fig"
   ]
  },
  {
   "cell_type": "code",
   "execution_count": null,
   "metadata": {},
   "outputs": [],
   "source": [
    "fig = plot_bar(df_2_class)\n",
    "fig.savefig('../data/images/2_class_scores_bars.png', dpi=300, transparent=True, bbox_inches='tight')"
   ]
  },
  {
   "cell_type": "code",
   "execution_count": null,
   "metadata": {},
   "outputs": [],
   "source": [
    "fig = plot_bar(df_3_class)\n",
    "fig.savefig('../data/images/3_class_scores_bars.png', dpi=300, transparent=True, bbox_inches='tight')"
   ]
  },
  {
   "cell_type": "code",
   "execution_count": null,
   "metadata": {},
   "outputs": [],
   "source": [
    "fig = plot_val_bar(df_2_class)\n",
    "fig.savefig('../data/images/2_class_val_scores_bars.png', dpi=300, transparent=True, bbox_inches='tight')"
   ]
  },
  {
   "cell_type": "code",
   "execution_count": null,
   "metadata": {},
   "outputs": [],
   "source": [
    "fig = plot_val_bar(df_3_class)\n",
    "fig.savefig('../data/images/3_class_val_scores_bars.png', dpi=300, transparent=True, bbox_inches='tight')"
   ]
  },
  {
   "cell_type": "code",
   "execution_count": null,
   "metadata": {},
   "outputs": [],
   "source": [
    "def plot_points(df):\n",
    "    fig, ax = plt.subplots()\n",
    "    trans1 = Affine2D().translate(-0.1, 0.0) + ax.transData\n",
    "    trans2 = Affine2D().translate(+0.1, 0.0) + ax.transData\n",
    "\n",
    "    y_err_f1 = limit_err_values(df, 'F1', 'F1-CI', eps=0.002)\n",
    "    y_err_mcc = limit_err_values(df, 'MCC', 'MCC-CI', eps=0.002)\n",
    "\n",
    "    plt.errorbar(x=df['model'], y=df['F1'], yerr=y_err_f1, fmt='o', color='#22418e', transform=trans1, capsize=2, label='F1')\n",
    "    plt.errorbar(x=df['model'], y=df['MCC'], yerr=y_err_mcc, fmt='o', color='#7f96cf', transform=trans2, capsize=2, label='MCC')\n",
    "\n",
    "    plt.xticks(rotation=45)\n",
    "    plt.ylabel('Score')\n",
    "    plt.xlabel('Modalities')\n",
    "    plt.legend(['F1', 'MCC'])\n",
    "\n",
    "    plt.ylim(0, 1.0)\n",
    "    ax.spines[['right', 'top']].set_visible(False)\n",
    "\n",
    "    # position legend in lower right corner\n",
    "    ax.legend(loc='center left', bbox_to_anchor=(1.0, 0.9))\n",
    "    return fig"
   ]
  },
  {
   "cell_type": "code",
   "execution_count": null,
   "metadata": {},
   "outputs": [],
   "source": [
    "fig = plot_points(df_2_class)\n",
    "fig.savefig('../data/images/2_class_scores_points.png', dpi=300, transparent=True, bbox_inches='tight')"
   ]
  },
  {
   "cell_type": "code",
   "execution_count": null,
   "metadata": {},
   "outputs": [],
   "source": [
    "fig = plot_points(df_3_class)\n",
    "fig.savefig('../data/images/3_class_scores_points.png', dpi=300, transparent=True, bbox_inches='tight')"
   ]
  }
 ],
 "metadata": {
  "kernelspec": {
   "display_name": "adlm",
   "language": "python",
   "name": "python3"
  },
  "language_info": {
   "codemirror_mode": {
    "name": "ipython",
    "version": 3
   },
   "file_extension": ".py",
   "mimetype": "text/x-python",
   "name": "python",
   "nbconvert_exporter": "python",
   "pygments_lexer": "ipython3",
   "version": "3.9.16"
  },
  "orig_nbformat": 4,
  "vscode": {
   "interpreter": {
    "hash": "c5ffafc730bc4ae52d9feb0e18db7bda0a5090c420433a31405f7587de18e06a"
   }
  }
 },
 "nbformat": 4,
 "nbformat_minor": 2
}
